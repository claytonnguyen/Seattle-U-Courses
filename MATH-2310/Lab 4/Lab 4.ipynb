{
 "cells": [
  {
   "cell_type": "code",
   "execution_count": 1,
   "metadata": {},
   "outputs": [
    {
     "name": "stderr",
     "output_type": "stream",
     "text": [
      "-- \u001b[1mAttaching packages\u001b[22m ------------------------------------------------------------------------------- tidyverse 1.3.0 --\n",
      "\n",
      "\u001b[32mv\u001b[39m \u001b[34mggplot2\u001b[39m 3.3.3     \u001b[32mv\u001b[39m \u001b[34mpurrr  \u001b[39m 0.3.4\n",
      "\u001b[32mv\u001b[39m \u001b[34mtibble \u001b[39m 3.0.4     \u001b[32mv\u001b[39m \u001b[34mdplyr  \u001b[39m 1.0.2\n",
      "\u001b[32mv\u001b[39m \u001b[34mtidyr  \u001b[39m 1.1.2     \u001b[32mv\u001b[39m \u001b[34mstringr\u001b[39m 1.4.0\n",
      "\u001b[32mv\u001b[39m \u001b[34mreadr  \u001b[39m 1.4.0     \u001b[32mv\u001b[39m \u001b[34mforcats\u001b[39m 0.5.0\n",
      "\n",
      "-- \u001b[1mConflicts\u001b[22m ---------------------------------------------------------------------------------- tidyverse_conflicts() --\n",
      "\u001b[31mx\u001b[39m \u001b[34mdplyr\u001b[39m::\u001b[32mfilter()\u001b[39m masks \u001b[34mstats\u001b[39m::filter()\n",
      "\u001b[31mx\u001b[39m \u001b[34mdplyr\u001b[39m::\u001b[32mlag()\u001b[39m    masks \u001b[34mstats\u001b[39m::lag()\n",
      "\n"
     ]
    }
   ],
   "source": [
    "library(tidyverse)"
   ]
  },
  {
   "cell_type": "code",
   "execution_count": 2,
   "metadata": {},
   "outputs": [],
   "source": [
    "library(mosaicData)"
   ]
  },
  {
   "cell_type": "code",
   "execution_count": 3,
   "metadata": {},
   "outputs": [],
   "source": [
    "help(Utilities)"
   ]
  },
  {
   "cell_type": "code",
   "execution_count": 4,
   "metadata": {},
   "outputs": [
    {
     "data": {
      "text/html": [
       "<table>\n",
       "<caption>A data.frame: 6 × 12</caption>\n",
       "<thead>\n",
       "\t<tr><th></th><th scope=col>month</th><th scope=col>day</th><th scope=col>year</th><th scope=col>temp</th><th scope=col>kwh</th><th scope=col>ccf</th><th scope=col>thermsPerDay</th><th scope=col>billingDays</th><th scope=col>totalbill</th><th scope=col>gasbill</th><th scope=col>elecbill</th><th scope=col>notes</th></tr>\n",
       "\t<tr><th></th><th scope=col>&lt;int&gt;</th><th scope=col>&lt;int&gt;</th><th scope=col>&lt;int&gt;</th><th scope=col>&lt;int&gt;</th><th scope=col>&lt;int&gt;</th><th scope=col>&lt;int&gt;</th><th scope=col>&lt;dbl&gt;</th><th scope=col>&lt;int&gt;</th><th scope=col>&lt;dbl&gt;</th><th scope=col>&lt;dbl&gt;</th><th scope=col>&lt;dbl&gt;</th><th scope=col>&lt;fct&gt;</th></tr>\n",
       "</thead>\n",
       "<tbody>\n",
       "\t<tr><th scope=row>1</th><td>12</td><td>29</td><td>1999</td><td>26</td><td>892</td><td>194</td><td>5.5</td><td>36</td><td>173.65</td><td>112.72</td><td>68.25</td><td>                 </td></tr>\n",
       "\t<tr><th scope=row>2</th><td> 1</td><td>28</td><td>2000</td><td>18</td><td>533</td><td>164</td><td>5.6</td><td>30</td><td>139.18</td><td> 95.88</td><td>43.30</td><td>                 </td></tr>\n",
       "\t<tr><th scope=row>3</th><td> 2</td><td>26</td><td>2000</td><td>24</td><td>521</td><td>228</td><td>8.0</td><td>29</td><td>177.48</td><td>134.65</td><td>42.83</td><td>                 </td></tr>\n",
       "\t<tr><th scope=row>4</th><td> 3</td><td>25</td><td>2000</td><td>41</td><td>554</td><td> 16</td><td>0.6</td><td>28</td><td> 61.27</td><td> 15.32</td><td>45.95</td><td>bad meter reading</td></tr>\n",
       "\t<tr><th scope=row>5</th><td> 4</td><td>28</td><td>2000</td><td>45</td><td>638</td><td> 74</td><td>2.2</td><td>34</td><td>100.33</td><td> 47.33</td><td>53.00</td><td>                 </td></tr>\n",
       "\t<tr><th scope=row>6</th><td> 5</td><td>30</td><td>2000</td><td>60</td><td>700</td><td>129</td><td>4.1</td><td>32</td><td>153.32</td><td> 89.87</td><td>63.45</td><td>                 </td></tr>\n",
       "</tbody>\n",
       "</table>\n"
      ],
      "text/latex": [
       "A data.frame: 6 × 12\n",
       "\\begin{tabular}{r|llllllllllll}\n",
       "  & month & day & year & temp & kwh & ccf & thermsPerDay & billingDays & totalbill & gasbill & elecbill & notes\\\\\n",
       "  & <int> & <int> & <int> & <int> & <int> & <int> & <dbl> & <int> & <dbl> & <dbl> & <dbl> & <fct>\\\\\n",
       "\\hline\n",
       "\t1 & 12 & 29 & 1999 & 26 & 892 & 194 & 5.5 & 36 & 173.65 & 112.72 & 68.25 &                  \\\\\n",
       "\t2 &  1 & 28 & 2000 & 18 & 533 & 164 & 5.6 & 30 & 139.18 &  95.88 & 43.30 &                  \\\\\n",
       "\t3 &  2 & 26 & 2000 & 24 & 521 & 228 & 8.0 & 29 & 177.48 & 134.65 & 42.83 &                  \\\\\n",
       "\t4 &  3 & 25 & 2000 & 41 & 554 &  16 & 0.6 & 28 &  61.27 &  15.32 & 45.95 & bad meter reading\\\\\n",
       "\t5 &  4 & 28 & 2000 & 45 & 638 &  74 & 2.2 & 34 & 100.33 &  47.33 & 53.00 &                  \\\\\n",
       "\t6 &  5 & 30 & 2000 & 60 & 700 & 129 & 4.1 & 32 & 153.32 &  89.87 & 63.45 &                  \\\\\n",
       "\\end{tabular}\n"
      ],
      "text/markdown": [
       "\n",
       "A data.frame: 6 × 12\n",
       "\n",
       "| <!--/--> | month &lt;int&gt; | day &lt;int&gt; | year &lt;int&gt; | temp &lt;int&gt; | kwh &lt;int&gt; | ccf &lt;int&gt; | thermsPerDay &lt;dbl&gt; | billingDays &lt;int&gt; | totalbill &lt;dbl&gt; | gasbill &lt;dbl&gt; | elecbill &lt;dbl&gt; | notes &lt;fct&gt; |\n",
       "|---|---|---|---|---|---|---|---|---|---|---|---|---|\n",
       "| 1 | 12 | 29 | 1999 | 26 | 892 | 194 | 5.5 | 36 | 173.65 | 112.72 | 68.25 | <!----> |\n",
       "| 2 |  1 | 28 | 2000 | 18 | 533 | 164 | 5.6 | 30 | 139.18 |  95.88 | 43.30 | <!----> |\n",
       "| 3 |  2 | 26 | 2000 | 24 | 521 | 228 | 8.0 | 29 | 177.48 | 134.65 | 42.83 | <!----> |\n",
       "| 4 |  3 | 25 | 2000 | 41 | 554 |  16 | 0.6 | 28 |  61.27 |  15.32 | 45.95 | bad meter reading |\n",
       "| 5 |  4 | 28 | 2000 | 45 | 638 |  74 | 2.2 | 34 | 100.33 |  47.33 | 53.00 | <!----> |\n",
       "| 6 |  5 | 30 | 2000 | 60 | 700 | 129 | 4.1 | 32 | 153.32 |  89.87 | 63.45 | <!----> |\n",
       "\n"
      ],
      "text/plain": [
       "  month day year temp kwh ccf thermsPerDay billingDays totalbill gasbill\n",
       "1 12    29  1999 26   892 194 5.5          36          173.65    112.72 \n",
       "2  1    28  2000 18   533 164 5.6          30          139.18     95.88 \n",
       "3  2    26  2000 24   521 228 8.0          29          177.48    134.65 \n",
       "4  3    25  2000 41   554  16 0.6          28           61.27     15.32 \n",
       "5  4    28  2000 45   638  74 2.2          34          100.33     47.33 \n",
       "6  5    30  2000 60   700 129 4.1          32          153.32     89.87 \n",
       "  elecbill notes            \n",
       "1 68.25                     \n",
       "2 43.30                     \n",
       "3 42.83                     \n",
       "4 45.95    bad meter reading\n",
       "5 53.00                     \n",
       "6 63.45                     "
      ]
     },
     "metadata": {},
     "output_type": "display_data"
    }
   ],
   "source": [
    "head(Utilities)"
   ]
  },
  {
   "cell_type": "markdown",
   "metadata": {},
   "source": [
    "Question 1 of RP:"
   ]
  },
  {
   "cell_type": "code",
   "execution_count": 5,
   "metadata": {},
   "outputs": [],
   "source": [
    "cor_ccf_temp <- cor(Utilities$ccf, Utilities$temp)"
   ]
  },
  {
   "cell_type": "code",
   "execution_count": 6,
   "metadata": {},
   "outputs": [
    {
     "data": {
      "text/html": [
       "-0.954884429060639"
      ],
      "text/latex": [
       "-0.954884429060639"
      ],
      "text/markdown": [
       "-0.954884429060639"
      ],
      "text/plain": [
       "[1] -0.9548844"
      ]
     },
     "metadata": {},
     "output_type": "display_data"
    }
   ],
   "source": [
    "cor_ccf_temp"
   ]
  },
  {
   "cell_type": "markdown",
   "metadata": {},
   "source": [
    "Question 2 of RP:"
   ]
  },
  {
   "cell_type": "code",
   "execution_count": 7,
   "metadata": {},
   "outputs": [
    {
     "name": "stderr",
     "output_type": "stream",
     "text": [
      "`geom_smooth()` using formula 'y ~ x'\n",
      "\n"
     ]
    },
    {
     "data": {
      "image/png": "[encoded data removed]",
      "text/plain": [
       "plot without title"
      ]
     },
     "metadata": {
      "image/png": {
       "height": 420,
       "width": 420
      }
     },
     "output_type": "display_data"
    }
   ],
   "source": [
    "ggplot(Utilities,aes(x = temp,y = ccf))+\n",
    "    geom_point()+\n",
    "    geom_smooth(method = 'lm', se = FALSE)"
   ]
  },
  {
   "cell_type": "markdown",
   "metadata": {},
   "source": [
    "Question 3 of RP:"
   ]
  },
  {
   "cell_type": "code",
   "execution_count": 8,
   "metadata": {},
   "outputs": [
    {
     "data": {
      "image/png": "[encoded data removed]",
      "text/plain": [
       "plot without title"
      ]
     },
     "metadata": {
      "image/png": {
       "height": 420,
       "width": 420
      }
     },
     "output_type": "display_data"
    }
   ],
   "source": [
    "lm(ccf ~ temp, Utilities) %>% \n",
    "    ggplot(aes(.fitted, .resid)) + \n",
    "    geom_point()"
   ]
  },
  {
   "cell_type": "code",
   "execution_count": 9,
   "metadata": {},
   "outputs": [
    {
     "data": {
      "text/html": [
       "<table>\n",
       "<caption>A data.frame: 6 × 4</caption>\n",
       "<thead>\n",
       "\t<tr><th></th><th scope=col>temp</th><th scope=col>ccf</th><th scope=col>predicted</th><th scope=col>residuals</th></tr>\n",
       "\t<tr><th></th><th scope=col>&lt;int&gt;</th><th scope=col>&lt;int&gt;</th><th scope=col>&lt;dbl&gt;</th><th scope=col>&lt;dbl&gt;</th></tr>\n",
       "</thead>\n",
       "<tbody>\n",
       "\t<tr><th scope=row>1</th><td>26</td><td>194</td><td>161.69516</td><td> 32.30484</td></tr>\n",
       "\t<tr><th scope=row>2</th><td>18</td><td>164</td><td>189.32348</td><td>-25.32348</td></tr>\n",
       "\t<tr><th scope=row>3</th><td>24</td><td>228</td><td>168.60224</td><td> 59.39776</td></tr>\n",
       "\t<tr><th scope=row>4</th><td>41</td><td> 16</td><td>109.89206</td><td>-93.89206</td></tr>\n",
       "\t<tr><th scope=row>5</th><td>45</td><td> 74</td><td> 96.07791</td><td>-22.07791</td></tr>\n",
       "\t<tr><th scope=row>6</th><td>60</td><td>129</td><td> 44.27481</td><td> 84.72519</td></tr>\n",
       "</tbody>\n",
       "</table>\n"
      ],
      "text/latex": [
       "A data.frame: 6 × 4\n",
       "\\begin{tabular}{r|llll}\n",
       "  & temp & ccf & predicted & residuals\\\\\n",
       "  & <int> & <int> & <dbl> & <dbl>\\\\\n",
       "\\hline\n",
       "\t1 & 26 & 194 & 161.69516 &  32.30484\\\\\n",
       "\t2 & 18 & 164 & 189.32348 & -25.32348\\\\\n",
       "\t3 & 24 & 228 & 168.60224 &  59.39776\\\\\n",
       "\t4 & 41 &  16 & 109.89206 & -93.89206\\\\\n",
       "\t5 & 45 &  74 &  96.07791 & -22.07791\\\\\n",
       "\t6 & 60 & 129 &  44.27481 &  84.72519\\\\\n",
       "\\end{tabular}\n"
      ],
      "text/markdown": [
       "\n",
       "A data.frame: 6 × 4\n",
       "\n",
       "| <!--/--> | temp &lt;int&gt; | ccf &lt;int&gt; | predicted &lt;dbl&gt; | residuals &lt;dbl&gt; |\n",
       "|---|---|---|---|---|\n",
       "| 1 | 26 | 194 | 161.69516 |  32.30484 |\n",
       "| 2 | 18 | 164 | 189.32348 | -25.32348 |\n",
       "| 3 | 24 | 228 | 168.60224 |  59.39776 |\n",
       "| 4 | 41 |  16 | 109.89206 | -93.89206 |\n",
       "| 5 | 45 |  74 |  96.07791 | -22.07791 |\n",
       "| 6 | 60 | 129 |  44.27481 |  84.72519 |\n",
       "\n"
      ],
      "text/plain": [
       "  temp ccf predicted residuals\n",
       "1 26   194 161.69516  32.30484\n",
       "2 18   164 189.32348 -25.32348\n",
       "3 24   228 168.60224  59.39776\n",
       "4 41    16 109.89206 -93.89206\n",
       "5 45    74  96.07791 -22.07791\n",
       "6 60   129  44.27481  84.72519"
      ]
     },
     "metadata": {},
     "output_type": "display_data"
    }
   ],
   "source": [
    "fit <- lm(ccf ~ temp, Utilities)\n",
    "TempVsCcf <- Utilities %>% select(temp,ccf)\n",
    "TempVsCcf$predicted <- predict(fit)\n",
    "TempVsCcf$residuals <- residuals(fit)\n",
    "head(TempVsCcf)"
   ]
  },
  {
   "cell_type": "code",
   "execution_count": 10,
   "metadata": {},
   "outputs": [
    {
     "data": {
      "image/png": "[encoded data removed]",
      "text/plain": [
       "plot without title"
      ]
     },
     "metadata": {
      "image/png": {
       "height": 420,
       "width": 420
      }
     },
     "output_type": "display_data"
    }
   ],
   "source": [
    "ggplot(TempVsCcf,aes(x=temp, y=residuals)) + \n",
    "    geom_point()"
   ]
  },
  {
   "cell_type": "markdown",
   "metadata": {},
   "source": [
    "Question 4 of RP:\n",
    "87 ccf if we use linear model to predict the gas usage when the temperature is 47 degrees."
   ]
  },
  {
   "cell_type": "markdown",
   "metadata": {},
   "source": [
    "Question 1 of Project 5:"
   ]
  },
  {
   "cell_type": "code",
   "execution_count": 11,
   "metadata": {},
   "outputs": [
    {
     "name": "stderr",
     "output_type": "stream",
     "text": [
      "\n",
      "\u001b[36m--\u001b[39m \u001b[1m\u001b[1mColumn specification\u001b[1m\u001b[22m \u001b[36m------------------------------------------------------------------------------------------------\u001b[39m\n",
      "cols(\n",
      "  Date = \u001b[31mcol_character()\u001b[39m,\n",
      "  AMC_Open = \u001b[32mcol_double()\u001b[39m,\n",
      "  GME_Open = \u001b[32mcol_double()\u001b[39m,\n",
      "  AMC_High = \u001b[32mcol_double()\u001b[39m,\n",
      "  GME_High = \u001b[32mcol_double()\u001b[39m,\n",
      "  AMC_Low = \u001b[32mcol_double()\u001b[39m,\n",
      "  GME_Low = \u001b[32mcol_double()\u001b[39m,\n",
      "  AMC_Close = \u001b[32mcol_double()\u001b[39m,\n",
      "  GME_Close = \u001b[32mcol_double()\u001b[39m,\n",
      "  AMC_Volume = \u001b[32mcol_double()\u001b[39m,\n",
      "  GME_Volume = \u001b[32mcol_double()\u001b[39m\n",
      ")\n",
      "\n",
      "\n"
     ]
    }
   ],
   "source": [
    "stocks <- read_csv(\"AMC_GME.csv\")"
   ]
  },
  {
   "cell_type": "markdown",
   "metadata": {},
   "source": [
    "Question 2 of Project 5:"
   ]
  },
  {
   "cell_type": "code",
   "execution_count": 12,
   "metadata": {},
   "outputs": [],
   "source": [
    "cor_GME_AMC <- cor(stocks$GME_Open, stocks$AMC_Open)"
   ]
  },
  {
   "cell_type": "code",
   "execution_count": 13,
   "metadata": {},
   "outputs": [
    {
     "data": {
      "text/html": [
       "0.95856496962701"
      ],
      "text/latex": [
       "0.95856496962701"
      ],
      "text/markdown": [
       "0.95856496962701"
      ],
      "text/plain": [
       "[1] 0.958565"
      ]
     },
     "metadata": {},
     "output_type": "display_data"
    }
   ],
   "source": [
    "cor_GME_AMC"
   ]
  },
  {
   "cell_type": "code",
   "execution_count": 14,
   "metadata": {},
   "outputs": [
    {
     "data": {
      "text/plain": [
       "\n",
       "Call:\n",
       "lm(formula = AMC_Open ~ GME_Open, data = stocks)\n",
       "\n",
       "Coefficients:\n",
       "(Intercept)     GME_Open  \n",
       "    1.46678      0.04491  \n"
      ]
     },
     "metadata": {},
     "output_type": "display_data"
    }
   ],
   "source": [
    "lm(AMC_Open ~ GME_Open, stocks)"
   ]
  },
  {
   "cell_type": "markdown",
   "metadata": {},
   "source": [
    "y = (0.04491)x + 1.46678\n",
    "(y - AMC_Open)\n",
    "(x - GME_Open)"
   ]
  },
  {
   "cell_type": "code",
   "execution_count": 15,
   "metadata": {},
   "outputs": [
    {
     "data": {
      "text/html": [
       "0.91884680099603"
      ],
      "text/latex": [
       "0.91884680099603"
      ],
      "text/markdown": [
       "0.91884680099603"
      ],
      "text/plain": [
       "[1] 0.9188468"
      ]
     },
     "metadata": {},
     "output_type": "display_data"
    }
   ],
   "source": [
    "summary(lm(AMC_Open ~ GME_Open, stocks))$r.squared"
   ]
  },
  {
   "cell_type": "markdown",
   "metadata": {},
   "source": [
    "Interpretation: The calculations tell me that the two stocks are correlated since the coefficient of determination and the correlation are close to 1, ~.91 and ~.95"
   ]
  },
  {
   "cell_type": "markdown",
   "metadata": {},
   "source": [
    "Question 3 of Project 5:"
   ]
  },
  {
   "cell_type": "code",
   "execution_count": 16,
   "metadata": {},
   "outputs": [
    {
     "data": {
      "text/html": [
       "<table>\n",
       "<caption>A tibble: 6 × 4</caption>\n",
       "<thead>\n",
       "\t<tr><th scope=col>GME_Open</th><th scope=col>AMC_Open</th><th scope=col>predicted</th><th scope=col>residuals</th></tr>\n",
       "\t<tr><th scope=col>&lt;dbl&gt;</th><th scope=col>&lt;dbl&gt;</th><th scope=col>&lt;dbl&gt;</th><th scope=col>&lt;dbl&gt;</th></tr>\n",
       "</thead>\n",
       "<tbody>\n",
       "\t<tr><td>19.00</td><td>2.20</td><td>2.319980</td><td>-0.1199799</td></tr>\n",
       "\t<tr><td>17.35</td><td>1.99</td><td>2.245887</td><td>-0.2558866</td></tr>\n",
       "\t<tr><td>17.34</td><td>2.03</td><td>2.245438</td><td>-0.2154375</td></tr>\n",
       "\t<tr><td>18.47</td><td>2.08</td><td>2.296180</td><td>-0.2161802</td></tr>\n",
       "\t<tr><td>18.18</td><td>2.09</td><td>2.283158</td><td>-0.1931577</td></tr>\n",
       "\t<tr><td>19.41</td><td>2.16</td><td>2.338391</td><td>-0.1783909</td></tr>\n",
       "</tbody>\n",
       "</table>\n"
      ],
      "text/latex": [
       "A tibble: 6 × 4\n",
       "\\begin{tabular}{llll}\n",
       " GME\\_Open & AMC\\_Open & predicted & residuals\\\\\n",
       " <dbl> & <dbl> & <dbl> & <dbl>\\\\\n",
       "\\hline\n",
       "\t 19.00 & 2.20 & 2.319980 & -0.1199799\\\\\n",
       "\t 17.35 & 1.99 & 2.245887 & -0.2558866\\\\\n",
       "\t 17.34 & 2.03 & 2.245438 & -0.2154375\\\\\n",
       "\t 18.47 & 2.08 & 2.296180 & -0.2161802\\\\\n",
       "\t 18.18 & 2.09 & 2.283158 & -0.1931577\\\\\n",
       "\t 19.41 & 2.16 & 2.338391 & -0.1783909\\\\\n",
       "\\end{tabular}\n"
      ],
      "text/markdown": [
       "\n",
       "A tibble: 6 × 4\n",
       "\n",
       "| GME_Open &lt;dbl&gt; | AMC_Open &lt;dbl&gt; | predicted &lt;dbl&gt; | residuals &lt;dbl&gt; |\n",
       "|---|---|---|---|\n",
       "| 19.00 | 2.20 | 2.319980 | -0.1199799 |\n",
       "| 17.35 | 1.99 | 2.245887 | -0.2558866 |\n",
       "| 17.34 | 2.03 | 2.245438 | -0.2154375 |\n",
       "| 18.47 | 2.08 | 2.296180 | -0.2161802 |\n",
       "| 18.18 | 2.09 | 2.283158 | -0.1931577 |\n",
       "| 19.41 | 2.16 | 2.338391 | -0.1783909 |\n",
       "\n"
      ],
      "text/plain": [
       "  GME_Open AMC_Open predicted residuals \n",
       "1 19.00    2.20     2.319980  -0.1199799\n",
       "2 17.35    1.99     2.245887  -0.2558866\n",
       "3 17.34    2.03     2.245438  -0.2154375\n",
       "4 18.47    2.08     2.296180  -0.2161802\n",
       "5 18.18    2.09     2.283158  -0.1931577\n",
       "6 19.41    2.16     2.338391  -0.1783909"
      ]
     },
     "metadata": {},
     "output_type": "display_data"
    }
   ],
   "source": [
    "fit <- lm(AMC_Open ~ GME_Open, stocks)\n",
    "GMEVsAMC <- stocks %>% select(GME_Open,AMC_Open)\n",
    "GMEVsAMC$predicted <- predict(fit)\n",
    "GMEVsAMC$residuals <- residuals(fit)\n",
    "head(GMEVsAMC)"
   ]
  },
  {
   "cell_type": "code",
   "execution_count": 67,
   "metadata": {},
   "outputs": [
    {
     "data": {
      "image/png": "[encoded data removed]",
      "text/plain": [
       "plot without title"
      ]
     },
     "metadata": {
      "image/png": {
       "height": 420,
       "width": 420
      }
     },
     "output_type": "display_data"
    }
   ],
   "source": [
    "ggplot(GMEVsAMC,aes(x=GME_Open, y=residuals)) + \n",
    "    geom_point()"
   ]
  },
  {
   "cell_type": "markdown",
   "metadata": {},
   "source": [
    "Explanation: I do think the linear model captures the full relationship because the residual plot expresses no pattern. Therefore, the linear model captures a good relationship between the two stock openings."
   ]
  },
  {
   "cell_type": "markdown",
   "metadata": {},
   "source": [
    "Question 4 of Project 5:"
   ]
  },
  {
   "cell_type": "code",
   "execution_count": 18,
   "metadata": {},
   "outputs": [
    {
     "name": "stderr",
     "output_type": "stream",
     "text": [
      "`geom_smooth()` using formula 'y ~ x'\n",
      "\n"
     ]
    },
    {
     "data": {
      "image/png": "[encoded data removed]",
      "text/plain": [
       "plot without title"
      ]
     },
     "metadata": {
      "image/png": {
       "height": 420,
       "width": 420
      }
     },
     "output_type": "display_data"
    }
   ],
   "source": [
    "ggplot(stocks,aes(x = GME_Open,y = AMC_Open))+\n",
    "    geom_point()+\n",
    "    geom_smooth(method = 'lm', se = FALSE)"
   ]
  },
  {
   "cell_type": "code",
   "execution_count": 30,
   "metadata": {},
   "outputs": [],
   "source": [
    "model_summary<-summary(lm(AMC_Open ~ GME_Open, stocks))"
   ]
  },
  {
   "cell_type": "code",
   "execution_count": 54,
   "metadata": {},
   "outputs": [],
   "source": [
    "ms <- (7 - model_summary$coefficients[1])/model_summary$coefficients[2] "
   ]
  },
  {
   "cell_type": "code",
   "execution_count": 55,
   "metadata": {
    "scrolled": true
   },
   "outputs": [
    {
     "data": {
      "text/html": [
       "123.220384135674"
      ],
      "text/latex": [
       "123.220384135674"
      ],
      "text/markdown": [
       "123.220384135674"
      ],
      "text/plain": [
       "[1] 123.2204"
      ]
     },
     "metadata": {},
     "output_type": "display_data"
    }
   ],
   "source": [
    "ms"
   ]
  },
  {
   "cell_type": "markdown",
   "metadata": {},
   "source": [
    "If the opening rate for AMC is 7 dollars is the predicted opening rate for GME is 123.22 dollars"
   ]
  },
  {
   "cell_type": "markdown",
   "metadata": {},
   "source": [
    "Question 5 of Project 5:"
   ]
  },
  {
   "cell_type": "code",
   "execution_count": 19,
   "metadata": {
    "scrolled": false
   },
   "outputs": [
    {
     "data": {
      "image/png": "[encoded data removed]",
      "text/plain": [
       "plot without title"
      ]
     },
     "metadata": {
      "image/png": {
       "height": 420,
       "width": 420
      }
     },
     "output_type": "display_data"
    }
   ],
   "source": [
    "lm(AMC_Open ~ GME_Open, stocks) %>% \n",
    "    ggplot(aes(.fitted, .resid)) + \n",
    "    geom_point()"
   ]
  },
  {
   "cell_type": "code",
   "execution_count": 20,
   "metadata": {
    "scrolled": false
   },
   "outputs": [
    {
     "data": {
      "image/png": "[encoded data removed]",
      "text/plain": [
       "plot without title"
      ]
     },
     "metadata": {
      "image/png": {
       "height": 420,
       "width": 420
      }
     },
     "output_type": "display_data"
    }
   ],
   "source": [
    "lm(AMC_Close ~ GME_Close, stocks) %>% \n",
    "    ggplot(aes(.fitted, .resid)) + \n",
    "    geom_point()"
   ]
  },
  {
   "cell_type": "markdown",
   "metadata": {},
   "source": [
    "Explanation: I do think the linear model captures the relationship since there is no clear pattern so the residual plot seems to be mostly noise. The coefficient of determination is also pretty high at .91."
   ]
  },
  {
   "cell_type": "markdown",
   "metadata": {},
   "source": [
    "Question 6 of Project 5:"
   ]
  },
  {
   "cell_type": "code",
   "execution_count": 21,
   "metadata": {},
   "outputs": [],
   "source": [
    "help(mutate)"
   ]
  },
  {
   "cell_type": "code",
   "execution_count": 22,
   "metadata": {},
   "outputs": [
    {
     "data": {
      "text/plain": [
       "     Min.   1st Qu.    Median      Mean   3rd Qu.      Max. \n",
       "2.615e+07 4.382e+07 1.630e+08 2.564e+08 4.389e+08 1.222e+09 "
      ]
     },
     "metadata": {},
     "output_type": "display_data"
    }
   ],
   "source": [
    "summary(stocks$AMC_Volume)"
   ]
  },
  {
   "cell_type": "code",
   "execution_count": 65,
   "metadata": {},
   "outputs": [],
   "source": [
    "stocks <- stocks %>%\n",
    "    mutate(\n",
    "        stockgrp = cut(AMC_Volume,\n",
    "                       breaks = c(2.615e+06,\n",
    "                                 4.382e+07,\n",
    "                                 1.630e+08,\n",
    "                                 4.389e+08,\n",
    "                                 1.222e+10\n",
    "                                 ),\n",
    "                       labels = c()\n",
    "    ))"
   ]
  },
  {
   "cell_type": "code",
   "execution_count": 66,
   "metadata": {
    "scrolled": false
   },
   "outputs": [
    {
     "name": "stderr",
     "output_type": "stream",
     "text": [
      "`geom_smooth()` using formula 'y ~ x'\n",
      "\n"
     ]
    },
    {
     "data": {
      "image/png": "[encoded data removed]",
      "text/plain": [
       "plot without title"
      ]
     },
     "metadata": {
      "image/png": {
       "height": 420,
       "width": 420
      }
     },
     "output_type": "display_data"
    }
   ],
   "source": [
    "ggplot(stocks,aes(x = AMC_Open,y = AMC_Volume))+\n",
    "    geom_point(aes(color=stockgrp))+\n",
    "    geom_smooth(method = 'lm',aes(color=stockgrp), se = FALSE)"
   ]
  },
  {
   "cell_type": "markdown",
   "metadata": {},
   "source": [
    "What might explain the differences in the models is the average volume of AMC stock trading daily, as the volume of stocks increase, the price also increases."
   ]
  }
 ],
 "metadata": {
  "kernelspec": {
   "display_name": "R",
   "language": "R",
   "name": "ir"
  },
  "language_info": {
   "codemirror_mode": "r",
   "file_extension": ".r",
   "mimetype": "text/x-r-source",
   "name": "R",
   "pygments_lexer": "r",
   "version": "4.0.3"
  }
 },
 "nbformat": 4,
 "nbformat_minor": 4
}
