{
 "cells": [
  {
   "cell_type": "code",
   "execution_count": 1,
   "metadata": {},
   "outputs": [
    {
     "name": "stderr",
     "output_type": "stream",
     "text": [
      "-- \u001b[1mAttaching packages\u001b[22m ------------------------------------------------------------------------------- tidyverse 1.3.0 --\n",
      "\n",
      "\u001b[32mv\u001b[39m \u001b[34mggplot2\u001b[39m 3.3.3     \u001b[32mv\u001b[39m \u001b[34mpurrr  \u001b[39m 0.3.4\n",
      "\u001b[32mv\u001b[39m \u001b[34mtibble \u001b[39m 3.0.4     \u001b[32mv\u001b[39m \u001b[34mdplyr  \u001b[39m 1.0.2\n",
      "\u001b[32mv\u001b[39m \u001b[34mtidyr  \u001b[39m 1.1.2     \u001b[32mv\u001b[39m \u001b[34mstringr\u001b[39m 1.4.0\n",
      "\u001b[32mv\u001b[39m \u001b[34mreadr  \u001b[39m 1.4.0     \u001b[32mv\u001b[39m \u001b[34mforcats\u001b[39m 0.5.0\n",
      "\n",
      "-- \u001b[1mConflicts\u001b[22m ---------------------------------------------------------------------------------- tidyverse_conflicts() --\n",
      "\u001b[31mx\u001b[39m \u001b[34mdplyr\u001b[39m::\u001b[32mfilter()\u001b[39m masks \u001b[34mstats\u001b[39m::filter()\n",
      "\u001b[31mx\u001b[39m \u001b[34mdplyr\u001b[39m::\u001b[32mlag()\u001b[39m    masks \u001b[34mstats\u001b[39m::lag()\n",
      "\n"
     ]
    }
   ],
   "source": [
    "library(tidyverse)"
   ]
  },
  {
   "cell_type": "code",
   "execution_count": 2,
   "metadata": {},
   "outputs": [
    {
     "data": {
      "text/html": [
       "<table>\n",
       "<caption>A tibble: 6 × 11</caption>\n",
       "<thead>\n",
       "\t<tr><th scope=col>manufacturer</th><th scope=col>model</th><th scope=col>displ</th><th scope=col>year</th><th scope=col>cyl</th><th scope=col>trans</th><th scope=col>drv</th><th scope=col>cty</th><th scope=col>hwy</th><th scope=col>fl</th><th scope=col>class</th></tr>\n",
       "\t<tr><th scope=col>&lt;chr&gt;</th><th scope=col>&lt;chr&gt;</th><th scope=col>&lt;dbl&gt;</th><th scope=col>&lt;int&gt;</th><th scope=col>&lt;int&gt;</th><th scope=col>&lt;chr&gt;</th><th scope=col>&lt;chr&gt;</th><th scope=col>&lt;int&gt;</th><th scope=col>&lt;int&gt;</th><th scope=col>&lt;chr&gt;</th><th scope=col>&lt;chr&gt;</th></tr>\n",
       "</thead>\n",
       "<tbody>\n",
       "\t<tr><td>audi</td><td>a4</td><td>1.8</td><td>1999</td><td>4</td><td>auto(l5)  </td><td>f</td><td>18</td><td>29</td><td>p</td><td>compact</td></tr>\n",
       "\t<tr><td>audi</td><td>a4</td><td>1.8</td><td>1999</td><td>4</td><td>manual(m5)</td><td>f</td><td>21</td><td>29</td><td>p</td><td>compact</td></tr>\n",
       "\t<tr><td>audi</td><td>a4</td><td>2.0</td><td>2008</td><td>4</td><td>manual(m6)</td><td>f</td><td>20</td><td>31</td><td>p</td><td>compact</td></tr>\n",
       "\t<tr><td>audi</td><td>a4</td><td>2.0</td><td>2008</td><td>4</td><td>auto(av)  </td><td>f</td><td>21</td><td>30</td><td>p</td><td>compact</td></tr>\n",
       "\t<tr><td>audi</td><td>a4</td><td>2.8</td><td>1999</td><td>6</td><td>auto(l5)  </td><td>f</td><td>16</td><td>26</td><td>p</td><td>compact</td></tr>\n",
       "\t<tr><td>audi</td><td>a4</td><td>2.8</td><td>1999</td><td>6</td><td>manual(m5)</td><td>f</td><td>18</td><td>26</td><td>p</td><td>compact</td></tr>\n",
       "</tbody>\n",
       "</table>\n"
      ],
      "text/latex": [
       "A tibble: 6 × 11\n",
       "\\begin{tabular}{lllllllllll}\n",
       " manufacturer & model & displ & year & cyl & trans & drv & cty & hwy & fl & class\\\\\n",
       " <chr> & <chr> & <dbl> & <int> & <int> & <chr> & <chr> & <int> & <int> & <chr> & <chr>\\\\\n",
       "\\hline\n",
       "\t audi & a4 & 1.8 & 1999 & 4 & auto(l5)   & f & 18 & 29 & p & compact\\\\\n",
       "\t audi & a4 & 1.8 & 1999 & 4 & manual(m5) & f & 21 & 29 & p & compact\\\\\n",
       "\t audi & a4 & 2.0 & 2008 & 4 & manual(m6) & f & 20 & 31 & p & compact\\\\\n",
       "\t audi & a4 & 2.0 & 2008 & 4 & auto(av)   & f & 21 & 30 & p & compact\\\\\n",
       "\t audi & a4 & 2.8 & 1999 & 6 & auto(l5)   & f & 16 & 26 & p & compact\\\\\n",
       "\t audi & a4 & 2.8 & 1999 & 6 & manual(m5) & f & 18 & 26 & p & compact\\\\\n",
       "\\end{tabular}\n"
      ],
      "text/markdown": [
       "\n",
       "A tibble: 6 × 11\n",
       "\n",
       "| manufacturer &lt;chr&gt; | model &lt;chr&gt; | displ &lt;dbl&gt; | year &lt;int&gt; | cyl &lt;int&gt; | trans &lt;chr&gt; | drv &lt;chr&gt; | cty &lt;int&gt; | hwy &lt;int&gt; | fl &lt;chr&gt; | class &lt;chr&gt; |\n",
       "|---|---|---|---|---|---|---|---|---|---|---|\n",
       "| audi | a4 | 1.8 | 1999 | 4 | auto(l5)   | f | 18 | 29 | p | compact |\n",
       "| audi | a4 | 1.8 | 1999 | 4 | manual(m5) | f | 21 | 29 | p | compact |\n",
       "| audi | a4 | 2.0 | 2008 | 4 | manual(m6) | f | 20 | 31 | p | compact |\n",
       "| audi | a4 | 2.0 | 2008 | 4 | auto(av)   | f | 21 | 30 | p | compact |\n",
       "| audi | a4 | 2.8 | 1999 | 6 | auto(l5)   | f | 16 | 26 | p | compact |\n",
       "| audi | a4 | 2.8 | 1999 | 6 | manual(m5) | f | 18 | 26 | p | compact |\n",
       "\n"
      ],
      "text/plain": [
       "  manufacturer model displ year cyl trans      drv cty hwy fl class  \n",
       "1 audi         a4    1.8   1999 4   auto(l5)   f   18  29  p  compact\n",
       "2 audi         a4    1.8   1999 4   manual(m5) f   21  29  p  compact\n",
       "3 audi         a4    2.0   2008 4   manual(m6) f   20  31  p  compact\n",
       "4 audi         a4    2.0   2008 4   auto(av)   f   21  30  p  compact\n",
       "5 audi         a4    2.8   1999 6   auto(l5)   f   16  26  p  compact\n",
       "6 audi         a4    2.8   1999 6   manual(m5) f   18  26  p  compact"
      ]
     },
     "metadata": {},
     "output_type": "display_data"
    }
   ],
   "source": [
    "head(mpg)"
   ]
  },
  {
   "cell_type": "markdown",
   "metadata": {},
   "source": [
    "Question # 1"
   ]
  },
  {
   "cell_type": "code",
   "execution_count": 3,
   "metadata": {},
   "outputs": [],
   "source": [
    "toyota_and_ford <- filter(mpg, manufacturer == 'ford' | manufacturer == 'toyota')"
   ]
  },
  {
   "cell_type": "code",
   "execution_count": 5,
   "metadata": {},
   "outputs": [
    {
     "data": {
      "image/png": "[encoded data removed]",
      "text/plain": [
       "plot without title"
      ]
     },
     "metadata": {
      "image/png": {
       "height": 420,
       "width": 420
      }
     },
     "output_type": "display_data"
    }
   ],
   "source": [
    "ggplot(data = toyota_and_ford)+\n",
    "    geom_histogram(aes(x=cty,fill = manufacturer), bins=8, position=\"dodge\")"
   ]
  },
  {
   "cell_type": "markdown",
   "metadata": {},
   "source": [
    "Question # 2"
   ]
  },
  {
   "cell_type": "code",
   "execution_count": 6,
   "metadata": {},
   "outputs": [
    {
     "data": {
      "image/png": "[encoded data removed]",
      "text/plain": [
       "plot without title"
      ]
     },
     "metadata": {
      "image/png": {
       "height": 420,
       "width": 420
      }
     },
     "output_type": "display_data"
    }
   ],
   "source": [
    "ggplot(data=mpg)+\n",
    "    geom_boxplot(aes(x=cty, fill = factor(cyl)))"
   ]
  },
  {
   "cell_type": "markdown",
   "metadata": {},
   "source": [
    "Question # 3"
   ]
  },
  {
   "cell_type": "code",
   "execution_count": 7,
   "metadata": {},
   "outputs": [],
   "source": [
    "log_norm <- rlnorm(1000)"
   ]
  },
  {
   "cell_type": "code",
   "execution_count": 8,
   "metadata": {},
   "outputs": [],
   "source": [
    "log_norm <- data.frame(log_norm)\n",
    "colnames(log_norm) <- \"observations\""
   ]
  },
  {
   "cell_type": "code",
   "execution_count": 9,
   "metadata": {},
   "outputs": [
    {
     "name": "stdout",
     "output_type": "stream",
     "text": [
      "'data.frame':\t1000 obs. of  1 variable:\n",
      " $ observations: num  0.63 0.917 4.381 1.421 1.962 ...\n"
     ]
    }
   ],
   "source": [
    "str(log_norm)"
   ]
  },
  {
   "cell_type": "code",
   "execution_count": 10,
   "metadata": {},
   "outputs": [
    {
     "data": {
      "image/png": "[encoded data removed]",
      "text/plain": [
       "plot without title"
      ]
     },
     "metadata": {
      "image/png": {
       "height": 420,
       "width": 420
      }
     },
     "output_type": "display_data"
    }
   ],
   "source": [
    "ggplot(log_norm, aes(sample=observations))+\n",
    "    stat_qq(color=\"blue\")+stat_qq_line(color=\"red\")"
   ]
  },
  {
   "cell_type": "markdown",
   "metadata": {},
   "source": [
    "Question # 4"
   ]
  },
  {
   "cell_type": "code",
   "execution_count": 11,
   "metadata": {},
   "outputs": [
    {
     "data": {
      "image/png": "[encoded data removed]",
      "text/plain": [
       "plot without title"
      ]
     },
     "metadata": {
      "image/png": {
       "height": 420,
       "width": 420
      }
     },
     "output_type": "display_data"
    }
   ],
   "source": [
    "ggplot(log_norm, aes(sample=observations))+\n",
    "    stat_qq(color=\"blue\", distribution = qlnorm)+stat_qq_line(color=\"red\", distribution = qlnorm)"
   ]
  },
  {
   "cell_type": "markdown",
   "metadata": {},
   "source": [
    "Project 4\n",
    "Question # 1"
   ]
  },
  {
   "cell_type": "code",
   "execution_count": 12,
   "metadata": {},
   "outputs": [
    {
     "name": "stderr",
     "output_type": "stream",
     "text": [
      "\n",
      "\u001b[36m--\u001b[39m \u001b[1m\u001b[1mColumn specification\u001b[1m\u001b[22m \u001b[36m------------------------------------------------------------------------------------------------\u001b[39m\n",
      "cols(\n",
      "  Date = \u001b[31mcol_character()\u001b[39m,\n",
      "  `1_Mo` = \u001b[32mcol_double()\u001b[39m,\n",
      "  `2_Mo` = \u001b[32mcol_double()\u001b[39m,\n",
      "  `3_Mo` = \u001b[32mcol_double()\u001b[39m,\n",
      "  `6_Mo` = \u001b[32mcol_double()\u001b[39m,\n",
      "  `1_Yr` = \u001b[32mcol_double()\u001b[39m,\n",
      "  `2_Yr` = \u001b[32mcol_double()\u001b[39m,\n",
      "  `3_Yr` = \u001b[32mcol_double()\u001b[39m,\n",
      "  `5_Yr` = \u001b[32mcol_double()\u001b[39m,\n",
      "  `7_Yr` = \u001b[32mcol_double()\u001b[39m,\n",
      "  `10_Yr` = \u001b[32mcol_double()\u001b[39m,\n",
      "  `20_Yr` = \u001b[32mcol_double()\u001b[39m,\n",
      "  `30_Yr` = \u001b[32mcol_double()\u001b[39m\n",
      ")\n",
      "\n",
      "\n"
     ]
    }
   ],
   "source": [
    "treasury <- read_csv(\"daily_treasury_yield_curve_rates.csv\")"
   ]
  },
  {
   "cell_type": "code",
   "execution_count": 13,
   "metadata": {},
   "outputs": [
    {
     "name": "stdout",
     "output_type": "stream",
     "text": [
      "tibble [251 x 13] (S3: spec_tbl_df/tbl_df/tbl/data.frame)\n",
      " $ Date : chr [1:251] \"1/2/20\" \"1/3/20\" \"1/6/20\" \"1/7/20\" ...\n",
      " $ 1_Mo : num [1:251] 1.53 1.52 1.54 1.52 1.5 1.53 1.52 1.54 1.53 1.53 ...\n",
      " $ 2_Mo : num [1:251] 1.55 1.55 1.54 1.53 1.53 1.55 1.55 1.56 1.56 1.56 ...\n",
      " $ 3_Mo : num [1:251] 1.54 1.52 1.56 1.54 1.54 1.54 1.54 1.57 1.57 1.57 ...\n",
      " $ 6_Mo : num [1:251] 1.57 1.55 1.56 1.56 1.56 1.56 1.55 1.57 1.57 1.58 ...\n",
      " $ 1_Yr : num [1:251] 1.56 1.55 1.54 1.53 1.55 1.54 1.53 1.53 1.53 1.54 ...\n",
      " $ 2_Yr : num [1:251] 1.58 1.53 1.54 1.54 1.58 1.58 1.56 1.58 1.58 1.56 ...\n",
      " $ 3_Yr : num [1:251] 1.59 1.54 1.56 1.55 1.61 1.59 1.59 1.6 1.59 1.56 ...\n",
      " $ 5_Yr : num [1:251] 1.67 1.59 1.61 1.62 1.67 1.65 1.63 1.65 1.63 1.6 ...\n",
      " $ 7_Yr : num [1:251] 1.79 1.71 1.72 1.74 1.78 1.77 1.74 1.76 1.74 1.71 ...\n",
      " $ 10_Yr: num [1:251] 1.88 1.8 1.81 1.83 1.87 1.85 1.83 1.85 1.82 1.79 ...\n",
      " $ 20_Yr: num [1:251] 2.19 2.11 2.13 2.16 2.21 2.17 2.14 2.16 2.12 2.09 ...\n",
      " $ 30_Yr: num [1:251] 2.33 2.26 2.28 2.31 2.35 2.38 2.28 2.3 2.27 2.23 ...\n",
      " - attr(*, \"spec\")=\n",
      "  .. cols(\n",
      "  ..   Date = \u001b[31mcol_character()\u001b[39m,\n",
      "  ..   `1_Mo` = \u001b[32mcol_double()\u001b[39m,\n",
      "  ..   `2_Mo` = \u001b[32mcol_double()\u001b[39m,\n",
      "  ..   `3_Mo` = \u001b[32mcol_double()\u001b[39m,\n",
      "  ..   `6_Mo` = \u001b[32mcol_double()\u001b[39m,\n",
      "  ..   `1_Yr` = \u001b[32mcol_double()\u001b[39m,\n",
      "  ..   `2_Yr` = \u001b[32mcol_double()\u001b[39m,\n",
      "  ..   `3_Yr` = \u001b[32mcol_double()\u001b[39m,\n",
      "  ..   `5_Yr` = \u001b[32mcol_double()\u001b[39m,\n",
      "  ..   `7_Yr` = \u001b[32mcol_double()\u001b[39m,\n",
      "  ..   `10_Yr` = \u001b[32mcol_double()\u001b[39m,\n",
      "  ..   `20_Yr` = \u001b[32mcol_double()\u001b[39m,\n",
      "  ..   `30_Yr` = \u001b[32mcol_double()\u001b[39m\n",
      "  .. )\n"
     ]
    }
   ],
   "source": [
    "str(treasury)"
   ]
  },
  {
   "cell_type": "code",
   "execution_count": 14,
   "metadata": {},
   "outputs": [
    {
     "data": {
      "text/html": [
       "<table>\n",
       "<caption>A tibble: 6 × 13</caption>\n",
       "<thead>\n",
       "\t<tr><th scope=col>Date</th><th scope=col>1_Mo</th><th scope=col>2_Mo</th><th scope=col>3_Mo</th><th scope=col>6_Mo</th><th scope=col>1_Yr</th><th scope=col>2_Yr</th><th scope=col>3_Yr</th><th scope=col>5_Yr</th><th scope=col>7_Yr</th><th scope=col>10_Yr</th><th scope=col>20_Yr</th><th scope=col>30_Yr</th></tr>\n",
       "\t<tr><th scope=col>&lt;chr&gt;</th><th scope=col>&lt;dbl&gt;</th><th scope=col>&lt;dbl&gt;</th><th scope=col>&lt;dbl&gt;</th><th scope=col>&lt;dbl&gt;</th><th scope=col>&lt;dbl&gt;</th><th scope=col>&lt;dbl&gt;</th><th scope=col>&lt;dbl&gt;</th><th scope=col>&lt;dbl&gt;</th><th scope=col>&lt;dbl&gt;</th><th scope=col>&lt;dbl&gt;</th><th scope=col>&lt;dbl&gt;</th><th scope=col>&lt;dbl&gt;</th></tr>\n",
       "</thead>\n",
       "<tbody>\n",
       "\t<tr><td>1/2/20</td><td>1.53</td><td>1.55</td><td>1.54</td><td>1.57</td><td>1.56</td><td>1.58</td><td>1.59</td><td>1.67</td><td>1.79</td><td>1.88</td><td>2.19</td><td>2.33</td></tr>\n",
       "\t<tr><td>1/3/20</td><td>1.52</td><td>1.55</td><td>1.52</td><td>1.55</td><td>1.55</td><td>1.53</td><td>1.54</td><td>1.59</td><td>1.71</td><td>1.80</td><td>2.11</td><td>2.26</td></tr>\n",
       "\t<tr><td>1/6/20</td><td>1.54</td><td>1.54</td><td>1.56</td><td>1.56</td><td>1.54</td><td>1.54</td><td>1.56</td><td>1.61</td><td>1.72</td><td>1.81</td><td>2.13</td><td>2.28</td></tr>\n",
       "\t<tr><td>1/7/20</td><td>1.52</td><td>1.53</td><td>1.54</td><td>1.56</td><td>1.53</td><td>1.54</td><td>1.55</td><td>1.62</td><td>1.74</td><td>1.83</td><td>2.16</td><td>2.31</td></tr>\n",
       "\t<tr><td>1/8/20</td><td>1.50</td><td>1.53</td><td>1.54</td><td>1.56</td><td>1.55</td><td>1.58</td><td>1.61</td><td>1.67</td><td>1.78</td><td>1.87</td><td>2.21</td><td>2.35</td></tr>\n",
       "\t<tr><td>1/9/20</td><td>1.53</td><td>1.55</td><td>1.54</td><td>1.56</td><td>1.54</td><td>1.58</td><td>1.59</td><td>1.65</td><td>1.77</td><td>1.85</td><td>2.17</td><td>2.38</td></tr>\n",
       "</tbody>\n",
       "</table>\n"
      ],
      "text/latex": [
       "A tibble: 6 × 13\n",
       "\\begin{tabular}{lllllllllllll}\n",
       " Date & 1\\_Mo & 2\\_Mo & 3\\_Mo & 6\\_Mo & 1\\_Yr & 2\\_Yr & 3\\_Yr & 5\\_Yr & 7\\_Yr & 10\\_Yr & 20\\_Yr & 30\\_Yr\\\\\n",
       " <chr> & <dbl> & <dbl> & <dbl> & <dbl> & <dbl> & <dbl> & <dbl> & <dbl> & <dbl> & <dbl> & <dbl> & <dbl>\\\\\n",
       "\\hline\n",
       "\t 1/2/20 & 1.53 & 1.55 & 1.54 & 1.57 & 1.56 & 1.58 & 1.59 & 1.67 & 1.79 & 1.88 & 2.19 & 2.33\\\\\n",
       "\t 1/3/20 & 1.52 & 1.55 & 1.52 & 1.55 & 1.55 & 1.53 & 1.54 & 1.59 & 1.71 & 1.80 & 2.11 & 2.26\\\\\n",
       "\t 1/6/20 & 1.54 & 1.54 & 1.56 & 1.56 & 1.54 & 1.54 & 1.56 & 1.61 & 1.72 & 1.81 & 2.13 & 2.28\\\\\n",
       "\t 1/7/20 & 1.52 & 1.53 & 1.54 & 1.56 & 1.53 & 1.54 & 1.55 & 1.62 & 1.74 & 1.83 & 2.16 & 2.31\\\\\n",
       "\t 1/8/20 & 1.50 & 1.53 & 1.54 & 1.56 & 1.55 & 1.58 & 1.61 & 1.67 & 1.78 & 1.87 & 2.21 & 2.35\\\\\n",
       "\t 1/9/20 & 1.53 & 1.55 & 1.54 & 1.56 & 1.54 & 1.58 & 1.59 & 1.65 & 1.77 & 1.85 & 2.17 & 2.38\\\\\n",
       "\\end{tabular}\n"
      ],
      "text/markdown": [
       "\n",
       "A tibble: 6 × 13\n",
       "\n",
       "| Date &lt;chr&gt; | 1_Mo &lt;dbl&gt; | 2_Mo &lt;dbl&gt; | 3_Mo &lt;dbl&gt; | 6_Mo &lt;dbl&gt; | 1_Yr &lt;dbl&gt; | 2_Yr &lt;dbl&gt; | 3_Yr &lt;dbl&gt; | 5_Yr &lt;dbl&gt; | 7_Yr &lt;dbl&gt; | 10_Yr &lt;dbl&gt; | 20_Yr &lt;dbl&gt; | 30_Yr &lt;dbl&gt; |\n",
       "|---|---|---|---|---|---|---|---|---|---|---|---|---|\n",
       "| 1/2/20 | 1.53 | 1.55 | 1.54 | 1.57 | 1.56 | 1.58 | 1.59 | 1.67 | 1.79 | 1.88 | 2.19 | 2.33 |\n",
       "| 1/3/20 | 1.52 | 1.55 | 1.52 | 1.55 | 1.55 | 1.53 | 1.54 | 1.59 | 1.71 | 1.80 | 2.11 | 2.26 |\n",
       "| 1/6/20 | 1.54 | 1.54 | 1.56 | 1.56 | 1.54 | 1.54 | 1.56 | 1.61 | 1.72 | 1.81 | 2.13 | 2.28 |\n",
       "| 1/7/20 | 1.52 | 1.53 | 1.54 | 1.56 | 1.53 | 1.54 | 1.55 | 1.62 | 1.74 | 1.83 | 2.16 | 2.31 |\n",
       "| 1/8/20 | 1.50 | 1.53 | 1.54 | 1.56 | 1.55 | 1.58 | 1.61 | 1.67 | 1.78 | 1.87 | 2.21 | 2.35 |\n",
       "| 1/9/20 | 1.53 | 1.55 | 1.54 | 1.56 | 1.54 | 1.58 | 1.59 | 1.65 | 1.77 | 1.85 | 2.17 | 2.38 |\n",
       "\n"
      ],
      "text/plain": [
       "  Date   1_Mo 2_Mo 3_Mo 6_Mo 1_Yr 2_Yr 3_Yr 5_Yr 7_Yr 10_Yr 20_Yr 30_Yr\n",
       "1 1/2/20 1.53 1.55 1.54 1.57 1.56 1.58 1.59 1.67 1.79 1.88  2.19  2.33 \n",
       "2 1/3/20 1.52 1.55 1.52 1.55 1.55 1.53 1.54 1.59 1.71 1.80  2.11  2.26 \n",
       "3 1/6/20 1.54 1.54 1.56 1.56 1.54 1.54 1.56 1.61 1.72 1.81  2.13  2.28 \n",
       "4 1/7/20 1.52 1.53 1.54 1.56 1.53 1.54 1.55 1.62 1.74 1.83  2.16  2.31 \n",
       "5 1/8/20 1.50 1.53 1.54 1.56 1.55 1.58 1.61 1.67 1.78 1.87  2.21  2.35 \n",
       "6 1/9/20 1.53 1.55 1.54 1.56 1.54 1.58 1.59 1.65 1.77 1.85  2.17  2.38 "
      ]
     },
     "metadata": {},
     "output_type": "display_data"
    }
   ],
   "source": [
    "head(treasury)"
   ]
  },
  {
   "cell_type": "markdown",
   "metadata": {},
   "source": [
    "Question # 2"
   ]
  },
  {
   "cell_type": "code",
   "execution_count": 15,
   "metadata": {
    "scrolled": false
   },
   "outputs": [
    {
     "data": {
      "image/png": "[encoded data removed]",
      "text/plain": [
       "plot without title"
      ]
     },
     "metadata": {
      "image/png": {
       "height": 420,
       "width": 420
      }
     },
     "output_type": "display_data"
    }
   ],
   "source": [
    "ggplot(data = treasury, aes(x =Date, y = `1_Mo`))+\n",
    "    geom_point()"
   ]
  },
  {
   "cell_type": "markdown",
   "metadata": {},
   "source": [
    "The behaviour is based on the dates and the dates are being ordered wrong, therefore we see a big dip out of nowhere. What I think is happening is that the dates are being ordered by the month so, it would be 1, 10, 11, 12, 2, 3: Jan, Oct, Nov, Dec, Feb, Mar. "
   ]
  },
  {
   "cell_type": "markdown",
   "metadata": {},
   "source": [
    "Question # 3"
   ]
  },
  {
   "cell_type": "code",
   "execution_count": 16,
   "metadata": {},
   "outputs": [
    {
     "data": {
      "image/png": "[encoded data removed]",
      "text/plain": [
       "plot without title"
      ]
     },
     "metadata": {
      "image/png": {
       "height": 420,
       "width": 420
      }
     },
     "output_type": "display_data"
    }
   ],
   "source": [
    "ggplot(data=treasury)+\n",
    "    geom_boxplot(aes(x=`30_Yr`,y=-1), color = \"blue\", position = \"dodge\")+\n",
    "    geom_boxplot(aes(x=`20_Yr`,y=0), color = \"red\", position = \"dodge\")+\n",
    "    geom_boxplot(aes(x=`10_Yr`,y=1), color = \"green\", position = \"dodge\")"
   ]
  },
  {
   "cell_type": "markdown",
   "metadata": {},
   "source": [
    "Question # 4"
   ]
  },
  {
   "cell_type": "code",
   "execution_count": 17,
   "metadata": {
    "scrolled": true
   },
   "outputs": [
    {
     "data": {
      "text/plain": [
       "   Min. 1st Qu.  Median    Mean 3rd Qu.    Max. \n",
       " 0.0000  0.0800  0.1000  0.3527  0.1400  1.6100 "
      ]
     },
     "metadata": {},
     "output_type": "display_data"
    }
   ],
   "source": [
    "summary(treasury$`1_Mo`)"
   ]
  },
  {
   "cell_type": "code",
   "execution_count": 18,
   "metadata": {},
   "outputs": [],
   "source": [
    "Q1 = .08"
   ]
  },
  {
   "cell_type": "code",
   "execution_count": 19,
   "metadata": {},
   "outputs": [],
   "source": [
    "Q3 = .14"
   ]
  },
  {
   "cell_type": "code",
   "execution_count": 20,
   "metadata": {},
   "outputs": [],
   "source": [
    "IQR = Q3 - Q1"
   ]
  },
  {
   "cell_type": "code",
   "execution_count": 21,
   "metadata": {},
   "outputs": [],
   "source": [
    "lower_Bound = Q1 - 1.5*IQR"
   ]
  },
  {
   "cell_type": "code",
   "execution_count": 22,
   "metadata": {},
   "outputs": [],
   "source": [
    "upper_Bound = Q3 + 1.5*IQR"
   ]
  },
  {
   "cell_type": "code",
   "execution_count": 23,
   "metadata": {},
   "outputs": [],
   "source": [
    "one_month <- filter(treasury, \n",
    "                    `1_Mo` > lower_Bound & `1_Mo` < upper_Bound)"
   ]
  },
  {
   "cell_type": "code",
   "execution_count": 25,
   "metadata": {},
   "outputs": [
    {
     "data": {
      "image/png": "[encoded data removed]",
      "text/plain": [
       "plot without title"
      ]
     },
     "metadata": {
      "image/png": {
       "height": 420,
       "width": 420
      }
     },
     "output_type": "display_data"
    }
   ],
   "source": [
    "ggplot(one_month, aes(sample=`1_Mo`))+\n",
    "    stat_qq(color=\"blue\")+stat_qq_line(color=\"red\")"
   ]
  },
  {
   "cell_type": "markdown",
   "metadata": {},
   "source": [
    "Question # 5"
   ]
  },
  {
   "cell_type": "code",
   "execution_count": 26,
   "metadata": {},
   "outputs": [
    {
     "data": {
      "text/plain": [
       "   Min. 1st Qu.  Median    Mean 3rd Qu.    Max. \n",
       "  0.000   0.080   0.090   0.093   0.100   0.200 "
      ]
     },
     "metadata": {},
     "output_type": "display_data"
    }
   ],
   "source": [
    "summary(one_month$`1_Mo`)\n",
    "mean = 0.093"
   ]
  },
  {
   "cell_type": "code",
   "execution_count": 27,
   "metadata": {},
   "outputs": [],
   "source": [
    "standard_deviation <- sd(one_month$`1_Mo`)"
   ]
  },
  {
   "cell_type": "code",
   "execution_count": 29,
   "metadata": {},
   "outputs": [
    {
     "data": {
      "text/html": [
       "0.093"
      ],
      "text/latex": [
       "0.093"
      ],
      "text/markdown": [
       "0.093"
      ],
      "text/plain": [
       "[1] 0.093"
      ]
     },
     "metadata": {},
     "output_type": "display_data"
    },
    {
     "data": {
      "text/html": [
       "0.0271789158602157"
      ],
      "text/latex": [
       "0.0271789158602157"
      ],
      "text/markdown": [
       "0.0271789158602157"
      ],
      "text/plain": [
       "[1] 0.02717892"
      ]
     },
     "metadata": {},
     "output_type": "display_data"
    }
   ],
   "source": [
    "mean\n",
    "standard_deviation"
   ]
  },
  {
   "cell_type": "code",
   "execution_count": 30,
   "metadata": {},
   "outputs": [],
   "source": [
    "ninetyfifthpercentile = mean + standard_deviation*(1.645)"
   ]
  },
  {
   "cell_type": "code",
   "execution_count": 31,
   "metadata": {},
   "outputs": [
    {
     "data": {
      "text/html": [
       "0.137709316590055"
      ],
      "text/latex": [
       "0.137709316590055"
      ],
      "text/markdown": [
       "0.137709316590055"
      ],
      "text/plain": [
       "[1] 0.1377093"
      ]
     },
     "metadata": {},
     "output_type": "display_data"
    }
   ],
   "source": [
    "ninetyfifthpercentile"
   ]
  },
  {
   "cell_type": "markdown",
   "metadata": {},
   "source": [
    "The yield rate (0.1377) that is greater than 95% of the other yield rates without outliers is greater than the yield rates for (around 0.7-8) January 2021. This makes sense because the rate that is greater than 95% of other rates without outliers should be close to the max value without outliers. January's rate are fairly similar to the one month rates without outliers, so there is no surprise that the 95% value is greater than those rates in Jan 2021."
   ]
  },
  {
   "cell_type": "markdown",
   "metadata": {},
   "source": [
    "Question # 6"
   ]
  },
  {
   "cell_type": "markdown",
   "metadata": {},
   "source": [
    "plot of average 30 year return rates in 2020"
   ]
  },
  {
   "cell_type": "code",
   "execution_count": 34,
   "metadata": {},
   "outputs": [
    {
     "data": {
      "image/png": "[encoded data removed]",
      "text/plain": [
       "plot without title"
      ]
     },
     "metadata": {
      "image/png": {
       "height": 420,
       "width": 420
      }
     },
     "output_type": "display_data"
    }
   ],
   "source": [
    "ggplot(treasury, aes(x = Date, y = `30_Yr`)) +\n",
    "    geom_point()"
   ]
  },
  {
   "cell_type": "code",
   "execution_count": null,
   "metadata": {},
   "outputs": [],
   "source": []
  }
 ],
 "metadata": {
  "kernelspec": {
   "display_name": "R",
   "language": "R",
   "name": "ir"
  },
  "language_info": {
   "codemirror_mode": "r",
   "file_extension": ".r",
   "mimetype": "text/x-r-source",
   "name": "R",
   "pygments_lexer": "r",
   "version": "4.0.3"
  }
 },
 "nbformat": 4,
 "nbformat_minor": 4
}
