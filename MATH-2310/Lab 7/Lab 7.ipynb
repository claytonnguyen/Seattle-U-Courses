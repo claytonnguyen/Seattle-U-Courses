{
 "cells": [
  {
   "cell_type": "code",
   "execution_count": 1,
   "metadata": {},
   "outputs": [
    {
     "name": "stderr",
     "output_type": "stream",
     "text": [
      "-- \u001b[1mAttaching packages\u001b[22m ------------------------------------------------------------------------------- tidyverse 1.3.0 --\n",
      "\n",
      "\u001b[32mv\u001b[39m \u001b[34mggplot2\u001b[39m 3.3.3     \u001b[32mv\u001b[39m \u001b[34mpurrr  \u001b[39m 0.3.4\n",
      "\u001b[32mv\u001b[39m \u001b[34mtibble \u001b[39m 3.0.4     \u001b[32mv\u001b[39m \u001b[34mdplyr  \u001b[39m 1.0.2\n",
      "\u001b[32mv\u001b[39m \u001b[34mtidyr  \u001b[39m 1.1.2     \u001b[32mv\u001b[39m \u001b[34mstringr\u001b[39m 1.4.0\n",
      "\u001b[32mv\u001b[39m \u001b[34mreadr  \u001b[39m 1.4.0     \u001b[32mv\u001b[39m \u001b[34mforcats\u001b[39m 0.5.0\n",
      "\n",
      "-- \u001b[1mConflicts\u001b[22m ---------------------------------------------------------------------------------- tidyverse_conflicts() --\n",
      "\u001b[31mx\u001b[39m \u001b[34mdplyr\u001b[39m::\u001b[32mfilter()\u001b[39m masks \u001b[34mstats\u001b[39m::filter()\n",
      "\u001b[31mx\u001b[39m \u001b[34mdplyr\u001b[39m::\u001b[32mlag()\u001b[39m    masks \u001b[34mstats\u001b[39m::lag()\n",
      "\n"
     ]
    }
   ],
   "source": [
    "library(mosaicData)\n",
    "library(tidyverse)"
   ]
  },
  {
   "cell_type": "markdown",
   "metadata": {},
   "source": [
    "Question 1 of RP"
   ]
  },
  {
   "cell_type": "code",
   "execution_count": 2,
   "metadata": {},
   "outputs": [],
   "source": [
    "random_10 <- rnorm(\n",
    "    10,\n",
    "    mean=5,\n",
    "    sd=2\n",
    ")"
   ]
  },
  {
   "cell_type": "code",
   "execution_count": 3,
   "metadata": {},
   "outputs": [
    {
     "data": {
      "text/html": [
       "5.02775563496315"
      ],
      "text/latex": [
       "5.02775563496315"
      ],
      "text/markdown": [
       "5.02775563496315"
      ],
      "text/plain": [
       "[1] 5.027756"
      ]
     },
     "metadata": {},
     "output_type": "display_data"
    }
   ],
   "source": [
    "mean(random_10)"
   ]
  },
  {
   "cell_type": "code",
   "execution_count": 4,
   "metadata": {},
   "outputs": [
    {
     "data": {
      "text/html": [
       "1.52660686090962"
      ],
      "text/latex": [
       "1.52660686090962"
      ],
      "text/markdown": [
       "1.52660686090962"
      ],
      "text/plain": [
       "[1] 1.526607"
      ]
     },
     "metadata": {},
     "output_type": "display_data"
    }
   ],
   "source": [
    "b <- qt(.975,df=9)*sd(random_10)/sqrt(10)\n",
    "b"
   ]
  },
  {
   "cell_type": "code",
   "execution_count": 5,
   "metadata": {},
   "outputs": [
    {
     "data": {
      "text/html": [
       "3.50114877405352"
      ],
      "text/latex": [
       "3.50114877405352"
      ],
      "text/markdown": [
       "3.50114877405352"
      ],
      "text/plain": [
       "[1] 3.501149"
      ]
     },
     "metadata": {},
     "output_type": "display_data"
    },
    {
     "data": {
      "text/html": [
       "6.55436249587277"
      ],
      "text/latex": [
       "6.55436249587277"
      ],
      "text/markdown": [
       "6.55436249587277"
      ],
      "text/plain": [
       "[1] 6.554362"
      ]
     },
     "metadata": {},
     "output_type": "display_data"
    }
   ],
   "source": [
    "lower <- mean(random_10)-b\n",
    "upper <- mean(random_10)+b\n",
    "lower\n",
    "upper"
   ]
  },
  {
   "cell_type": "markdown",
   "metadata": {},
   "source": [
    "confidence interval = (2.49825, 6.24852)\n",
    "yes, the population mean of 5 is covered by my\n",
    "confidence interval"
   ]
  },
  {
   "cell_type": "markdown",
   "metadata": {},
   "source": [
    "Question 2 of RP"
   ]
  },
  {
   "cell_type": "code",
   "execution_count": 6,
   "metadata": {},
   "outputs": [
    {
     "data": {
      "text/html": [
       "0.496769164482253"
      ],
      "text/latex": [
       "0.496769164482253"
      ],
      "text/markdown": [
       "0.496769164482253"
      ],
      "text/plain": [
       "[1] 0.4967692"
      ]
     },
     "metadata": {},
     "output_type": "display_data"
    }
   ],
   "source": [
    "pop_mean <- mean(rexp(10000,rate=2))\n",
    "pop_mean"
   ]
  },
  {
   "cell_type": "code",
   "execution_count": 7,
   "metadata": {},
   "outputs": [],
   "source": [
    "means <-c()\n",
    "bounds<-c()\n",
    "check<-c()\n",
    "\n",
    "for (i in 1:100){\n",
    "  sample<-rexp(10,rate=2)\n",
    "  m<-mean(sample)\n",
    "  means<-c(means,m)\n",
    "  b<-qt(.975,df=9)*sd(sample)/sqrt(10)\n",
    "  bounds<-c(bounds,b)\n",
    "  check<-c(check,isTRUE((m-b<pop_mean) && (pop_mean<m+b)))\n",
    "}\n",
    "CI_example<-data.frame(means,bounds,check)"
   ]
  },
  {
   "cell_type": "code",
   "execution_count": 8,
   "metadata": {},
   "outputs": [
    {
     "data": {
      "text/html": [
       "92"
      ],
      "text/latex": [
       "92"
      ],
      "text/markdown": [
       "92"
      ],
      "text/plain": [
       "[1] 92"
      ]
     },
     "metadata": {},
     "output_type": "display_data"
    }
   ],
   "source": [
    "x <- filter(CI_example, check==TRUE)\n",
    "nrow(x)"
   ]
  },
  {
   "cell_type": "markdown",
   "metadata": {},
   "source": [
    "This number does align with the 95% confidence, since roughly that many 95 of 100 intervals contains the mean"
   ]
  },
  {
   "cell_type": "markdown",
   "metadata": {},
   "source": [
    "Question 3 of RP"
   ]
  },
  {
   "cell_type": "code",
   "execution_count": 9,
   "metadata": {},
   "outputs": [],
   "source": [
    "bootmeans <-c()\n",
    "\n",
    "for (i in 1:10000){\n",
    "  bootsamp<-rexp(20,rate=2)\n",
    "  bootmeans<-c(bootmeans,mean(bootsamp))\n",
    "}"
   ]
  },
  {
   "cell_type": "code",
   "execution_count": 10,
   "metadata": {},
   "outputs": [
    {
     "data": {
      "text/html": [
       "<style>\n",
       ".dl-inline {width: auto; margin:0; padding: 0}\n",
       ".dl-inline>dt, .dl-inline>dd {float: none; width: auto; display: inline-block}\n",
       ".dl-inline>dt::after {content: \":\\0020\"; padding-right: .5ex}\n",
       ".dl-inline>dt:not(:first-of-type) {padding-left: .5ex}\n",
       "</style><dl class=dl-inline><dt>2.5%</dt><dd>0.306763634209352</dd><dt>97.5%</dt><dd>0.740371762072197</dd></dl>\n"
      ],
      "text/latex": [
       "\\begin{description*}\n",
       "\\item[2.5\\textbackslash{}\\%] 0.306763634209352\n",
       "\\item[97.5\\textbackslash{}\\%] 0.740371762072197\n",
       "\\end{description*}\n"
      ],
      "text/markdown": [
       "2.5%\n",
       ":   0.30676363420935297.5%\n",
       ":   0.740371762072197\n",
       "\n"
      ],
      "text/plain": [
       "     2.5%     97.5% \n",
       "0.3067636 0.7403718 "
      ]
     },
     "metadata": {},
     "output_type": "display_data"
    }
   ],
   "source": [
    "quantile(bootmeans,c(.025,.975))\n",
    "boot_CI<-quantile(bootmeans,c(.025,.975))"
   ]
  },
  {
   "cell_type": "markdown",
   "metadata": {},
   "source": [
    "Question 1 of Project 3"
   ]
  },
  {
   "cell_type": "code",
   "execution_count": 11,
   "metadata": {},
   "outputs": [],
   "source": [
    "nyc_payroll <- read.csv(\"NYC_Payroll2018.csv\")"
   ]
  },
  {
   "cell_type": "code",
   "execution_count": 12,
   "metadata": {},
   "outputs": [
    {
     "data": {
      "text/html": [
       "<table>\n",
       "<caption>A data.frame: 546161 × 12</caption>\n",
       "<thead>\n",
       "\t<tr><th scope=col>Fiscal.Year</th><th scope=col>Agency.Name</th><th scope=col>Last.Name</th><th scope=col>First.Name</th><th scope=col>Agency.Start.Date</th><th scope=col>Base.Salary</th><th scope=col>Pay.Basis</th><th scope=col>Regular.Hours</th><th scope=col>Regular.Gross.Paid</th><th scope=col>OT.Hours</th><th scope=col>Total.OT.Paid</th><th scope=col>Total.Other.Pay</th></tr>\n",
       "\t<tr><th scope=col>&lt;int&gt;</th><th scope=col>&lt;chr&gt;</th><th scope=col>&lt;chr&gt;</th><th scope=col>&lt;chr&gt;</th><th scope=col>&lt;chr&gt;</th><th scope=col>&lt;dbl&gt;</th><th scope=col>&lt;chr&gt;</th><th scope=col>&lt;dbl&gt;</th><th scope=col>&lt;dbl&gt;</th><th scope=col>&lt;dbl&gt;</th><th scope=col>&lt;dbl&gt;</th><th scope=col>&lt;dbl&gt;</th></tr>\n",
       "</thead>\n",
       "<tbody>\n",
       "\t<tr><td>2018</td><td>BOARD OF ELECTION      </td><td>DONNELLY </td><td>KAITLIN   </td><td>07/28/2014</td><td>    13.79</td><td>per Hour </td><td> 234.18</td><td>  4194.68</td><td> 75.75</td><td>1462.71</td><td>  0.00</td></tr>\n",
       "\t<tr><td>2018</td><td>BOARD OF ELECTION      </td><td>ROQUE    </td><td>CONSUELO  </td><td>02/28/2016</td><td>    15.00</td><td>per Hour </td><td>1664.55</td><td> 24004.17</td><td> 87.00</td><td>1443.01</td><td>  0.00</td></tr>\n",
       "\t<tr><td>2018</td><td>BOARD OF ELECTION      </td><td>NUNEZ    </td><td>DAYSI     </td><td>03/13/2016</td><td>    19.79</td><td>per Hour </td><td>1638.88</td><td> 32499.63</td><td> 66.25</td><td>1435.90</td><td> 65.98</td></tr>\n",
       "\t<tr><td>2018</td><td>BOARD OF ELECTION      </td><td>SMITH    </td><td>THERESA   </td><td>10/02/2017</td><td>    15.00</td><td>per Hour </td><td>1195.75</td><td> 16574.09</td><td> 57.50</td><td>1005.64</td><td> 48.27</td></tr>\n",
       "\t<tr><td>2018</td><td>BOARD OF ELECTION      </td><td>HENRY    </td><td>JARED     </td><td>10/31/2016</td><td>    15.00</td><td>per Hour </td><td>1339.38</td><td> 19474.25</td><td> 60.75</td><td> 995.80</td><td> 48.27</td></tr>\n",
       "\t<tr><td>2018</td><td>BOARD OF ELECTION      </td><td>CARUSO   </td><td>PHILIP    </td><td>06/11/2012</td><td>    15.00</td><td>per Hour </td><td>1258.75</td><td> 18995.24</td><td> 58.25</td><td> 925.28</td><td> 50.47</td></tr>\n",
       "\t<tr><td>2018</td><td>BOARD OF ELECTION      </td><td>ARATO    </td><td>REBECCA   </td><td>11/13/2017</td><td> 27405.00</td><td>per Annum</td><td>1081.25</td><td> 15047.70</td><td> 22.00</td><td> 393.87</td><td>  0.00</td></tr>\n",
       "\t<tr><td>2018</td><td>BOARD OF ELECTION      </td><td>ROGERS   </td><td>FRANK     </td><td>04/09/2018</td><td>    15.00</td><td>per Hour </td><td> 320.25</td><td>  4492.48</td><td> 26.50</td><td> 391.75</td><td>  0.00</td></tr>\n",
       "\t<tr><td>2018</td><td>BOARD OF ELECTION      </td><td>GENDRON  </td><td>MATTHEW   </td><td>04/16/2018</td><td>    15.00</td><td>per Hour </td><td> 307.75</td><td>  4328.57</td><td> 20.00</td><td> 375.00</td><td>  0.00</td></tr>\n",
       "\t<tr><td>2018</td><td>BOARD OF ELECTION      </td><td>FABIO    </td><td>PAUL      </td><td>04/02/2018</td><td>    13.79</td><td>per Hour </td><td> 260.90</td><td>  3597.83</td><td>  1.00</td><td>  13.79</td><td>  0.00</td></tr>\n",
       "\t<tr><td>2018</td><td>BOARD OF ELECTION      </td><td>RYAN     </td><td>MICHAEL   </td><td>08/25/2013</td><td>216540.00</td><td>per Annum</td><td>1790.00</td><td>209761.79</td><td>  0.00</td><td>   0.00</td><td>  0.00</td></tr>\n",
       "\t<tr><td>2018</td><td>BOARD OF ELECTION      </td><td>SANDOW   </td><td>DAWN      </td><td>11/14/2005</td><td>199387.00</td><td>per Annum</td><td>1790.00</td><td>193146.20</td><td>  0.00</td><td>   0.00</td><td>  0.00</td></tr>\n",
       "\t<tr><td>2018</td><td>BOARD OF ELECTION      </td><td>PERKINS  </td><td>PAMELA    </td><td>02/06/1994</td><td>183425.00</td><td>per Annum</td><td>1790.00</td><td>177683.84</td><td>  0.00</td><td>   0.00</td><td>  0.00</td></tr>\n",
       "\t<tr><td>2018</td><td>BOARD OF ELECTION      </td><td>RICHMAN  </td><td>STEVEN    </td><td>01/03/1999</td><td>180342.00</td><td>per Annum</td><td>1790.00</td><td>174696.52</td><td>  0.00</td><td>   0.00</td><td>  0.00</td></tr>\n",
       "\t<tr><td>2018</td><td>BOARD OF ELECTION      </td><td>SAVINO   </td><td>RAPHAEL   </td><td>07/03/2011</td><td>160000.00</td><td>per Annum</td><td>1790.00</td><td>143260.56</td><td>  0.00</td><td>   0.00</td><td>  0.00</td></tr>\n",
       "\t<tr><td>2018</td><td>BOARD OF ELECTION      </td><td>PUGH     </td><td>GLORIA    </td><td>09/26/2004</td><td> 36147.00</td><td>per Annum</td><td>  24.25</td><td>  1386.46</td><td>  0.00</td><td>   0.00</td><td> 27.46</td></tr>\n",
       "\t<tr><td>2018</td><td>BOARD OF ELECTION      </td><td>KLEINMAN </td><td>LIOR      </td><td>03/27/2017</td><td>    13.79</td><td>per Hour </td><td>  55.50</td><td>  1565.17</td><td>  0.00</td><td>   0.00</td><td>  0.00</td></tr>\n",
       "\t<tr><td>2018</td><td>BOARD OF ELECTION      </td><td>BRYAN    </td><td>RICHARD   </td><td>04/23/2017</td><td>    13.79</td><td>per Hour </td><td>   0.00</td><td>   193.06</td><td>  0.00</td><td>   0.00</td><td>  0.00</td></tr>\n",
       "\t<tr><td>2018</td><td>BOARD OF ELECTION      </td><td>APPIAH   </td><td>RICHMOND  </td><td>06/19/2017</td><td>    13.79</td><td>per Hour </td><td>   9.90</td><td>   595.04</td><td>  0.00</td><td>   0.00</td><td>  0.00</td></tr>\n",
       "\t<tr><td>2018</td><td>BOARD OF ELECTION      </td><td>SMITH    </td><td>NICHOLAS  </td><td>06/19/2017</td><td>    13.79</td><td>per Hour </td><td> 186.40</td><td>  3383.60</td><td>  0.00</td><td>   0.00</td><td>  0.00</td></tr>\n",
       "\t<tr><td>2018</td><td>BOARD OF ELECTION      </td><td>HYNDMAN  </td><td>NIA       </td><td>06/26/2017</td><td>    13.79</td><td>per Hour </td><td> 224.25</td><td>  3471.65</td><td>  0.00</td><td>   0.00</td><td>  0.00</td></tr>\n",
       "\t<tr><td>2018</td><td>BOARD OF ELECTION      </td><td>MORRIS   </td><td>AMANDA    </td><td>07/03/2017</td><td>    13.79</td><td>per Hour </td><td> 223.75</td><td>  3085.52</td><td>  0.00</td><td>   0.00</td><td>  0.00</td></tr>\n",
       "\t<tr><td>2018</td><td>BOARD OF ELECTION      </td><td>DURU     </td><td>NNENNA    </td><td>07/10/2017</td><td>    13.79</td><td>per Hour </td><td> 280.00</td><td>  3861.20</td><td>  0.00</td><td>   0.00</td><td>  0.00</td></tr>\n",
       "\t<tr><td>2018</td><td>BOARD OF ELECTION      </td><td>ROBERTS  </td><td>AKAYLA    </td><td>07/10/2017</td><td>    13.79</td><td>per Hour </td><td> 273.83</td><td>  3776.16</td><td>  0.00</td><td>   0.00</td><td>  0.00</td></tr>\n",
       "\t<tr><td>2018</td><td>BOARD OF ELECTION      </td><td>BRAMBLE  </td><td>DAWNSIMONE</td><td>01/28/2018</td><td>    13.79</td><td>per Hour </td><td> 257.75</td><td>  3554.38</td><td>  0.00</td><td>   0.00</td><td>  0.00</td></tr>\n",
       "\t<tr><td>2018</td><td>BOARD OF ELECTION      </td><td>CLEMENT  </td><td>RONALDO   </td><td>02/05/2018</td><td>    13.79</td><td>per Hour </td><td> 230.00</td><td>  3171.72</td><td>  0.00</td><td>   0.00</td><td>  0.00</td></tr>\n",
       "\t<tr><td>2018</td><td>BOARD OF ELECTION      </td><td>SUN      </td><td>KADEN     </td><td>04/01/2018</td><td>    13.79</td><td>per Hour </td><td>   7.00</td><td>    96.53</td><td>  0.00</td><td>   0.00</td><td>  0.00</td></tr>\n",
       "\t<tr><td>2018</td><td>CAMPAIGN FINANCE BOARD </td><td>KING     </td><td>AARON     </td><td>12/14/2015</td><td> 59312.00</td><td>per Annum</td><td>1790.00</td><td> 60914.07</td><td>112.00</td><td>4528.17</td><td>386.83</td></tr>\n",
       "\t<tr><td>2018</td><td>CAMPAIGN FINANCE BOARD </td><td>GIBSON   </td><td>DRUSILLA  </td><td>05/01/2017</td><td>    30.00</td><td>per Hour </td><td> 757.08</td><td> 26283.65</td><td>111.00</td><td>4027.50</td><td>229.50</td></tr>\n",
       "\t<tr><td>2018</td><td>BOROUGH PRESIDENT-BRONX</td><td>ALCANTARA</td><td>DARISA    </td><td>09/06/2016</td><td> 45000.00</td><td>per Annum</td><td> 390.00</td><td> 10356.18</td><td>  0.00</td><td>   0.00</td><td>  0.00</td></tr>\n",
       "\t<tr><td>...</td><td>...</td><td>...</td><td>...</td><td>...</td><td>...</td><td>...</td><td>...</td><td>...</td><td>...</td><td>...</td><td>...</td></tr>\n",
       "\t<tr><td>2018</td><td>POLICE DEPARTMENT</td><td>SMITH-HARRIOTT</td><td>MARIA    </td><td>05/05/2003</td><td>37713.00</td><td>per Annum</td><td> 581.72</td><td>10919.37</td><td>0</td><td> -23.90</td><td> 1204.84</td></tr>\n",
       "\t<tr><td>2018</td><td>POLICE DEPARTMENT</td><td>CLAUSE        </td><td>SHERMAINE</td><td>09/06/2016</td><td>   13.50</td><td>per Hour </td><td> 812.50</td><td>12064.00</td><td>0</td><td> -23.94</td><td>  213.00</td></tr>\n",
       "\t<tr><td>2018</td><td>POLICE DEPARTMENT</td><td>OVERBY        </td><td>TONY     </td><td>11/30/2011</td><td>   14.04</td><td>per Hour </td><td>1032.68</td><td>16820.43</td><td>0</td><td> -27.87</td><td>  213.00</td></tr>\n",
       "\t<tr><td>2018</td><td>POLICE DEPARTMENT</td><td>SOTO          </td><td>ANA      </td><td>10/21/2005</td><td>   14.04</td><td>per Hour </td><td>1058.48</td><td>17319.07</td><td>0</td><td> -27.87</td><td>  213.00</td></tr>\n",
       "\t<tr><td>2018</td><td>POLICE DEPARTMENT</td><td>LEWIS         </td><td>KIMBERLY </td><td>04/27/2012</td><td>   14.04</td><td>per Hour </td><td> 445.68</td><td> 7573.91</td><td>0</td><td> -27.87</td><td>    0.00</td></tr>\n",
       "\t<tr><td>2018</td><td>POLICE DEPARTMENT</td><td>LOPEZ         </td><td>CARMEN   </td><td>08/20/2004</td><td>   14.04</td><td>per Hour </td><td>1078.80</td><td>17618.36</td><td>0</td><td> -27.87</td><td>  213.00</td></tr>\n",
       "\t<tr><td>2018</td><td>POLICE DEPARTMENT</td><td>LOUVIERE      </td><td>BETTY    </td><td>09/24/2010</td><td>   14.04</td><td>per Hour </td><td>1042.50</td><td>17012.04</td><td>0</td><td> -28.08</td><td>  213.00</td></tr>\n",
       "\t<tr><td>2018</td><td>POLICE DEPARTMENT</td><td>DURAND        </td><td>CHRISTINE</td><td>06/09/2016</td><td>   13.50</td><td>per Hour </td><td> 807.50</td><td>12054.46</td><td>0</td><td> -35.91</td><td>  213.00</td></tr>\n",
       "\t<tr><td>2018</td><td>POLICE DEPARTMENT</td><td>SCOTLAND      </td><td>TASHAWN  </td><td>12/09/2013</td><td>   14.04</td><td>per Hour </td><td> 729.83</td><td>11957.32</td><td>0</td><td> -64.98</td><td>  213.00</td></tr>\n",
       "\t<tr><td>2018</td><td>POLICE DEPARTMENT</td><td>LAUREANO      </td><td>MIGDALIA </td><td>05/02/2002</td><td>   14.04</td><td>per Hour </td><td> 923.75</td><td>15297.68</td><td>0</td><td> -69.36</td><td>  570.71</td></tr>\n",
       "\t<tr><td>2018</td><td>POLICE DEPARTMENT</td><td>BOSTICK-THOMAS</td><td>MONICA   </td><td>07/16/2001</td><td>   14.04</td><td>per Hour </td><td> 917.50</td><td>15045.39</td><td>0</td><td> -69.78</td><td>  651.68</td></tr>\n",
       "\t<tr><td>2018</td><td>POLICE DEPARTMENT</td><td>COOKE         </td><td>LATARSHA </td><td>08/20/2004</td><td>   14.04</td><td>per Hour </td><td> 881.57</td><td>14576.62</td><td>0</td><td> -69.78</td><td>  213.00</td></tr>\n",
       "\t<tr><td>2018</td><td>POLICE DEPARTMENT</td><td>LUGO          </td><td>MARIA    </td><td>10/20/1998</td><td>   14.05</td><td>per Hour </td><td>1018.00</td><td>16713.13</td><td>0</td><td> -71.56</td><td>  706.58</td></tr>\n",
       "\t<tr><td>2018</td><td>POLICE DEPARTMENT</td><td>LAWSON        </td><td>DENISE   </td><td>08/02/2000</td><td>   14.04</td><td>per Hour </td><td> 739.00</td><td>12337.62</td><td>0</td><td> -71.93</td><td>  572.93</td></tr>\n",
       "\t<tr><td>2018</td><td>POLICE DEPARTMENT</td><td>CONTRERAS     </td><td>FANIA    </td><td>02/08/2013</td><td>   14.04</td><td>per Hour </td><td> 896.83</td><td>14324.39</td><td>0</td><td> -79.95</td><td>  213.00</td></tr>\n",
       "\t<tr><td>2018</td><td>POLICE DEPARTMENT</td><td>BARNES        </td><td>NAOMI    </td><td>10/16/2015</td><td>   13.50</td><td>per Hour </td><td> 911.00</td><td>13788.74</td><td>0</td><td> -83.07</td><td>  213.00</td></tr>\n",
       "\t<tr><td>2018</td><td>POLICE DEPARTMENT</td><td>WALSTON       </td><td>CAROL    </td><td>05/02/2002</td><td>   14.04</td><td>per Hour </td><td>1037.00</td><td>17075.93</td><td>0</td><td> -83.40</td><td>  755.47</td></tr>\n",
       "\t<tr><td>2018</td><td>POLICE DEPARTMENT</td><td>GOODWINE      </td><td>JULIA    </td><td>06/24/2002</td><td>   14.04</td><td>per Hour </td><td> 866.00</td><td>14449.89</td><td>0</td><td> -83.61</td><td>  604.99</td></tr>\n",
       "\t<tr><td>2018</td><td>POLICE DEPARTMENT</td><td>ROLDAN        </td><td>NANCY    </td><td>09/04/2008</td><td>   14.04</td><td>per Hour </td><td> 875.25</td><td>14539.91</td><td>0</td><td> -83.62</td><td>  213.00</td></tr>\n",
       "\t<tr><td>2018</td><td>POLICE DEPARTMENT</td><td>VALENTIN      </td><td>CARMEN   </td><td>03/23/1999</td><td>   14.04</td><td>per Hour </td><td> 711.50</td><td>11791.24</td><td>0</td><td> -86.19</td><td>  556.23</td></tr>\n",
       "\t<tr><td>2018</td><td>POLICE DEPARTMENT</td><td>WILLIAMS      </td><td>CYNTHIA  </td><td>02/16/2016</td><td>   13.50</td><td>per Hour </td><td>1012.75</td><td>14842.35</td><td>0</td><td> -94.86</td><td>  213.00</td></tr>\n",
       "\t<tr><td>2018</td><td>POLICE DEPARTMENT</td><td>FERGUSON      </td><td>BETTINA  </td><td>11/30/2015</td><td>   13.50</td><td>per Hour </td><td> 976.50</td><td>14302.91</td><td>0</td><td> -94.86</td><td>  213.00</td></tr>\n",
       "\t<tr><td>2018</td><td>POLICE DEPARTMENT</td><td>LEWIS         </td><td>HELEN    </td><td>10/15/2001</td><td>   14.04</td><td>per Hour </td><td>1045.25</td><td>17086.23</td><td>0</td><td> -97.44</td><td>  715.37</td></tr>\n",
       "\t<tr><td>2018</td><td>POLICE DEPARTMENT</td><td>MARGIOTTA     </td><td>PATRICIA </td><td>01/23/1998</td><td>   14.06</td><td>per Hour </td><td> 851.00</td><td>14246.31</td><td>0</td><td>-108.06</td><td>  630.78</td></tr>\n",
       "\t<tr><td>2018</td><td>POLICE DEPARTMENT</td><td>CASTRO        </td><td>MONIQUE  </td><td>08/19/2011</td><td>   14.04</td><td>per Hour </td><td> 962.40</td><td>15638.11</td><td>0</td><td>-111.27</td><td>  213.00</td></tr>\n",
       "\t<tr><td>2018</td><td>POLICE DEPARTMENT</td><td>MANIGO        </td><td>BEATRICE </td><td>08/26/2002</td><td>   14.04</td><td>per Hour </td><td>1017.67</td><td>16792.29</td><td>0</td><td>-125.10</td><td>  606.85</td></tr>\n",
       "\t<tr><td>2018</td><td>POLICE DEPARTMENT</td><td>LYNCH         </td><td>ALTONIA  </td><td>05/16/2014</td><td>   14.04</td><td>per Hour </td><td> 881.00</td><td>14608.63</td><td>0</td><td>-166.47</td><td>  213.00</td></tr>\n",
       "\t<tr><td>2018</td><td>POLICE DEPARTMENT</td><td>INFANZON      </td><td>GRETCHEN </td><td>07/11/2012</td><td>85292.00</td><td>per Annum</td><td>1742.87</td><td>60527.31</td><td>0</td><td>-537.10</td><td> 8980.93</td></tr>\n",
       "\t<tr><td>2018</td><td>POLICE DEPARTMENT</td><td>DONZO         </td><td>MOHAMMED </td><td>07/06/2010</td><td>85292.00</td><td>per Annum</td><td>1314.28</td><td>55147.19</td><td>0</td><td>-537.22</td><td>13143.56</td></tr>\n",
       "\t<tr><td>2018</td><td>POLICE DEPARTMENT</td><td>KYLE          </td><td>ROBERT   </td><td>07/01/1998</td><td>85292.00</td><td>per Annum</td><td>1034.28</td><td>43697.19</td><td>0</td><td>-563.90</td><td>11083.10</td></tr>\n",
       "</tbody>\n",
       "</table>\n"
      ],
      "text/latex": [
       "A data.frame: 546161 × 12\n",
       "\\begin{tabular}{llllllllllll}\n",
       " Fiscal.Year & Agency.Name & Last.Name & First.Name & Agency.Start.Date & Base.Salary & Pay.Basis & Regular.Hours & Regular.Gross.Paid & OT.Hours & Total.OT.Paid & Total.Other.Pay\\\\\n",
       " <int> & <chr> & <chr> & <chr> & <chr> & <dbl> & <chr> & <dbl> & <dbl> & <dbl> & <dbl> & <dbl>\\\\\n",
       "\\hline\n",
       "\t 2018 & BOARD OF ELECTION       & DONNELLY  & KAITLIN    & 07/28/2014 &     13.79 & per Hour  &  234.18 &   4194.68 &  75.75 & 1462.71 &   0.00\\\\\n",
       "\t 2018 & BOARD OF ELECTION       & ROQUE     & CONSUELO   & 02/28/2016 &     15.00 & per Hour  & 1664.55 &  24004.17 &  87.00 & 1443.01 &   0.00\\\\\n",
       "\t 2018 & BOARD OF ELECTION       & NUNEZ     & DAYSI      & 03/13/2016 &     19.79 & per Hour  & 1638.88 &  32499.63 &  66.25 & 1435.90 &  65.98\\\\\n",
       "\t 2018 & BOARD OF ELECTION       & SMITH     & THERESA    & 10/02/2017 &     15.00 & per Hour  & 1195.75 &  16574.09 &  57.50 & 1005.64 &  48.27\\\\\n",
       "\t 2018 & BOARD OF ELECTION       & HENRY     & JARED      & 10/31/2016 &     15.00 & per Hour  & 1339.38 &  19474.25 &  60.75 &  995.80 &  48.27\\\\\n",
       "\t 2018 & BOARD OF ELECTION       & CARUSO    & PHILIP     & 06/11/2012 &     15.00 & per Hour  & 1258.75 &  18995.24 &  58.25 &  925.28 &  50.47\\\\\n",
       "\t 2018 & BOARD OF ELECTION       & ARATO     & REBECCA    & 11/13/2017 &  27405.00 & per Annum & 1081.25 &  15047.70 &  22.00 &  393.87 &   0.00\\\\\n",
       "\t 2018 & BOARD OF ELECTION       & ROGERS    & FRANK      & 04/09/2018 &     15.00 & per Hour  &  320.25 &   4492.48 &  26.50 &  391.75 &   0.00\\\\\n",
       "\t 2018 & BOARD OF ELECTION       & GENDRON   & MATTHEW    & 04/16/2018 &     15.00 & per Hour  &  307.75 &   4328.57 &  20.00 &  375.00 &   0.00\\\\\n",
       "\t 2018 & BOARD OF ELECTION       & FABIO     & PAUL       & 04/02/2018 &     13.79 & per Hour  &  260.90 &   3597.83 &   1.00 &   13.79 &   0.00\\\\\n",
       "\t 2018 & BOARD OF ELECTION       & RYAN      & MICHAEL    & 08/25/2013 & 216540.00 & per Annum & 1790.00 & 209761.79 &   0.00 &    0.00 &   0.00\\\\\n",
       "\t 2018 & BOARD OF ELECTION       & SANDOW    & DAWN       & 11/14/2005 & 199387.00 & per Annum & 1790.00 & 193146.20 &   0.00 &    0.00 &   0.00\\\\\n",
       "\t 2018 & BOARD OF ELECTION       & PERKINS   & PAMELA     & 02/06/1994 & 183425.00 & per Annum & 1790.00 & 177683.84 &   0.00 &    0.00 &   0.00\\\\\n",
       "\t 2018 & BOARD OF ELECTION       & RICHMAN   & STEVEN     & 01/03/1999 & 180342.00 & per Annum & 1790.00 & 174696.52 &   0.00 &    0.00 &   0.00\\\\\n",
       "\t 2018 & BOARD OF ELECTION       & SAVINO    & RAPHAEL    & 07/03/2011 & 160000.00 & per Annum & 1790.00 & 143260.56 &   0.00 &    0.00 &   0.00\\\\\n",
       "\t 2018 & BOARD OF ELECTION       & PUGH      & GLORIA     & 09/26/2004 &  36147.00 & per Annum &   24.25 &   1386.46 &   0.00 &    0.00 &  27.46\\\\\n",
       "\t 2018 & BOARD OF ELECTION       & KLEINMAN  & LIOR       & 03/27/2017 &     13.79 & per Hour  &   55.50 &   1565.17 &   0.00 &    0.00 &   0.00\\\\\n",
       "\t 2018 & BOARD OF ELECTION       & BRYAN     & RICHARD    & 04/23/2017 &     13.79 & per Hour  &    0.00 &    193.06 &   0.00 &    0.00 &   0.00\\\\\n",
       "\t 2018 & BOARD OF ELECTION       & APPIAH    & RICHMOND   & 06/19/2017 &     13.79 & per Hour  &    9.90 &    595.04 &   0.00 &    0.00 &   0.00\\\\\n",
       "\t 2018 & BOARD OF ELECTION       & SMITH     & NICHOLAS   & 06/19/2017 &     13.79 & per Hour  &  186.40 &   3383.60 &   0.00 &    0.00 &   0.00\\\\\n",
       "\t 2018 & BOARD OF ELECTION       & HYNDMAN   & NIA        & 06/26/2017 &     13.79 & per Hour  &  224.25 &   3471.65 &   0.00 &    0.00 &   0.00\\\\\n",
       "\t 2018 & BOARD OF ELECTION       & MORRIS    & AMANDA     & 07/03/2017 &     13.79 & per Hour  &  223.75 &   3085.52 &   0.00 &    0.00 &   0.00\\\\\n",
       "\t 2018 & BOARD OF ELECTION       & DURU      & NNENNA     & 07/10/2017 &     13.79 & per Hour  &  280.00 &   3861.20 &   0.00 &    0.00 &   0.00\\\\\n",
       "\t 2018 & BOARD OF ELECTION       & ROBERTS   & AKAYLA     & 07/10/2017 &     13.79 & per Hour  &  273.83 &   3776.16 &   0.00 &    0.00 &   0.00\\\\\n",
       "\t 2018 & BOARD OF ELECTION       & BRAMBLE   & DAWNSIMONE & 01/28/2018 &     13.79 & per Hour  &  257.75 &   3554.38 &   0.00 &    0.00 &   0.00\\\\\n",
       "\t 2018 & BOARD OF ELECTION       & CLEMENT   & RONALDO    & 02/05/2018 &     13.79 & per Hour  &  230.00 &   3171.72 &   0.00 &    0.00 &   0.00\\\\\n",
       "\t 2018 & BOARD OF ELECTION       & SUN       & KADEN      & 04/01/2018 &     13.79 & per Hour  &    7.00 &     96.53 &   0.00 &    0.00 &   0.00\\\\\n",
       "\t 2018 & CAMPAIGN FINANCE BOARD  & KING      & AARON      & 12/14/2015 &  59312.00 & per Annum & 1790.00 &  60914.07 & 112.00 & 4528.17 & 386.83\\\\\n",
       "\t 2018 & CAMPAIGN FINANCE BOARD  & GIBSON    & DRUSILLA   & 05/01/2017 &     30.00 & per Hour  &  757.08 &  26283.65 & 111.00 & 4027.50 & 229.50\\\\\n",
       "\t 2018 & BOROUGH PRESIDENT-BRONX & ALCANTARA & DARISA     & 09/06/2016 &  45000.00 & per Annum &  390.00 &  10356.18 &   0.00 &    0.00 &   0.00\\\\\n",
       "\t ... & ... & ... & ... & ... & ... & ... & ... & ... & ... & ... & ...\\\\\n",
       "\t 2018 & POLICE DEPARTMENT & SMITH-HARRIOTT & MARIA     & 05/05/2003 & 37713.00 & per Annum &  581.72 & 10919.37 & 0 &  -23.90 &  1204.84\\\\\n",
       "\t 2018 & POLICE DEPARTMENT & CLAUSE         & SHERMAINE & 09/06/2016 &    13.50 & per Hour  &  812.50 & 12064.00 & 0 &  -23.94 &   213.00\\\\\n",
       "\t 2018 & POLICE DEPARTMENT & OVERBY         & TONY      & 11/30/2011 &    14.04 & per Hour  & 1032.68 & 16820.43 & 0 &  -27.87 &   213.00\\\\\n",
       "\t 2018 & POLICE DEPARTMENT & SOTO           & ANA       & 10/21/2005 &    14.04 & per Hour  & 1058.48 & 17319.07 & 0 &  -27.87 &   213.00\\\\\n",
       "\t 2018 & POLICE DEPARTMENT & LEWIS          & KIMBERLY  & 04/27/2012 &    14.04 & per Hour  &  445.68 &  7573.91 & 0 &  -27.87 &     0.00\\\\\n",
       "\t 2018 & POLICE DEPARTMENT & LOPEZ          & CARMEN    & 08/20/2004 &    14.04 & per Hour  & 1078.80 & 17618.36 & 0 &  -27.87 &   213.00\\\\\n",
       "\t 2018 & POLICE DEPARTMENT & LOUVIERE       & BETTY     & 09/24/2010 &    14.04 & per Hour  & 1042.50 & 17012.04 & 0 &  -28.08 &   213.00\\\\\n",
       "\t 2018 & POLICE DEPARTMENT & DURAND         & CHRISTINE & 06/09/2016 &    13.50 & per Hour  &  807.50 & 12054.46 & 0 &  -35.91 &   213.00\\\\\n",
       "\t 2018 & POLICE DEPARTMENT & SCOTLAND       & TASHAWN   & 12/09/2013 &    14.04 & per Hour  &  729.83 & 11957.32 & 0 &  -64.98 &   213.00\\\\\n",
       "\t 2018 & POLICE DEPARTMENT & LAUREANO       & MIGDALIA  & 05/02/2002 &    14.04 & per Hour  &  923.75 & 15297.68 & 0 &  -69.36 &   570.71\\\\\n",
       "\t 2018 & POLICE DEPARTMENT & BOSTICK-THOMAS & MONICA    & 07/16/2001 &    14.04 & per Hour  &  917.50 & 15045.39 & 0 &  -69.78 &   651.68\\\\\n",
       "\t 2018 & POLICE DEPARTMENT & COOKE          & LATARSHA  & 08/20/2004 &    14.04 & per Hour  &  881.57 & 14576.62 & 0 &  -69.78 &   213.00\\\\\n",
       "\t 2018 & POLICE DEPARTMENT & LUGO           & MARIA     & 10/20/1998 &    14.05 & per Hour  & 1018.00 & 16713.13 & 0 &  -71.56 &   706.58\\\\\n",
       "\t 2018 & POLICE DEPARTMENT & LAWSON         & DENISE    & 08/02/2000 &    14.04 & per Hour  &  739.00 & 12337.62 & 0 &  -71.93 &   572.93\\\\\n",
       "\t 2018 & POLICE DEPARTMENT & CONTRERAS      & FANIA     & 02/08/2013 &    14.04 & per Hour  &  896.83 & 14324.39 & 0 &  -79.95 &   213.00\\\\\n",
       "\t 2018 & POLICE DEPARTMENT & BARNES         & NAOMI     & 10/16/2015 &    13.50 & per Hour  &  911.00 & 13788.74 & 0 &  -83.07 &   213.00\\\\\n",
       "\t 2018 & POLICE DEPARTMENT & WALSTON        & CAROL     & 05/02/2002 &    14.04 & per Hour  & 1037.00 & 17075.93 & 0 &  -83.40 &   755.47\\\\\n",
       "\t 2018 & POLICE DEPARTMENT & GOODWINE       & JULIA     & 06/24/2002 &    14.04 & per Hour  &  866.00 & 14449.89 & 0 &  -83.61 &   604.99\\\\\n",
       "\t 2018 & POLICE DEPARTMENT & ROLDAN         & NANCY     & 09/04/2008 &    14.04 & per Hour  &  875.25 & 14539.91 & 0 &  -83.62 &   213.00\\\\\n",
       "\t 2018 & POLICE DEPARTMENT & VALENTIN       & CARMEN    & 03/23/1999 &    14.04 & per Hour  &  711.50 & 11791.24 & 0 &  -86.19 &   556.23\\\\\n",
       "\t 2018 & POLICE DEPARTMENT & WILLIAMS       & CYNTHIA   & 02/16/2016 &    13.50 & per Hour  & 1012.75 & 14842.35 & 0 &  -94.86 &   213.00\\\\\n",
       "\t 2018 & POLICE DEPARTMENT & FERGUSON       & BETTINA   & 11/30/2015 &    13.50 & per Hour  &  976.50 & 14302.91 & 0 &  -94.86 &   213.00\\\\\n",
       "\t 2018 & POLICE DEPARTMENT & LEWIS          & HELEN     & 10/15/2001 &    14.04 & per Hour  & 1045.25 & 17086.23 & 0 &  -97.44 &   715.37\\\\\n",
       "\t 2018 & POLICE DEPARTMENT & MARGIOTTA      & PATRICIA  & 01/23/1998 &    14.06 & per Hour  &  851.00 & 14246.31 & 0 & -108.06 &   630.78\\\\\n",
       "\t 2018 & POLICE DEPARTMENT & CASTRO         & MONIQUE   & 08/19/2011 &    14.04 & per Hour  &  962.40 & 15638.11 & 0 & -111.27 &   213.00\\\\\n",
       "\t 2018 & POLICE DEPARTMENT & MANIGO         & BEATRICE  & 08/26/2002 &    14.04 & per Hour  & 1017.67 & 16792.29 & 0 & -125.10 &   606.85\\\\\n",
       "\t 2018 & POLICE DEPARTMENT & LYNCH          & ALTONIA   & 05/16/2014 &    14.04 & per Hour  &  881.00 & 14608.63 & 0 & -166.47 &   213.00\\\\\n",
       "\t 2018 & POLICE DEPARTMENT & INFANZON       & GRETCHEN  & 07/11/2012 & 85292.00 & per Annum & 1742.87 & 60527.31 & 0 & -537.10 &  8980.93\\\\\n",
       "\t 2018 & POLICE DEPARTMENT & DONZO          & MOHAMMED  & 07/06/2010 & 85292.00 & per Annum & 1314.28 & 55147.19 & 0 & -537.22 & 13143.56\\\\\n",
       "\t 2018 & POLICE DEPARTMENT & KYLE           & ROBERT    & 07/01/1998 & 85292.00 & per Annum & 1034.28 & 43697.19 & 0 & -563.90 & 11083.10\\\\\n",
       "\\end{tabular}\n"
      ],
      "text/markdown": [
       "\n",
       "A data.frame: 546161 × 12\n",
       "\n",
       "| Fiscal.Year &lt;int&gt; | Agency.Name &lt;chr&gt; | Last.Name &lt;chr&gt; | First.Name &lt;chr&gt; | Agency.Start.Date &lt;chr&gt; | Base.Salary &lt;dbl&gt; | Pay.Basis &lt;chr&gt; | Regular.Hours &lt;dbl&gt; | Regular.Gross.Paid &lt;dbl&gt; | OT.Hours &lt;dbl&gt; | Total.OT.Paid &lt;dbl&gt; | Total.Other.Pay &lt;dbl&gt; |\n",
       "|---|---|---|---|---|---|---|---|---|---|---|---|\n",
       "| 2018 | BOARD OF ELECTION       | DONNELLY  | KAITLIN    | 07/28/2014 |     13.79 | per Hour  |  234.18 |   4194.68 |  75.75 | 1462.71 |   0.00 |\n",
       "| 2018 | BOARD OF ELECTION       | ROQUE     | CONSUELO   | 02/28/2016 |     15.00 | per Hour  | 1664.55 |  24004.17 |  87.00 | 1443.01 |   0.00 |\n",
       "| 2018 | BOARD OF ELECTION       | NUNEZ     | DAYSI      | 03/13/2016 |     19.79 | per Hour  | 1638.88 |  32499.63 |  66.25 | 1435.90 |  65.98 |\n",
       "| 2018 | BOARD OF ELECTION       | SMITH     | THERESA    | 10/02/2017 |     15.00 | per Hour  | 1195.75 |  16574.09 |  57.50 | 1005.64 |  48.27 |\n",
       "| 2018 | BOARD OF ELECTION       | HENRY     | JARED      | 10/31/2016 |     15.00 | per Hour  | 1339.38 |  19474.25 |  60.75 |  995.80 |  48.27 |\n",
       "| 2018 | BOARD OF ELECTION       | CARUSO    | PHILIP     | 06/11/2012 |     15.00 | per Hour  | 1258.75 |  18995.24 |  58.25 |  925.28 |  50.47 |\n",
       "| 2018 | BOARD OF ELECTION       | ARATO     | REBECCA    | 11/13/2017 |  27405.00 | per Annum | 1081.25 |  15047.70 |  22.00 |  393.87 |   0.00 |\n",
       "| 2018 | BOARD OF ELECTION       | ROGERS    | FRANK      | 04/09/2018 |     15.00 | per Hour  |  320.25 |   4492.48 |  26.50 |  391.75 |   0.00 |\n",
       "| 2018 | BOARD OF ELECTION       | GENDRON   | MATTHEW    | 04/16/2018 |     15.00 | per Hour  |  307.75 |   4328.57 |  20.00 |  375.00 |   0.00 |\n",
       "| 2018 | BOARD OF ELECTION       | FABIO     | PAUL       | 04/02/2018 |     13.79 | per Hour  |  260.90 |   3597.83 |   1.00 |   13.79 |   0.00 |\n",
       "| 2018 | BOARD OF ELECTION       | RYAN      | MICHAEL    | 08/25/2013 | 216540.00 | per Annum | 1790.00 | 209761.79 |   0.00 |    0.00 |   0.00 |\n",
       "| 2018 | BOARD OF ELECTION       | SANDOW    | DAWN       | 11/14/2005 | 199387.00 | per Annum | 1790.00 | 193146.20 |   0.00 |    0.00 |   0.00 |\n",
       "| 2018 | BOARD OF ELECTION       | PERKINS   | PAMELA     | 02/06/1994 | 183425.00 | per Annum | 1790.00 | 177683.84 |   0.00 |    0.00 |   0.00 |\n",
       "| 2018 | BOARD OF ELECTION       | RICHMAN   | STEVEN     | 01/03/1999 | 180342.00 | per Annum | 1790.00 | 174696.52 |   0.00 |    0.00 |   0.00 |\n",
       "| 2018 | BOARD OF ELECTION       | SAVINO    | RAPHAEL    | 07/03/2011 | 160000.00 | per Annum | 1790.00 | 143260.56 |   0.00 |    0.00 |   0.00 |\n",
       "| 2018 | BOARD OF ELECTION       | PUGH      | GLORIA     | 09/26/2004 |  36147.00 | per Annum |   24.25 |   1386.46 |   0.00 |    0.00 |  27.46 |\n",
       "| 2018 | BOARD OF ELECTION       | KLEINMAN  | LIOR       | 03/27/2017 |     13.79 | per Hour  |   55.50 |   1565.17 |   0.00 |    0.00 |   0.00 |\n",
       "| 2018 | BOARD OF ELECTION       | BRYAN     | RICHARD    | 04/23/2017 |     13.79 | per Hour  |    0.00 |    193.06 |   0.00 |    0.00 |   0.00 |\n",
       "| 2018 | BOARD OF ELECTION       | APPIAH    | RICHMOND   | 06/19/2017 |     13.79 | per Hour  |    9.90 |    595.04 |   0.00 |    0.00 |   0.00 |\n",
       "| 2018 | BOARD OF ELECTION       | SMITH     | NICHOLAS   | 06/19/2017 |     13.79 | per Hour  |  186.40 |   3383.60 |   0.00 |    0.00 |   0.00 |\n",
       "| 2018 | BOARD OF ELECTION       | HYNDMAN   | NIA        | 06/26/2017 |     13.79 | per Hour  |  224.25 |   3471.65 |   0.00 |    0.00 |   0.00 |\n",
       "| 2018 | BOARD OF ELECTION       | MORRIS    | AMANDA     | 07/03/2017 |     13.79 | per Hour  |  223.75 |   3085.52 |   0.00 |    0.00 |   0.00 |\n",
       "| 2018 | BOARD OF ELECTION       | DURU      | NNENNA     | 07/10/2017 |     13.79 | per Hour  |  280.00 |   3861.20 |   0.00 |    0.00 |   0.00 |\n",
       "| 2018 | BOARD OF ELECTION       | ROBERTS   | AKAYLA     | 07/10/2017 |     13.79 | per Hour  |  273.83 |   3776.16 |   0.00 |    0.00 |   0.00 |\n",
       "| 2018 | BOARD OF ELECTION       | BRAMBLE   | DAWNSIMONE | 01/28/2018 |     13.79 | per Hour  |  257.75 |   3554.38 |   0.00 |    0.00 |   0.00 |\n",
       "| 2018 | BOARD OF ELECTION       | CLEMENT   | RONALDO    | 02/05/2018 |     13.79 | per Hour  |  230.00 |   3171.72 |   0.00 |    0.00 |   0.00 |\n",
       "| 2018 | BOARD OF ELECTION       | SUN       | KADEN      | 04/01/2018 |     13.79 | per Hour  |    7.00 |     96.53 |   0.00 |    0.00 |   0.00 |\n",
       "| 2018 | CAMPAIGN FINANCE BOARD  | KING      | AARON      | 12/14/2015 |  59312.00 | per Annum | 1790.00 |  60914.07 | 112.00 | 4528.17 | 386.83 |\n",
       "| 2018 | CAMPAIGN FINANCE BOARD  | GIBSON    | DRUSILLA   | 05/01/2017 |     30.00 | per Hour  |  757.08 |  26283.65 | 111.00 | 4027.50 | 229.50 |\n",
       "| 2018 | BOROUGH PRESIDENT-BRONX | ALCANTARA | DARISA     | 09/06/2016 |  45000.00 | per Annum |  390.00 |  10356.18 |   0.00 |    0.00 |   0.00 |\n",
       "| ... | ... | ... | ... | ... | ... | ... | ... | ... | ... | ... | ... |\n",
       "| 2018 | POLICE DEPARTMENT | SMITH-HARRIOTT | MARIA     | 05/05/2003 | 37713.00 | per Annum |  581.72 | 10919.37 | 0 |  -23.90 |  1204.84 |\n",
       "| 2018 | POLICE DEPARTMENT | CLAUSE         | SHERMAINE | 09/06/2016 |    13.50 | per Hour  |  812.50 | 12064.00 | 0 |  -23.94 |   213.00 |\n",
       "| 2018 | POLICE DEPARTMENT | OVERBY         | TONY      | 11/30/2011 |    14.04 | per Hour  | 1032.68 | 16820.43 | 0 |  -27.87 |   213.00 |\n",
       "| 2018 | POLICE DEPARTMENT | SOTO           | ANA       | 10/21/2005 |    14.04 | per Hour  | 1058.48 | 17319.07 | 0 |  -27.87 |   213.00 |\n",
       "| 2018 | POLICE DEPARTMENT | LEWIS          | KIMBERLY  | 04/27/2012 |    14.04 | per Hour  |  445.68 |  7573.91 | 0 |  -27.87 |     0.00 |\n",
       "| 2018 | POLICE DEPARTMENT | LOPEZ          | CARMEN    | 08/20/2004 |    14.04 | per Hour  | 1078.80 | 17618.36 | 0 |  -27.87 |   213.00 |\n",
       "| 2018 | POLICE DEPARTMENT | LOUVIERE       | BETTY     | 09/24/2010 |    14.04 | per Hour  | 1042.50 | 17012.04 | 0 |  -28.08 |   213.00 |\n",
       "| 2018 | POLICE DEPARTMENT | DURAND         | CHRISTINE | 06/09/2016 |    13.50 | per Hour  |  807.50 | 12054.46 | 0 |  -35.91 |   213.00 |\n",
       "| 2018 | POLICE DEPARTMENT | SCOTLAND       | TASHAWN   | 12/09/2013 |    14.04 | per Hour  |  729.83 | 11957.32 | 0 |  -64.98 |   213.00 |\n",
       "| 2018 | POLICE DEPARTMENT | LAUREANO       | MIGDALIA  | 05/02/2002 |    14.04 | per Hour  |  923.75 | 15297.68 | 0 |  -69.36 |   570.71 |\n",
       "| 2018 | POLICE DEPARTMENT | BOSTICK-THOMAS | MONICA    | 07/16/2001 |    14.04 | per Hour  |  917.50 | 15045.39 | 0 |  -69.78 |   651.68 |\n",
       "| 2018 | POLICE DEPARTMENT | COOKE          | LATARSHA  | 08/20/2004 |    14.04 | per Hour  |  881.57 | 14576.62 | 0 |  -69.78 |   213.00 |\n",
       "| 2018 | POLICE DEPARTMENT | LUGO           | MARIA     | 10/20/1998 |    14.05 | per Hour  | 1018.00 | 16713.13 | 0 |  -71.56 |   706.58 |\n",
       "| 2018 | POLICE DEPARTMENT | LAWSON         | DENISE    | 08/02/2000 |    14.04 | per Hour  |  739.00 | 12337.62 | 0 |  -71.93 |   572.93 |\n",
       "| 2018 | POLICE DEPARTMENT | CONTRERAS      | FANIA     | 02/08/2013 |    14.04 | per Hour  |  896.83 | 14324.39 | 0 |  -79.95 |   213.00 |\n",
       "| 2018 | POLICE DEPARTMENT | BARNES         | NAOMI     | 10/16/2015 |    13.50 | per Hour  |  911.00 | 13788.74 | 0 |  -83.07 |   213.00 |\n",
       "| 2018 | POLICE DEPARTMENT | WALSTON        | CAROL     | 05/02/2002 |    14.04 | per Hour  | 1037.00 | 17075.93 | 0 |  -83.40 |   755.47 |\n",
       "| 2018 | POLICE DEPARTMENT | GOODWINE       | JULIA     | 06/24/2002 |    14.04 | per Hour  |  866.00 | 14449.89 | 0 |  -83.61 |   604.99 |\n",
       "| 2018 | POLICE DEPARTMENT | ROLDAN         | NANCY     | 09/04/2008 |    14.04 | per Hour  |  875.25 | 14539.91 | 0 |  -83.62 |   213.00 |\n",
       "| 2018 | POLICE DEPARTMENT | VALENTIN       | CARMEN    | 03/23/1999 |    14.04 | per Hour  |  711.50 | 11791.24 | 0 |  -86.19 |   556.23 |\n",
       "| 2018 | POLICE DEPARTMENT | WILLIAMS       | CYNTHIA   | 02/16/2016 |    13.50 | per Hour  | 1012.75 | 14842.35 | 0 |  -94.86 |   213.00 |\n",
       "| 2018 | POLICE DEPARTMENT | FERGUSON       | BETTINA   | 11/30/2015 |    13.50 | per Hour  |  976.50 | 14302.91 | 0 |  -94.86 |   213.00 |\n",
       "| 2018 | POLICE DEPARTMENT | LEWIS          | HELEN     | 10/15/2001 |    14.04 | per Hour  | 1045.25 | 17086.23 | 0 |  -97.44 |   715.37 |\n",
       "| 2018 | POLICE DEPARTMENT | MARGIOTTA      | PATRICIA  | 01/23/1998 |    14.06 | per Hour  |  851.00 | 14246.31 | 0 | -108.06 |   630.78 |\n",
       "| 2018 | POLICE DEPARTMENT | CASTRO         | MONIQUE   | 08/19/2011 |    14.04 | per Hour  |  962.40 | 15638.11 | 0 | -111.27 |   213.00 |\n",
       "| 2018 | POLICE DEPARTMENT | MANIGO         | BEATRICE  | 08/26/2002 |    14.04 | per Hour  | 1017.67 | 16792.29 | 0 | -125.10 |   606.85 |\n",
       "| 2018 | POLICE DEPARTMENT | LYNCH          | ALTONIA   | 05/16/2014 |    14.04 | per Hour  |  881.00 | 14608.63 | 0 | -166.47 |   213.00 |\n",
       "| 2018 | POLICE DEPARTMENT | INFANZON       | GRETCHEN  | 07/11/2012 | 85292.00 | per Annum | 1742.87 | 60527.31 | 0 | -537.10 |  8980.93 |\n",
       "| 2018 | POLICE DEPARTMENT | DONZO          | MOHAMMED  | 07/06/2010 | 85292.00 | per Annum | 1314.28 | 55147.19 | 0 | -537.22 | 13143.56 |\n",
       "| 2018 | POLICE DEPARTMENT | KYLE           | ROBERT    | 07/01/1998 | 85292.00 | per Annum | 1034.28 | 43697.19 | 0 | -563.90 | 11083.10 |\n",
       "\n"
      ],
      "text/plain": [
       "       Fiscal.Year Agency.Name             Last.Name      First.Name\n",
       "1      2018        BOARD OF ELECTION       DONNELLY       KAITLIN   \n",
       "2      2018        BOARD OF ELECTION       ROQUE          CONSUELO  \n",
       "3      2018        BOARD OF ELECTION       NUNEZ          DAYSI     \n",
       "4      2018        BOARD OF ELECTION       SMITH          THERESA   \n",
       "5      2018        BOARD OF ELECTION       HENRY          JARED     \n",
       "6      2018        BOARD OF ELECTION       CARUSO         PHILIP    \n",
       "7      2018        BOARD OF ELECTION       ARATO          REBECCA   \n",
       "8      2018        BOARD OF ELECTION       ROGERS         FRANK     \n",
       "9      2018        BOARD OF ELECTION       GENDRON        MATTHEW   \n",
       "10     2018        BOARD OF ELECTION       FABIO          PAUL      \n",
       "11     2018        BOARD OF ELECTION       RYAN           MICHAEL   \n",
       "12     2018        BOARD OF ELECTION       SANDOW         DAWN      \n",
       "13     2018        BOARD OF ELECTION       PERKINS        PAMELA    \n",
       "14     2018        BOARD OF ELECTION       RICHMAN        STEVEN    \n",
       "15     2018        BOARD OF ELECTION       SAVINO         RAPHAEL   \n",
       "16     2018        BOARD OF ELECTION       PUGH           GLORIA    \n",
       "17     2018        BOARD OF ELECTION       KLEINMAN       LIOR      \n",
       "18     2018        BOARD OF ELECTION       BRYAN          RICHARD   \n",
       "19     2018        BOARD OF ELECTION       APPIAH         RICHMOND  \n",
       "20     2018        BOARD OF ELECTION       SMITH          NICHOLAS  \n",
       "21     2018        BOARD OF ELECTION       HYNDMAN        NIA       \n",
       "22     2018        BOARD OF ELECTION       MORRIS         AMANDA    \n",
       "23     2018        BOARD OF ELECTION       DURU           NNENNA    \n",
       "24     2018        BOARD OF ELECTION       ROBERTS        AKAYLA    \n",
       "25     2018        BOARD OF ELECTION       BRAMBLE        DAWNSIMONE\n",
       "26     2018        BOARD OF ELECTION       CLEMENT        RONALDO   \n",
       "27     2018        BOARD OF ELECTION       SUN            KADEN     \n",
       "28     2018        CAMPAIGN FINANCE BOARD  KING           AARON     \n",
       "29     2018        CAMPAIGN FINANCE BOARD  GIBSON         DRUSILLA  \n",
       "30     2018        BOROUGH PRESIDENT-BRONX ALCANTARA      DARISA    \n",
       "...    ...         ...                     ...            ...       \n",
       "546132 2018        POLICE DEPARTMENT       SMITH-HARRIOTT MARIA     \n",
       "546133 2018        POLICE DEPARTMENT       CLAUSE         SHERMAINE \n",
       "546134 2018        POLICE DEPARTMENT       OVERBY         TONY      \n",
       "546135 2018        POLICE DEPARTMENT       SOTO           ANA       \n",
       "546136 2018        POLICE DEPARTMENT       LEWIS          KIMBERLY  \n",
       "546137 2018        POLICE DEPARTMENT       LOPEZ          CARMEN    \n",
       "546138 2018        POLICE DEPARTMENT       LOUVIERE       BETTY     \n",
       "546139 2018        POLICE DEPARTMENT       DURAND         CHRISTINE \n",
       "546140 2018        POLICE DEPARTMENT       SCOTLAND       TASHAWN   \n",
       "546141 2018        POLICE DEPARTMENT       LAUREANO       MIGDALIA  \n",
       "546142 2018        POLICE DEPARTMENT       BOSTICK-THOMAS MONICA    \n",
       "546143 2018        POLICE DEPARTMENT       COOKE          LATARSHA  \n",
       "546144 2018        POLICE DEPARTMENT       LUGO           MARIA     \n",
       "546145 2018        POLICE DEPARTMENT       LAWSON         DENISE    \n",
       "546146 2018        POLICE DEPARTMENT       CONTRERAS      FANIA     \n",
       "546147 2018        POLICE DEPARTMENT       BARNES         NAOMI     \n",
       "546148 2018        POLICE DEPARTMENT       WALSTON        CAROL     \n",
       "546149 2018        POLICE DEPARTMENT       GOODWINE       JULIA     \n",
       "546150 2018        POLICE DEPARTMENT       ROLDAN         NANCY     \n",
       "546151 2018        POLICE DEPARTMENT       VALENTIN       CARMEN    \n",
       "546152 2018        POLICE DEPARTMENT       WILLIAMS       CYNTHIA   \n",
       "546153 2018        POLICE DEPARTMENT       FERGUSON       BETTINA   \n",
       "546154 2018        POLICE DEPARTMENT       LEWIS          HELEN     \n",
       "546155 2018        POLICE DEPARTMENT       MARGIOTTA      PATRICIA  \n",
       "546156 2018        POLICE DEPARTMENT       CASTRO         MONIQUE   \n",
       "546157 2018        POLICE DEPARTMENT       MANIGO         BEATRICE  \n",
       "546158 2018        POLICE DEPARTMENT       LYNCH          ALTONIA   \n",
       "546159 2018        POLICE DEPARTMENT       INFANZON       GRETCHEN  \n",
       "546160 2018        POLICE DEPARTMENT       DONZO          MOHAMMED  \n",
       "546161 2018        POLICE DEPARTMENT       KYLE           ROBERT    \n",
       "       Agency.Start.Date Base.Salary Pay.Basis Regular.Hours Regular.Gross.Paid\n",
       "1      07/28/2014            13.79   per Hour   234.18         4194.68         \n",
       "2      02/28/2016            15.00   per Hour  1664.55        24004.17         \n",
       "3      03/13/2016            19.79   per Hour  1638.88        32499.63         \n",
       "4      10/02/2017            15.00   per Hour  1195.75        16574.09         \n",
       "5      10/31/2016            15.00   per Hour  1339.38        19474.25         \n",
       "6      06/11/2012            15.00   per Hour  1258.75        18995.24         \n",
       "7      11/13/2017         27405.00   per Annum 1081.25        15047.70         \n",
       "8      04/09/2018            15.00   per Hour   320.25         4492.48         \n",
       "9      04/16/2018            15.00   per Hour   307.75         4328.57         \n",
       "10     04/02/2018            13.79   per Hour   260.90         3597.83         \n",
       "11     08/25/2013        216540.00   per Annum 1790.00       209761.79         \n",
       "12     11/14/2005        199387.00   per Annum 1790.00       193146.20         \n",
       "13     02/06/1994        183425.00   per Annum 1790.00       177683.84         \n",
       "14     01/03/1999        180342.00   per Annum 1790.00       174696.52         \n",
       "15     07/03/2011        160000.00   per Annum 1790.00       143260.56         \n",
       "16     09/26/2004         36147.00   per Annum   24.25         1386.46         \n",
       "17     03/27/2017            13.79   per Hour    55.50         1565.17         \n",
       "18     04/23/2017            13.79   per Hour     0.00          193.06         \n",
       "19     06/19/2017            13.79   per Hour     9.90          595.04         \n",
       "20     06/19/2017            13.79   per Hour   186.40         3383.60         \n",
       "21     06/26/2017            13.79   per Hour   224.25         3471.65         \n",
       "22     07/03/2017            13.79   per Hour   223.75         3085.52         \n",
       "23     07/10/2017            13.79   per Hour   280.00         3861.20         \n",
       "24     07/10/2017            13.79   per Hour   273.83         3776.16         \n",
       "25     01/28/2018            13.79   per Hour   257.75         3554.38         \n",
       "26     02/05/2018            13.79   per Hour   230.00         3171.72         \n",
       "27     04/01/2018            13.79   per Hour     7.00           96.53         \n",
       "28     12/14/2015         59312.00   per Annum 1790.00        60914.07         \n",
       "29     05/01/2017            30.00   per Hour   757.08        26283.65         \n",
       "30     09/06/2016         45000.00   per Annum  390.00        10356.18         \n",
       "...    ...               ...         ...       ...           ...               \n",
       "546132 05/05/2003        37713.00    per Annum  581.72       10919.37          \n",
       "546133 09/06/2016           13.50    per Hour   812.50       12064.00          \n",
       "546134 11/30/2011           14.04    per Hour  1032.68       16820.43          \n",
       "546135 10/21/2005           14.04    per Hour  1058.48       17319.07          \n",
       "546136 04/27/2012           14.04    per Hour   445.68        7573.91          \n",
       "546137 08/20/2004           14.04    per Hour  1078.80       17618.36          \n",
       "546138 09/24/2010           14.04    per Hour  1042.50       17012.04          \n",
       "546139 06/09/2016           13.50    per Hour   807.50       12054.46          \n",
       "546140 12/09/2013           14.04    per Hour   729.83       11957.32          \n",
       "546141 05/02/2002           14.04    per Hour   923.75       15297.68          \n",
       "546142 07/16/2001           14.04    per Hour   917.50       15045.39          \n",
       "546143 08/20/2004           14.04    per Hour   881.57       14576.62          \n",
       "546144 10/20/1998           14.05    per Hour  1018.00       16713.13          \n",
       "546145 08/02/2000           14.04    per Hour   739.00       12337.62          \n",
       "546146 02/08/2013           14.04    per Hour   896.83       14324.39          \n",
       "546147 10/16/2015           13.50    per Hour   911.00       13788.74          \n",
       "546148 05/02/2002           14.04    per Hour  1037.00       17075.93          \n",
       "546149 06/24/2002           14.04    per Hour   866.00       14449.89          \n",
       "546150 09/04/2008           14.04    per Hour   875.25       14539.91          \n",
       "546151 03/23/1999           14.04    per Hour   711.50       11791.24          \n",
       "546152 02/16/2016           13.50    per Hour  1012.75       14842.35          \n",
       "546153 11/30/2015           13.50    per Hour   976.50       14302.91          \n",
       "546154 10/15/2001           14.04    per Hour  1045.25       17086.23          \n",
       "546155 01/23/1998           14.06    per Hour   851.00       14246.31          \n",
       "546156 08/19/2011           14.04    per Hour   962.40       15638.11          \n",
       "546157 08/26/2002           14.04    per Hour  1017.67       16792.29          \n",
       "546158 05/16/2014           14.04    per Hour   881.00       14608.63          \n",
       "546159 07/11/2012        85292.00    per Annum 1742.87       60527.31          \n",
       "546160 07/06/2010        85292.00    per Annum 1314.28       55147.19          \n",
       "546161 07/01/1998        85292.00    per Annum 1034.28       43697.19          \n",
       "       OT.Hours Total.OT.Paid Total.Other.Pay\n",
       "1       75.75   1462.71         0.00         \n",
       "2       87.00   1443.01         0.00         \n",
       "3       66.25   1435.90        65.98         \n",
       "4       57.50   1005.64        48.27         \n",
       "5       60.75    995.80        48.27         \n",
       "6       58.25    925.28        50.47         \n",
       "7       22.00    393.87         0.00         \n",
       "8       26.50    391.75         0.00         \n",
       "9       20.00    375.00         0.00         \n",
       "10       1.00     13.79         0.00         \n",
       "11       0.00      0.00         0.00         \n",
       "12       0.00      0.00         0.00         \n",
       "13       0.00      0.00         0.00         \n",
       "14       0.00      0.00         0.00         \n",
       "15       0.00      0.00         0.00         \n",
       "16       0.00      0.00        27.46         \n",
       "17       0.00      0.00         0.00         \n",
       "18       0.00      0.00         0.00         \n",
       "19       0.00      0.00         0.00         \n",
       "20       0.00      0.00         0.00         \n",
       "21       0.00      0.00         0.00         \n",
       "22       0.00      0.00         0.00         \n",
       "23       0.00      0.00         0.00         \n",
       "24       0.00      0.00         0.00         \n",
       "25       0.00      0.00         0.00         \n",
       "26       0.00      0.00         0.00         \n",
       "27       0.00      0.00         0.00         \n",
       "28     112.00   4528.17       386.83         \n",
       "29     111.00   4027.50       229.50         \n",
       "30       0.00      0.00         0.00         \n",
       "...    ...      ...           ...            \n",
       "546132 0         -23.90        1204.84       \n",
       "546133 0         -23.94         213.00       \n",
       "546134 0         -27.87         213.00       \n",
       "546135 0         -27.87         213.00       \n",
       "546136 0         -27.87           0.00       \n",
       "546137 0         -27.87         213.00       \n",
       "546138 0         -28.08         213.00       \n",
       "546139 0         -35.91         213.00       \n",
       "546140 0         -64.98         213.00       \n",
       "546141 0         -69.36         570.71       \n",
       "546142 0         -69.78         651.68       \n",
       "546143 0         -69.78         213.00       \n",
       "546144 0         -71.56         706.58       \n",
       "546145 0         -71.93         572.93       \n",
       "546146 0         -79.95         213.00       \n",
       "546147 0         -83.07         213.00       \n",
       "546148 0         -83.40         755.47       \n",
       "546149 0         -83.61         604.99       \n",
       "546150 0         -83.62         213.00       \n",
       "546151 0         -86.19         556.23       \n",
       "546152 0         -94.86         213.00       \n",
       "546153 0         -94.86         213.00       \n",
       "546154 0         -97.44         715.37       \n",
       "546155 0        -108.06         630.78       \n",
       "546156 0        -111.27         213.00       \n",
       "546157 0        -125.10         606.85       \n",
       "546158 0        -166.47         213.00       \n",
       "546159 0        -537.10        8980.93       \n",
       "546160 0        -537.22       13143.56       \n",
       "546161 0        -563.90       11083.10       "
      ]
     },
     "metadata": {},
     "output_type": "display_data"
    }
   ],
   "source": [
    "nyc_payroll"
   ]
  },
  {
   "cell_type": "code",
   "execution_count": 13,
   "metadata": {},
   "outputs": [],
   "source": [
    "nyc_payroll_annum <- filter(nyc_payroll, Pay.Basis==\"per Annum\")"
   ]
  },
  {
   "cell_type": "code",
   "execution_count": 14,
   "metadata": {},
   "outputs": [
    {
     "data": {
      "text/html": [
       "<table>\n",
       "<caption>A data.frame: 334051 × 12</caption>\n",
       "<thead>\n",
       "\t<tr><th scope=col>Fiscal.Year</th><th scope=col>Agency.Name</th><th scope=col>Last.Name</th><th scope=col>First.Name</th><th scope=col>Agency.Start.Date</th><th scope=col>Base.Salary</th><th scope=col>Pay.Basis</th><th scope=col>Regular.Hours</th><th scope=col>Regular.Gross.Paid</th><th scope=col>OT.Hours</th><th scope=col>Total.OT.Paid</th><th scope=col>Total.Other.Pay</th></tr>\n",
       "\t<tr><th scope=col>&lt;int&gt;</th><th scope=col>&lt;chr&gt;</th><th scope=col>&lt;chr&gt;</th><th scope=col>&lt;chr&gt;</th><th scope=col>&lt;chr&gt;</th><th scope=col>&lt;dbl&gt;</th><th scope=col>&lt;chr&gt;</th><th scope=col>&lt;dbl&gt;</th><th scope=col>&lt;dbl&gt;</th><th scope=col>&lt;dbl&gt;</th><th scope=col>&lt;dbl&gt;</th><th scope=col>&lt;dbl&gt;</th></tr>\n",
       "</thead>\n",
       "<tbody>\n",
       "\t<tr><td>2018</td><td>BOARD OF ELECTION            </td><td>ARATO    </td><td>REBECCA  </td><td>11/13/2017</td><td> 27405</td><td>per Annum</td><td>1081.25</td><td> 15047.70</td><td> 22.00</td><td> 393.87</td><td>   0.00</td></tr>\n",
       "\t<tr><td>2018</td><td>BOARD OF ELECTION            </td><td>RYAN     </td><td>MICHAEL  </td><td>08/25/2013</td><td>216540</td><td>per Annum</td><td>1790.00</td><td>209761.79</td><td>  0.00</td><td>   0.00</td><td>   0.00</td></tr>\n",
       "\t<tr><td>2018</td><td>BOARD OF ELECTION            </td><td>SANDOW   </td><td>DAWN     </td><td>11/14/2005</td><td>199387</td><td>per Annum</td><td>1790.00</td><td>193146.20</td><td>  0.00</td><td>   0.00</td><td>   0.00</td></tr>\n",
       "\t<tr><td>2018</td><td>BOARD OF ELECTION            </td><td>PERKINS  </td><td>PAMELA   </td><td>02/06/1994</td><td>183425</td><td>per Annum</td><td>1790.00</td><td>177683.84</td><td>  0.00</td><td>   0.00</td><td>   0.00</td></tr>\n",
       "\t<tr><td>2018</td><td>BOARD OF ELECTION            </td><td>RICHMAN  </td><td>STEVEN   </td><td>01/03/1999</td><td>180342</td><td>per Annum</td><td>1790.00</td><td>174696.52</td><td>  0.00</td><td>   0.00</td><td>   0.00</td></tr>\n",
       "\t<tr><td>2018</td><td>BOARD OF ELECTION            </td><td>SAVINO   </td><td>RAPHAEL  </td><td>07/03/2011</td><td>160000</td><td>per Annum</td><td>1790.00</td><td>143260.56</td><td>  0.00</td><td>   0.00</td><td>   0.00</td></tr>\n",
       "\t<tr><td>2018</td><td>BOARD OF ELECTION            </td><td>PUGH     </td><td>GLORIA   </td><td>09/26/2004</td><td> 36147</td><td>per Annum</td><td>  24.25</td><td>  1386.46</td><td>  0.00</td><td>   0.00</td><td>  27.46</td></tr>\n",
       "\t<tr><td>2018</td><td>CAMPAIGN FINANCE BOARD       </td><td>KING     </td><td>AARON    </td><td>12/14/2015</td><td> 59312</td><td>per Annum</td><td>1790.00</td><td> 60914.07</td><td>112.00</td><td>4528.17</td><td> 386.83</td></tr>\n",
       "\t<tr><td>2018</td><td>BOROUGH PRESIDENT-BRONX      </td><td>ALCANTARA</td><td>DARISA   </td><td>09/06/2016</td><td> 45000</td><td>per Annum</td><td> 390.00</td><td> 10356.18</td><td>  0.00</td><td>   0.00</td><td>   0.00</td></tr>\n",
       "\t<tr><td>2018</td><td>BOROUGH PRESIDENT-BRONX      </td><td>RUIZ     </td><td>ALEXIS   </td><td>02/05/2018</td><td> 45000</td><td>per Annum</td><td> 700.00</td><td> 17260.30</td><td>  0.00</td><td>   0.00</td><td>  24.75</td></tr>\n",
       "\t<tr><td>2018</td><td>OFFICE OF THE COMPTROLLER    </td><td>WEI      </td><td>XIN      </td><td>08/03/2015</td><td>106631</td><td>per Annum</td><td>1790.00</td><td>106338.96</td><td>  0.00</td><td>   0.00</td><td>5231.94</td></tr>\n",
       "\t<tr><td>2018</td><td>OFFICE OF THE COMPTROLLER    </td><td>HO       </td><td>SABRINA  </td><td>03/14/2016</td><td> 53759</td><td>per Annum</td><td>1790.00</td><td> 51996.35</td><td>  0.00</td><td>   0.00</td><td> 140.25</td></tr>\n",
       "\t<tr><td>2018</td><td>OFFICE OF THE COMPTROLLER    </td><td>LI       </td><td>CHRISTINE</td><td>08/22/2016</td><td> 53759</td><td>per Annum</td><td>1132.00</td><td> 35878.62</td><td>  0.00</td><td>   0.00</td><td>1000.00</td></tr>\n",
       "\t<tr><td>2018</td><td>OFFICE OF THE COMPTROLLER    </td><td>LU       </td><td>JIAXIN   </td><td>12/04/2017</td><td> 53759</td><td>per Annum</td><td>1015.00</td><td> 29898.85</td><td>  0.00</td><td>   0.00</td><td>   0.00</td></tr>\n",
       "\t<tr><td>2018</td><td>OFFICE OF THE COMPTROLLER    </td><td>IZAROVA  </td><td>ZHANNA   </td><td>03/12/2018</td><td> 53759</td><td>per Annum</td><td> 525.00</td><td> 15464.92</td><td>  0.00</td><td>   0.00</td><td>   0.00</td></tr>\n",
       "\t<tr><td>2018</td><td>OFFICE OF THE COMPTROLLER    </td><td>SINGH    </td><td>GURDEEP  </td><td>03/18/2018</td><td> 53759</td><td>per Annum</td><td> 469.00</td><td> 13815.33</td><td>  0.00</td><td>   0.00</td><td>   0.00</td></tr>\n",
       "\t<tr><td>2018</td><td>OFFICE OF THE COMPTROLLER    </td><td>COFFIN   </td><td>SAMUEL   </td><td>06/04/2018</td><td> 48631</td><td>per Annum</td><td> 291.03</td><td>  5506.92</td><td>  0.00</td><td>   0.00</td><td>   0.00</td></tr>\n",
       "\t<tr><td>2018</td><td>OFFICE OF THE COMPTROLLER    </td><td>COBENA   </td><td>HUMBERTO </td><td>06/25/2018</td><td> 48631</td><td>per Annum</td><td> 195.70</td><td>  2935.50</td><td>  0.00</td><td>   0.00</td><td>   0.00</td></tr>\n",
       "\t<tr><td>2018</td><td>OFFICE OF MANAGEMENT &amp; BUDGET</td><td><span style=white-space:pre-wrap>DANG     </span></td><td><span style=white-space:pre-wrap>BARRON   </span></td><td>03/06/2017</td><td> 73939</td><td>per Annum</td><td>1786.00</td><td> 73574.46</td><td><span style=white-space:pre-wrap>  0.00</span></td><td><span style=white-space:pre-wrap>   0.00</span></td><td><span style=white-space:pre-wrap>   0.00</span></td></tr>\n",
       "\t<tr><td>2018</td><td>TAX COMMISSION               </td><td>CHU-FONG </td><td>ALEXANDER</td><td>08/15/2016</td><td>116712</td><td>per Annum</td><td>1790.00</td><td>116392.12</td><td>  0.00</td><td>   0.00</td><td>1429.75</td></tr>\n",
       "\t<tr><td>2018</td><td>TAX COMMISSION               </td><td>ARIGO    </td><td>JOSEPH   </td><td>11/18/1991</td><td> 94432</td><td>per Annum</td><td>   0.00</td><td>     0.00</td><td>  0.00</td><td>   0.00</td><td>  39.88</td></tr>\n",
       "\t<tr><td>2018</td><td>LAW DEPARTMENT               </td><td>MULLIN   </td><td>DIANE    </td><td>09/09/1996</td><td> 46310</td><td>per Annum</td><td>1790.00</td><td> 46183.02</td><td>141.75</td><td>4417.79</td><td>5764.76</td></tr>\n",
       "\t<tr><td>2018</td><td>LAW DEPARTMENT               </td><td>BASLEY   </td><td>RHODA    </td><td>07/03/2006</td><td> 50531</td><td>per Annum</td><td>1790.00</td><td> 50392.68</td><td>114.50</td><td>4273.40</td><td>2515.58</td></tr>\n",
       "\t<tr><td>2018</td><td>LAW DEPARTMENT               </td><td>ROSARIO  </td><td>JESSICA  </td><td>08/29/2011</td><td> 46244</td><td>per Annum</td><td>1790.00</td><td> 46117.25</td><td> 20.00</td><td> 644.10</td><td> 616.86</td></tr>\n",
       "\t<tr><td>2018</td><td>LAW DEPARTMENT               </td><td>TURK     </td><td>SUSAN    </td><td>10/21/2013</td><td>114437</td><td>per Annum</td><td>1790.00</td><td>112157.15</td><td>  0.00</td><td>   0.00</td><td>   0.00</td></tr>\n",
       "\t<tr><td>2018</td><td>LAW DEPARTMENT               </td><td>GILBERT  </td><td>SARAH    </td><td>12/23/2013</td><td>114437</td><td>per Annum</td><td>1790.00</td><td>112157.15</td><td>  0.00</td><td>   0.00</td><td>   0.00</td></tr>\n",
       "\t<tr><td>2018</td><td>LAW DEPARTMENT               </td><td>LEASON   </td><td>RANDAL   </td><td>04/10/1978</td><td> 92724</td><td>per Annum</td><td>1790.00</td><td> 92470.04</td><td>  0.00</td><td>   0.00</td><td>6007.60</td></tr>\n",
       "\t<tr><td>2018</td><td>LAW DEPARTMENT               </td><td>FUCHS    </td><td>LENNY    </td><td>04/01/2013</td><td> 83242</td><td>per Annum</td><td>1790.00</td><td> 83013.84</td><td>  0.00</td><td>   0.00</td><td>   0.00</td></tr>\n",
       "\t<tr><td>2018</td><td>LAW DEPARTMENT               </td><td>BODNER   </td><td>RENATA   </td><td>09/19/2011</td><td> 48355</td><td>per Annum</td><td>  96.33</td><td>  3347.15</td><td>  0.00</td><td>   0.00</td><td>   0.00</td></tr>\n",
       "\t<tr><td>2018</td><td>LAW DEPARTMENT               </td><td>FAISON   </td><td>SHAMEKA  </td><td>03/01/2005</td><td> 48244</td><td>per Annum</td><td>1790.00</td><td> 48111.70</td><td>  0.00</td><td>   0.00</td><td>1842.28</td></tr>\n",
       "\t<tr><td>...</td><td>...</td><td>...</td><td>...</td><td>...</td><td>...</td><td>...</td><td>...</td><td>...</td><td>...</td><td>...</td><td>...</td></tr>\n",
       "\t<tr><td>2018</td><td>POLICE DEPARTMENT</td><td>MONTALES       </td><td>DENNIS     </td><td>07/25/2016</td><td> 30706</td><td>per Annum</td><td>   0.00</td><td>  243.68</td><td>0.00</td><td>   0.00</td><td>    0.00</td></tr>\n",
       "\t<tr><td>2018</td><td>POLICE DEPARTMENT</td><td>MANANDHAR      </td><td>URJALA     </td><td>07/25/2016</td><td> 30706</td><td>per Annum</td><td>  29.72</td><td> 1648.85</td><td>0.00</td><td>   0.00</td><td>    0.00</td></tr>\n",
       "\t<tr><td>2018</td><td>POLICE DEPARTMENT</td><td>ALEXANDER      </td><td>EMLYN      </td><td>09/24/2017</td><td> 30706</td><td>per Annum</td><td>   9.00</td><td>  250.26</td><td>0.00</td><td>   0.00</td><td>    0.00</td></tr>\n",
       "\t<tr><td>2018</td><td>POLICE DEPARTMENT</td><td>RASHID         </td><td>MOHAMMAD   </td><td>11/09/2016</td><td> 30706</td><td>per Annum</td><td>   0.00</td><td>   22.76</td><td>0.00</td><td>   0.00</td><td>    0.00</td></tr>\n",
       "\t<tr><td>2018</td><td>POLICE DEPARTMENT</td><td>JARVIS         </td><td>QUINCEY    </td><td>12/19/2016</td><td> 29882</td><td>per Annum</td><td>2045.72</td><td>29800.16</td><td>0.00</td><td>   0.00</td><td>  223.40</td></tr>\n",
       "\t<tr><td>2018</td><td>POLICE DEPARTMENT</td><td>YOUNG          </td><td>MARK       </td><td>12/19/2016</td><td> 29882</td><td>per Annum</td><td>2045.72</td><td>29479.06</td><td>0.00</td><td>   0.00</td><td>  617.05</td></tr>\n",
       "\t<tr><td>2018</td><td>POLICE DEPARTMENT</td><td>ATKINS         </td><td>KIZZY      </td><td>10/24/2016</td><td> 29882</td><td>per Annum</td><td>   0.00</td><td>  300.68</td><td>0.00</td><td>   0.00</td><td>    0.00</td></tr>\n",
       "\t<tr><td>2018</td><td>POLICE DEPARTMENT</td><td>VIRUET         </td><td>FRANKLIN   </td><td>04/26/2016</td><td> 29882</td><td>per Annum</td><td>2045.72</td><td>29801.01</td><td>0.00</td><td>   0.00</td><td>    0.00</td></tr>\n",
       "\t<tr><td>2018</td><td>POLICE DEPARTMENT</td><td>GOMEZ          </td><td>RAYNIERO   </td><td>07/24/2017</td><td> 29205</td><td>per Annum</td><td>1680.00</td><td>26812.29</td><td>0.00</td><td>   0.00</td><td>  702.25</td></tr>\n",
       "\t<tr><td>2018</td><td>POLICE DEPARTMENT</td><td>RODRIGUEZ BONES</td><td>STEPHANIE  </td><td>07/24/2017</td><td> 29205</td><td>per Annum</td><td>1680.00</td><td>26812.29</td><td>0.00</td><td>   0.00</td><td>  111.90</td></tr>\n",
       "\t<tr><td>2018</td><td>POLICE DEPARTMENT</td><td>SCOTT          </td><td>NIGEL      </td><td>02/26/2018</td><td> 29204</td><td>per Annum</td><td> 595.00</td><td> 9521.28</td><td>0.00</td><td>   0.00</td><td>  264.00</td></tr>\n",
       "\t<tr><td>2018</td><td>POLICE DEPARTMENT</td><td>WALLS          </td><td>JASMIN     </td><td>01/10/2018</td><td> 29204</td><td>per Annum</td><td> 888.57</td><td>16082.22</td><td>0.00</td><td>   0.00</td><td>  382.95</td></tr>\n",
       "\t<tr><td>2018</td><td>POLICE DEPARTMENT</td><td>ACEVEDO        </td><td>TIARA      </td><td>02/26/2018</td><td> 29204</td><td>per Annum</td><td> 595.00</td><td> 9521.28</td><td>0.00</td><td>   0.00</td><td>    4.80</td></tr>\n",
       "\t<tr><td>2018</td><td>POLICE DEPARTMENT</td><td>GANLEY         </td><td>STEPHEN    </td><td>01/22/2018</td><td> 29204</td><td>per Annum</td><td> 770.00</td><td>12321.65</td><td>0.00</td><td>   0.00</td><td>  111.90</td></tr>\n",
       "\t<tr><td>2018</td><td>POLICE DEPARTMENT</td><td>PAREDES        </td><td>JOHN       </td><td>01/10/2018</td><td> 29204</td><td>per Annum</td><td> 862.85</td><td>14532.44</td><td>0.00</td><td>   0.00</td><td>  360.19</td></tr>\n",
       "\t<tr><td>2018</td><td>POLICE DEPARTMENT</td><td>FLORES         </td><td>SKARLLY    </td><td>06/10/2016</td><td> 29204</td><td>per Annum</td><td>1941.18</td><td>40648.22</td><td>0.00</td><td>   0.00</td><td> 2694.70</td></tr>\n",
       "\t<tr><td>2018</td><td>POLICE DEPARTMENT</td><td>JOHNSON        </td><td>CHERISE    </td><td>01/02/2018</td><td> 29204</td><td>per Annum</td><td> 861.00</td><td>13777.85</td><td>0.00</td><td>   0.00</td><td>  907.50</td></tr>\n",
       "\t<tr><td>2018</td><td>POLICE DEPARTMENT</td><td>HANSEN         </td><td>KERRI      </td><td>01/02/2018</td><td> 29204</td><td>per Annum</td><td> 868.00</td><td>13889.85</td><td>0.00</td><td>   0.00</td><td>   24.75</td></tr>\n",
       "\t<tr><td>2018</td><td>POLICE DEPARTMENT</td><td>OAKES          </td><td>TELIYA     </td><td>10/10/2017</td><td> 29204</td><td>per Annum</td><td>1288.00</td><td>20610.75</td><td>0.00</td><td>   0.00</td><td> 1723.52</td></tr>\n",
       "\t<tr><td>2018</td><td>POLICE DEPARTMENT</td><td>VERDUGA LOPEZ  </td><td>NICOLE     </td><td>09/18/2017</td><td> 28354</td><td>per Annum</td><td>1071.00</td><td>16639.47</td><td>0.00</td><td>   0.00</td><td>  162.96</td></tr>\n",
       "\t<tr><td>2018</td><td>POLICE DEPARTMENT</td><td>COMPETIELLO    </td><td>GAETANO    </td><td>04/15/1997</td><td>103585</td><td>per Annum</td><td>   0.00</td><td>29064.84</td><td>0.00</td><td>  -7.42</td><td>    0.00</td></tr>\n",
       "\t<tr><td>2018</td><td>POLICE DEPARTMENT</td><td>RILEY          </td><td>DAVID      </td><td>10/01/2003</td><td> 38295</td><td>per Annum</td><td> 795.00</td><td>14289.55</td><td>0.00</td><td> -13.63</td><td>  812.41</td></tr>\n",
       "\t<tr><td>2018</td><td>POLICE DEPARTMENT</td><td>MARTIN         </td><td>GARY       </td><td>01/13/1992</td><td> 85292</td><td>per Annum</td><td>2045.72</td><td>85058.22</td><td>1.33</td><td> -15.97</td><td>22046.66</td></tr>\n",
       "\t<tr><td>2018</td><td>POLICE DEPARTMENT</td><td>QUINONES       </td><td>CHRISTOPHER</td><td>02/23/2004</td><td> 42136</td><td>per Annum</td><td> 185.65</td><td> 3754.18</td><td>0.00</td><td> -18.15</td><td>    0.00</td></tr>\n",
       "\t<tr><td>2018</td><td>POLICE DEPARTMENT</td><td>TORRES         </td><td>NAYELI     </td><td>02/25/2016</td><td> 41683</td><td>per Annum</td><td>1636.00</td><td>32340.12</td><td>0.00</td><td> -19.24</td><td>  701.29</td></tr>\n",
       "\t<tr><td>2018</td><td>POLICE DEPARTMENT</td><td>CORTIELLA      </td><td>LINA       </td><td>10/16/2006</td><td> 40514</td><td>per Annum</td><td>1790.00</td><td>40402.96</td><td>0.00</td><td> -23.08</td><td> 1814.33</td></tr>\n",
       "\t<tr><td>2018</td><td>POLICE DEPARTMENT</td><td>SMITH-HARRIOTT </td><td>MARIA      </td><td>05/05/2003</td><td> 37713</td><td>per Annum</td><td> 581.72</td><td>10919.37</td><td>0.00</td><td> -23.90</td><td> 1204.84</td></tr>\n",
       "\t<tr><td>2018</td><td>POLICE DEPARTMENT</td><td>INFANZON       </td><td>GRETCHEN   </td><td>07/11/2012</td><td> 85292</td><td>per Annum</td><td>1742.87</td><td>60527.31</td><td>0.00</td><td>-537.10</td><td> 8980.93</td></tr>\n",
       "\t<tr><td>2018</td><td>POLICE DEPARTMENT</td><td>DONZO          </td><td>MOHAMMED   </td><td>07/06/2010</td><td> 85292</td><td>per Annum</td><td>1314.28</td><td>55147.19</td><td>0.00</td><td>-537.22</td><td>13143.56</td></tr>\n",
       "\t<tr><td>2018</td><td>POLICE DEPARTMENT</td><td>KYLE           </td><td>ROBERT     </td><td>07/01/1998</td><td> 85292</td><td>per Annum</td><td>1034.28</td><td>43697.19</td><td>0.00</td><td>-563.90</td><td>11083.10</td></tr>\n",
       "</tbody>\n",
       "</table>\n"
      ],
      "text/latex": [
       "A data.frame: 334051 × 12\n",
       "\\begin{tabular}{llllllllllll}\n",
       " Fiscal.Year & Agency.Name & Last.Name & First.Name & Agency.Start.Date & Base.Salary & Pay.Basis & Regular.Hours & Regular.Gross.Paid & OT.Hours & Total.OT.Paid & Total.Other.Pay\\\\\n",
       " <int> & <chr> & <chr> & <chr> & <chr> & <dbl> & <chr> & <dbl> & <dbl> & <dbl> & <dbl> & <dbl>\\\\\n",
       "\\hline\n",
       "\t 2018 & BOARD OF ELECTION             & ARATO     & REBECCA   & 11/13/2017 &  27405 & per Annum & 1081.25 &  15047.70 &  22.00 &  393.87 &    0.00\\\\\n",
       "\t 2018 & BOARD OF ELECTION             & RYAN      & MICHAEL   & 08/25/2013 & 216540 & per Annum & 1790.00 & 209761.79 &   0.00 &    0.00 &    0.00\\\\\n",
       "\t 2018 & BOARD OF ELECTION             & SANDOW    & DAWN      & 11/14/2005 & 199387 & per Annum & 1790.00 & 193146.20 &   0.00 &    0.00 &    0.00\\\\\n",
       "\t 2018 & BOARD OF ELECTION             & PERKINS   & PAMELA    & 02/06/1994 & 183425 & per Annum & 1790.00 & 177683.84 &   0.00 &    0.00 &    0.00\\\\\n",
       "\t 2018 & BOARD OF ELECTION             & RICHMAN   & STEVEN    & 01/03/1999 & 180342 & per Annum & 1790.00 & 174696.52 &   0.00 &    0.00 &    0.00\\\\\n",
       "\t 2018 & BOARD OF ELECTION             & SAVINO    & RAPHAEL   & 07/03/2011 & 160000 & per Annum & 1790.00 & 143260.56 &   0.00 &    0.00 &    0.00\\\\\n",
       "\t 2018 & BOARD OF ELECTION             & PUGH      & GLORIA    & 09/26/2004 &  36147 & per Annum &   24.25 &   1386.46 &   0.00 &    0.00 &   27.46\\\\\n",
       "\t 2018 & CAMPAIGN FINANCE BOARD        & KING      & AARON     & 12/14/2015 &  59312 & per Annum & 1790.00 &  60914.07 & 112.00 & 4528.17 &  386.83\\\\\n",
       "\t 2018 & BOROUGH PRESIDENT-BRONX       & ALCANTARA & DARISA    & 09/06/2016 &  45000 & per Annum &  390.00 &  10356.18 &   0.00 &    0.00 &    0.00\\\\\n",
       "\t 2018 & BOROUGH PRESIDENT-BRONX       & RUIZ      & ALEXIS    & 02/05/2018 &  45000 & per Annum &  700.00 &  17260.30 &   0.00 &    0.00 &   24.75\\\\\n",
       "\t 2018 & OFFICE OF THE COMPTROLLER     & WEI       & XIN       & 08/03/2015 & 106631 & per Annum & 1790.00 & 106338.96 &   0.00 &    0.00 & 5231.94\\\\\n",
       "\t 2018 & OFFICE OF THE COMPTROLLER     & HO        & SABRINA   & 03/14/2016 &  53759 & per Annum & 1790.00 &  51996.35 &   0.00 &    0.00 &  140.25\\\\\n",
       "\t 2018 & OFFICE OF THE COMPTROLLER     & LI        & CHRISTINE & 08/22/2016 &  53759 & per Annum & 1132.00 &  35878.62 &   0.00 &    0.00 & 1000.00\\\\\n",
       "\t 2018 & OFFICE OF THE COMPTROLLER     & LU        & JIAXIN    & 12/04/2017 &  53759 & per Annum & 1015.00 &  29898.85 &   0.00 &    0.00 &    0.00\\\\\n",
       "\t 2018 & OFFICE OF THE COMPTROLLER     & IZAROVA   & ZHANNA    & 03/12/2018 &  53759 & per Annum &  525.00 &  15464.92 &   0.00 &    0.00 &    0.00\\\\\n",
       "\t 2018 & OFFICE OF THE COMPTROLLER     & SINGH     & GURDEEP   & 03/18/2018 &  53759 & per Annum &  469.00 &  13815.33 &   0.00 &    0.00 &    0.00\\\\\n",
       "\t 2018 & OFFICE OF THE COMPTROLLER     & COFFIN    & SAMUEL    & 06/04/2018 &  48631 & per Annum &  291.03 &   5506.92 &   0.00 &    0.00 &    0.00\\\\\n",
       "\t 2018 & OFFICE OF THE COMPTROLLER     & COBENA    & HUMBERTO  & 06/25/2018 &  48631 & per Annum &  195.70 &   2935.50 &   0.00 &    0.00 &    0.00\\\\\n",
       "\t 2018 & OFFICE OF MANAGEMENT \\& BUDGET & DANG      & BARRON    & 03/06/2017 &  73939 & per Annum & 1786.00 &  73574.46 &   0.00 &    0.00 &    0.00\\\\\n",
       "\t 2018 & TAX COMMISSION                & CHU-FONG  & ALEXANDER & 08/15/2016 & 116712 & per Annum & 1790.00 & 116392.12 &   0.00 &    0.00 & 1429.75\\\\\n",
       "\t 2018 & TAX COMMISSION                & ARIGO     & JOSEPH    & 11/18/1991 &  94432 & per Annum &    0.00 &      0.00 &   0.00 &    0.00 &   39.88\\\\\n",
       "\t 2018 & LAW DEPARTMENT                & MULLIN    & DIANE     & 09/09/1996 &  46310 & per Annum & 1790.00 &  46183.02 & 141.75 & 4417.79 & 5764.76\\\\\n",
       "\t 2018 & LAW DEPARTMENT                & BASLEY    & RHODA     & 07/03/2006 &  50531 & per Annum & 1790.00 &  50392.68 & 114.50 & 4273.40 & 2515.58\\\\\n",
       "\t 2018 & LAW DEPARTMENT                & ROSARIO   & JESSICA   & 08/29/2011 &  46244 & per Annum & 1790.00 &  46117.25 &  20.00 &  644.10 &  616.86\\\\\n",
       "\t 2018 & LAW DEPARTMENT                & TURK      & SUSAN     & 10/21/2013 & 114437 & per Annum & 1790.00 & 112157.15 &   0.00 &    0.00 &    0.00\\\\\n",
       "\t 2018 & LAW DEPARTMENT                & GILBERT   & SARAH     & 12/23/2013 & 114437 & per Annum & 1790.00 & 112157.15 &   0.00 &    0.00 &    0.00\\\\\n",
       "\t 2018 & LAW DEPARTMENT                & LEASON    & RANDAL    & 04/10/1978 &  92724 & per Annum & 1790.00 &  92470.04 &   0.00 &    0.00 & 6007.60\\\\\n",
       "\t 2018 & LAW DEPARTMENT                & FUCHS     & LENNY     & 04/01/2013 &  83242 & per Annum & 1790.00 &  83013.84 &   0.00 &    0.00 &    0.00\\\\\n",
       "\t 2018 & LAW DEPARTMENT                & BODNER    & RENATA    & 09/19/2011 &  48355 & per Annum &   96.33 &   3347.15 &   0.00 &    0.00 &    0.00\\\\\n",
       "\t 2018 & LAW DEPARTMENT                & FAISON    & SHAMEKA   & 03/01/2005 &  48244 & per Annum & 1790.00 &  48111.70 &   0.00 &    0.00 & 1842.28\\\\\n",
       "\t ... & ... & ... & ... & ... & ... & ... & ... & ... & ... & ... & ...\\\\\n",
       "\t 2018 & POLICE DEPARTMENT & MONTALES        & DENNIS      & 07/25/2016 &  30706 & per Annum &    0.00 &   243.68 & 0.00 &    0.00 &     0.00\\\\\n",
       "\t 2018 & POLICE DEPARTMENT & MANANDHAR       & URJALA      & 07/25/2016 &  30706 & per Annum &   29.72 &  1648.85 & 0.00 &    0.00 &     0.00\\\\\n",
       "\t 2018 & POLICE DEPARTMENT & ALEXANDER       & EMLYN       & 09/24/2017 &  30706 & per Annum &    9.00 &   250.26 & 0.00 &    0.00 &     0.00\\\\\n",
       "\t 2018 & POLICE DEPARTMENT & RASHID          & MOHAMMAD    & 11/09/2016 &  30706 & per Annum &    0.00 &    22.76 & 0.00 &    0.00 &     0.00\\\\\n",
       "\t 2018 & POLICE DEPARTMENT & JARVIS          & QUINCEY     & 12/19/2016 &  29882 & per Annum & 2045.72 & 29800.16 & 0.00 &    0.00 &   223.40\\\\\n",
       "\t 2018 & POLICE DEPARTMENT & YOUNG           & MARK        & 12/19/2016 &  29882 & per Annum & 2045.72 & 29479.06 & 0.00 &    0.00 &   617.05\\\\\n",
       "\t 2018 & POLICE DEPARTMENT & ATKINS          & KIZZY       & 10/24/2016 &  29882 & per Annum &    0.00 &   300.68 & 0.00 &    0.00 &     0.00\\\\\n",
       "\t 2018 & POLICE DEPARTMENT & VIRUET          & FRANKLIN    & 04/26/2016 &  29882 & per Annum & 2045.72 & 29801.01 & 0.00 &    0.00 &     0.00\\\\\n",
       "\t 2018 & POLICE DEPARTMENT & GOMEZ           & RAYNIERO    & 07/24/2017 &  29205 & per Annum & 1680.00 & 26812.29 & 0.00 &    0.00 &   702.25\\\\\n",
       "\t 2018 & POLICE DEPARTMENT & RODRIGUEZ BONES & STEPHANIE   & 07/24/2017 &  29205 & per Annum & 1680.00 & 26812.29 & 0.00 &    0.00 &   111.90\\\\\n",
       "\t 2018 & POLICE DEPARTMENT & SCOTT           & NIGEL       & 02/26/2018 &  29204 & per Annum &  595.00 &  9521.28 & 0.00 &    0.00 &   264.00\\\\\n",
       "\t 2018 & POLICE DEPARTMENT & WALLS           & JASMIN      & 01/10/2018 &  29204 & per Annum &  888.57 & 16082.22 & 0.00 &    0.00 &   382.95\\\\\n",
       "\t 2018 & POLICE DEPARTMENT & ACEVEDO         & TIARA       & 02/26/2018 &  29204 & per Annum &  595.00 &  9521.28 & 0.00 &    0.00 &     4.80\\\\\n",
       "\t 2018 & POLICE DEPARTMENT & GANLEY          & STEPHEN     & 01/22/2018 &  29204 & per Annum &  770.00 & 12321.65 & 0.00 &    0.00 &   111.90\\\\\n",
       "\t 2018 & POLICE DEPARTMENT & PAREDES         & JOHN        & 01/10/2018 &  29204 & per Annum &  862.85 & 14532.44 & 0.00 &    0.00 &   360.19\\\\\n",
       "\t 2018 & POLICE DEPARTMENT & FLORES          & SKARLLY     & 06/10/2016 &  29204 & per Annum & 1941.18 & 40648.22 & 0.00 &    0.00 &  2694.70\\\\\n",
       "\t 2018 & POLICE DEPARTMENT & JOHNSON         & CHERISE     & 01/02/2018 &  29204 & per Annum &  861.00 & 13777.85 & 0.00 &    0.00 &   907.50\\\\\n",
       "\t 2018 & POLICE DEPARTMENT & HANSEN          & KERRI       & 01/02/2018 &  29204 & per Annum &  868.00 & 13889.85 & 0.00 &    0.00 &    24.75\\\\\n",
       "\t 2018 & POLICE DEPARTMENT & OAKES           & TELIYA      & 10/10/2017 &  29204 & per Annum & 1288.00 & 20610.75 & 0.00 &    0.00 &  1723.52\\\\\n",
       "\t 2018 & POLICE DEPARTMENT & VERDUGA LOPEZ   & NICOLE      & 09/18/2017 &  28354 & per Annum & 1071.00 & 16639.47 & 0.00 &    0.00 &   162.96\\\\\n",
       "\t 2018 & POLICE DEPARTMENT & COMPETIELLO     & GAETANO     & 04/15/1997 & 103585 & per Annum &    0.00 & 29064.84 & 0.00 &   -7.42 &     0.00\\\\\n",
       "\t 2018 & POLICE DEPARTMENT & RILEY           & DAVID       & 10/01/2003 &  38295 & per Annum &  795.00 & 14289.55 & 0.00 &  -13.63 &   812.41\\\\\n",
       "\t 2018 & POLICE DEPARTMENT & MARTIN          & GARY        & 01/13/1992 &  85292 & per Annum & 2045.72 & 85058.22 & 1.33 &  -15.97 & 22046.66\\\\\n",
       "\t 2018 & POLICE DEPARTMENT & QUINONES        & CHRISTOPHER & 02/23/2004 &  42136 & per Annum &  185.65 &  3754.18 & 0.00 &  -18.15 &     0.00\\\\\n",
       "\t 2018 & POLICE DEPARTMENT & TORRES          & NAYELI      & 02/25/2016 &  41683 & per Annum & 1636.00 & 32340.12 & 0.00 &  -19.24 &   701.29\\\\\n",
       "\t 2018 & POLICE DEPARTMENT & CORTIELLA       & LINA        & 10/16/2006 &  40514 & per Annum & 1790.00 & 40402.96 & 0.00 &  -23.08 &  1814.33\\\\\n",
       "\t 2018 & POLICE DEPARTMENT & SMITH-HARRIOTT  & MARIA       & 05/05/2003 &  37713 & per Annum &  581.72 & 10919.37 & 0.00 &  -23.90 &  1204.84\\\\\n",
       "\t 2018 & POLICE DEPARTMENT & INFANZON        & GRETCHEN    & 07/11/2012 &  85292 & per Annum & 1742.87 & 60527.31 & 0.00 & -537.10 &  8980.93\\\\\n",
       "\t 2018 & POLICE DEPARTMENT & DONZO           & MOHAMMED    & 07/06/2010 &  85292 & per Annum & 1314.28 & 55147.19 & 0.00 & -537.22 & 13143.56\\\\\n",
       "\t 2018 & POLICE DEPARTMENT & KYLE            & ROBERT      & 07/01/1998 &  85292 & per Annum & 1034.28 & 43697.19 & 0.00 & -563.90 & 11083.10\\\\\n",
       "\\end{tabular}\n"
      ],
      "text/markdown": [
       "\n",
       "A data.frame: 334051 × 12\n",
       "\n",
       "| Fiscal.Year &lt;int&gt; | Agency.Name &lt;chr&gt; | Last.Name &lt;chr&gt; | First.Name &lt;chr&gt; | Agency.Start.Date &lt;chr&gt; | Base.Salary &lt;dbl&gt; | Pay.Basis &lt;chr&gt; | Regular.Hours &lt;dbl&gt; | Regular.Gross.Paid &lt;dbl&gt; | OT.Hours &lt;dbl&gt; | Total.OT.Paid &lt;dbl&gt; | Total.Other.Pay &lt;dbl&gt; |\n",
       "|---|---|---|---|---|---|---|---|---|---|---|---|\n",
       "| 2018 | BOARD OF ELECTION             | ARATO     | REBECCA   | 11/13/2017 |  27405 | per Annum | 1081.25 |  15047.70 |  22.00 |  393.87 |    0.00 |\n",
       "| 2018 | BOARD OF ELECTION             | RYAN      | MICHAEL   | 08/25/2013 | 216540 | per Annum | 1790.00 | 209761.79 |   0.00 |    0.00 |    0.00 |\n",
       "| 2018 | BOARD OF ELECTION             | SANDOW    | DAWN      | 11/14/2005 | 199387 | per Annum | 1790.00 | 193146.20 |   0.00 |    0.00 |    0.00 |\n",
       "| 2018 | BOARD OF ELECTION             | PERKINS   | PAMELA    | 02/06/1994 | 183425 | per Annum | 1790.00 | 177683.84 |   0.00 |    0.00 |    0.00 |\n",
       "| 2018 | BOARD OF ELECTION             | RICHMAN   | STEVEN    | 01/03/1999 | 180342 | per Annum | 1790.00 | 174696.52 |   0.00 |    0.00 |    0.00 |\n",
       "| 2018 | BOARD OF ELECTION             | SAVINO    | RAPHAEL   | 07/03/2011 | 160000 | per Annum | 1790.00 | 143260.56 |   0.00 |    0.00 |    0.00 |\n",
       "| 2018 | BOARD OF ELECTION             | PUGH      | GLORIA    | 09/26/2004 |  36147 | per Annum |   24.25 |   1386.46 |   0.00 |    0.00 |   27.46 |\n",
       "| 2018 | CAMPAIGN FINANCE BOARD        | KING      | AARON     | 12/14/2015 |  59312 | per Annum | 1790.00 |  60914.07 | 112.00 | 4528.17 |  386.83 |\n",
       "| 2018 | BOROUGH PRESIDENT-BRONX       | ALCANTARA | DARISA    | 09/06/2016 |  45000 | per Annum |  390.00 |  10356.18 |   0.00 |    0.00 |    0.00 |\n",
       "| 2018 | BOROUGH PRESIDENT-BRONX       | RUIZ      | ALEXIS    | 02/05/2018 |  45000 | per Annum |  700.00 |  17260.30 |   0.00 |    0.00 |   24.75 |\n",
       "| 2018 | OFFICE OF THE COMPTROLLER     | WEI       | XIN       | 08/03/2015 | 106631 | per Annum | 1790.00 | 106338.96 |   0.00 |    0.00 | 5231.94 |\n",
       "| 2018 | OFFICE OF THE COMPTROLLER     | HO        | SABRINA   | 03/14/2016 |  53759 | per Annum | 1790.00 |  51996.35 |   0.00 |    0.00 |  140.25 |\n",
       "| 2018 | OFFICE OF THE COMPTROLLER     | LI        | CHRISTINE | 08/22/2016 |  53759 | per Annum | 1132.00 |  35878.62 |   0.00 |    0.00 | 1000.00 |\n",
       "| 2018 | OFFICE OF THE COMPTROLLER     | LU        | JIAXIN    | 12/04/2017 |  53759 | per Annum | 1015.00 |  29898.85 |   0.00 |    0.00 |    0.00 |\n",
       "| 2018 | OFFICE OF THE COMPTROLLER     | IZAROVA   | ZHANNA    | 03/12/2018 |  53759 | per Annum |  525.00 |  15464.92 |   0.00 |    0.00 |    0.00 |\n",
       "| 2018 | OFFICE OF THE COMPTROLLER     | SINGH     | GURDEEP   | 03/18/2018 |  53759 | per Annum |  469.00 |  13815.33 |   0.00 |    0.00 |    0.00 |\n",
       "| 2018 | OFFICE OF THE COMPTROLLER     | COFFIN    | SAMUEL    | 06/04/2018 |  48631 | per Annum |  291.03 |   5506.92 |   0.00 |    0.00 |    0.00 |\n",
       "| 2018 | OFFICE OF THE COMPTROLLER     | COBENA    | HUMBERTO  | 06/25/2018 |  48631 | per Annum |  195.70 |   2935.50 |   0.00 |    0.00 |    0.00 |\n",
       "| 2018 | OFFICE OF MANAGEMENT &amp; BUDGET | DANG      | BARRON    | 03/06/2017 |  73939 | per Annum | 1786.00 |  73574.46 |   0.00 |    0.00 |    0.00 |\n",
       "| 2018 | TAX COMMISSION                | CHU-FONG  | ALEXANDER | 08/15/2016 | 116712 | per Annum | 1790.00 | 116392.12 |   0.00 |    0.00 | 1429.75 |\n",
       "| 2018 | TAX COMMISSION                | ARIGO     | JOSEPH    | 11/18/1991 |  94432 | per Annum |    0.00 |      0.00 |   0.00 |    0.00 |   39.88 |\n",
       "| 2018 | LAW DEPARTMENT                | MULLIN    | DIANE     | 09/09/1996 |  46310 | per Annum | 1790.00 |  46183.02 | 141.75 | 4417.79 | 5764.76 |\n",
       "| 2018 | LAW DEPARTMENT                | BASLEY    | RHODA     | 07/03/2006 |  50531 | per Annum | 1790.00 |  50392.68 | 114.50 | 4273.40 | 2515.58 |\n",
       "| 2018 | LAW DEPARTMENT                | ROSARIO   | JESSICA   | 08/29/2011 |  46244 | per Annum | 1790.00 |  46117.25 |  20.00 |  644.10 |  616.86 |\n",
       "| 2018 | LAW DEPARTMENT                | TURK      | SUSAN     | 10/21/2013 | 114437 | per Annum | 1790.00 | 112157.15 |   0.00 |    0.00 |    0.00 |\n",
       "| 2018 | LAW DEPARTMENT                | GILBERT   | SARAH     | 12/23/2013 | 114437 | per Annum | 1790.00 | 112157.15 |   0.00 |    0.00 |    0.00 |\n",
       "| 2018 | LAW DEPARTMENT                | LEASON    | RANDAL    | 04/10/1978 |  92724 | per Annum | 1790.00 |  92470.04 |   0.00 |    0.00 | 6007.60 |\n",
       "| 2018 | LAW DEPARTMENT                | FUCHS     | LENNY     | 04/01/2013 |  83242 | per Annum | 1790.00 |  83013.84 |   0.00 |    0.00 |    0.00 |\n",
       "| 2018 | LAW DEPARTMENT                | BODNER    | RENATA    | 09/19/2011 |  48355 | per Annum |   96.33 |   3347.15 |   0.00 |    0.00 |    0.00 |\n",
       "| 2018 | LAW DEPARTMENT                | FAISON    | SHAMEKA   | 03/01/2005 |  48244 | per Annum | 1790.00 |  48111.70 |   0.00 |    0.00 | 1842.28 |\n",
       "| ... | ... | ... | ... | ... | ... | ... | ... | ... | ... | ... | ... |\n",
       "| 2018 | POLICE DEPARTMENT | MONTALES        | DENNIS      | 07/25/2016 |  30706 | per Annum |    0.00 |   243.68 | 0.00 |    0.00 |     0.00 |\n",
       "| 2018 | POLICE DEPARTMENT | MANANDHAR       | URJALA      | 07/25/2016 |  30706 | per Annum |   29.72 |  1648.85 | 0.00 |    0.00 |     0.00 |\n",
       "| 2018 | POLICE DEPARTMENT | ALEXANDER       | EMLYN       | 09/24/2017 |  30706 | per Annum |    9.00 |   250.26 | 0.00 |    0.00 |     0.00 |\n",
       "| 2018 | POLICE DEPARTMENT | RASHID          | MOHAMMAD    | 11/09/2016 |  30706 | per Annum |    0.00 |    22.76 | 0.00 |    0.00 |     0.00 |\n",
       "| 2018 | POLICE DEPARTMENT | JARVIS          | QUINCEY     | 12/19/2016 |  29882 | per Annum | 2045.72 | 29800.16 | 0.00 |    0.00 |   223.40 |\n",
       "| 2018 | POLICE DEPARTMENT | YOUNG           | MARK        | 12/19/2016 |  29882 | per Annum | 2045.72 | 29479.06 | 0.00 |    0.00 |   617.05 |\n",
       "| 2018 | POLICE DEPARTMENT | ATKINS          | KIZZY       | 10/24/2016 |  29882 | per Annum |    0.00 |   300.68 | 0.00 |    0.00 |     0.00 |\n",
       "| 2018 | POLICE DEPARTMENT | VIRUET          | FRANKLIN    | 04/26/2016 |  29882 | per Annum | 2045.72 | 29801.01 | 0.00 |    0.00 |     0.00 |\n",
       "| 2018 | POLICE DEPARTMENT | GOMEZ           | RAYNIERO    | 07/24/2017 |  29205 | per Annum | 1680.00 | 26812.29 | 0.00 |    0.00 |   702.25 |\n",
       "| 2018 | POLICE DEPARTMENT | RODRIGUEZ BONES | STEPHANIE   | 07/24/2017 |  29205 | per Annum | 1680.00 | 26812.29 | 0.00 |    0.00 |   111.90 |\n",
       "| 2018 | POLICE DEPARTMENT | SCOTT           | NIGEL       | 02/26/2018 |  29204 | per Annum |  595.00 |  9521.28 | 0.00 |    0.00 |   264.00 |\n",
       "| 2018 | POLICE DEPARTMENT | WALLS           | JASMIN      | 01/10/2018 |  29204 | per Annum |  888.57 | 16082.22 | 0.00 |    0.00 |   382.95 |\n",
       "| 2018 | POLICE DEPARTMENT | ACEVEDO         | TIARA       | 02/26/2018 |  29204 | per Annum |  595.00 |  9521.28 | 0.00 |    0.00 |     4.80 |\n",
       "| 2018 | POLICE DEPARTMENT | GANLEY          | STEPHEN     | 01/22/2018 |  29204 | per Annum |  770.00 | 12321.65 | 0.00 |    0.00 |   111.90 |\n",
       "| 2018 | POLICE DEPARTMENT | PAREDES         | JOHN        | 01/10/2018 |  29204 | per Annum |  862.85 | 14532.44 | 0.00 |    0.00 |   360.19 |\n",
       "| 2018 | POLICE DEPARTMENT | FLORES          | SKARLLY     | 06/10/2016 |  29204 | per Annum | 1941.18 | 40648.22 | 0.00 |    0.00 |  2694.70 |\n",
       "| 2018 | POLICE DEPARTMENT | JOHNSON         | CHERISE     | 01/02/2018 |  29204 | per Annum |  861.00 | 13777.85 | 0.00 |    0.00 |   907.50 |\n",
       "| 2018 | POLICE DEPARTMENT | HANSEN          | KERRI       | 01/02/2018 |  29204 | per Annum |  868.00 | 13889.85 | 0.00 |    0.00 |    24.75 |\n",
       "| 2018 | POLICE DEPARTMENT | OAKES           | TELIYA      | 10/10/2017 |  29204 | per Annum | 1288.00 | 20610.75 | 0.00 |    0.00 |  1723.52 |\n",
       "| 2018 | POLICE DEPARTMENT | VERDUGA LOPEZ   | NICOLE      | 09/18/2017 |  28354 | per Annum | 1071.00 | 16639.47 | 0.00 |    0.00 |   162.96 |\n",
       "| 2018 | POLICE DEPARTMENT | COMPETIELLO     | GAETANO     | 04/15/1997 | 103585 | per Annum |    0.00 | 29064.84 | 0.00 |   -7.42 |     0.00 |\n",
       "| 2018 | POLICE DEPARTMENT | RILEY           | DAVID       | 10/01/2003 |  38295 | per Annum |  795.00 | 14289.55 | 0.00 |  -13.63 |   812.41 |\n",
       "| 2018 | POLICE DEPARTMENT | MARTIN          | GARY        | 01/13/1992 |  85292 | per Annum | 2045.72 | 85058.22 | 1.33 |  -15.97 | 22046.66 |\n",
       "| 2018 | POLICE DEPARTMENT | QUINONES        | CHRISTOPHER | 02/23/2004 |  42136 | per Annum |  185.65 |  3754.18 | 0.00 |  -18.15 |     0.00 |\n",
       "| 2018 | POLICE DEPARTMENT | TORRES          | NAYELI      | 02/25/2016 |  41683 | per Annum | 1636.00 | 32340.12 | 0.00 |  -19.24 |   701.29 |\n",
       "| 2018 | POLICE DEPARTMENT | CORTIELLA       | LINA        | 10/16/2006 |  40514 | per Annum | 1790.00 | 40402.96 | 0.00 |  -23.08 |  1814.33 |\n",
       "| 2018 | POLICE DEPARTMENT | SMITH-HARRIOTT  | MARIA       | 05/05/2003 |  37713 | per Annum |  581.72 | 10919.37 | 0.00 |  -23.90 |  1204.84 |\n",
       "| 2018 | POLICE DEPARTMENT | INFANZON        | GRETCHEN    | 07/11/2012 |  85292 | per Annum | 1742.87 | 60527.31 | 0.00 | -537.10 |  8980.93 |\n",
       "| 2018 | POLICE DEPARTMENT | DONZO           | MOHAMMED    | 07/06/2010 |  85292 | per Annum | 1314.28 | 55147.19 | 0.00 | -537.22 | 13143.56 |\n",
       "| 2018 | POLICE DEPARTMENT | KYLE            | ROBERT      | 07/01/1998 |  85292 | per Annum | 1034.28 | 43697.19 | 0.00 | -563.90 | 11083.10 |\n",
       "\n"
      ],
      "text/plain": [
       "       Fiscal.Year Agency.Name                   Last.Name       First.Name \n",
       "1      2018        BOARD OF ELECTION             ARATO           REBECCA    \n",
       "2      2018        BOARD OF ELECTION             RYAN            MICHAEL    \n",
       "3      2018        BOARD OF ELECTION             SANDOW          DAWN       \n",
       "4      2018        BOARD OF ELECTION             PERKINS         PAMELA     \n",
       "5      2018        BOARD OF ELECTION             RICHMAN         STEVEN     \n",
       "6      2018        BOARD OF ELECTION             SAVINO          RAPHAEL    \n",
       "7      2018        BOARD OF ELECTION             PUGH            GLORIA     \n",
       "8      2018        CAMPAIGN FINANCE BOARD        KING            AARON      \n",
       "9      2018        BOROUGH PRESIDENT-BRONX       ALCANTARA       DARISA     \n",
       "10     2018        BOROUGH PRESIDENT-BRONX       RUIZ            ALEXIS     \n",
       "11     2018        OFFICE OF THE COMPTROLLER     WEI             XIN        \n",
       "12     2018        OFFICE OF THE COMPTROLLER     HO              SABRINA    \n",
       "13     2018        OFFICE OF THE COMPTROLLER     LI              CHRISTINE  \n",
       "14     2018        OFFICE OF THE COMPTROLLER     LU              JIAXIN     \n",
       "15     2018        OFFICE OF THE COMPTROLLER     IZAROVA         ZHANNA     \n",
       "16     2018        OFFICE OF THE COMPTROLLER     SINGH           GURDEEP    \n",
       "17     2018        OFFICE OF THE COMPTROLLER     COFFIN          SAMUEL     \n",
       "18     2018        OFFICE OF THE COMPTROLLER     COBENA          HUMBERTO   \n",
       "19     2018        OFFICE OF MANAGEMENT & BUDGET DANG            BARRON     \n",
       "20     2018        TAX COMMISSION                CHU-FONG        ALEXANDER  \n",
       "21     2018        TAX COMMISSION                ARIGO           JOSEPH     \n",
       "22     2018        LAW DEPARTMENT                MULLIN          DIANE      \n",
       "23     2018        LAW DEPARTMENT                BASLEY          RHODA      \n",
       "24     2018        LAW DEPARTMENT                ROSARIO         JESSICA    \n",
       "25     2018        LAW DEPARTMENT                TURK            SUSAN      \n",
       "26     2018        LAW DEPARTMENT                GILBERT         SARAH      \n",
       "27     2018        LAW DEPARTMENT                LEASON          RANDAL     \n",
       "28     2018        LAW DEPARTMENT                FUCHS           LENNY      \n",
       "29     2018        LAW DEPARTMENT                BODNER          RENATA     \n",
       "30     2018        LAW DEPARTMENT                FAISON          SHAMEKA    \n",
       "...    ...         ...                           ...             ...        \n",
       "334022 2018        POLICE DEPARTMENT             MONTALES        DENNIS     \n",
       "334023 2018        POLICE DEPARTMENT             MANANDHAR       URJALA     \n",
       "334024 2018        POLICE DEPARTMENT             ALEXANDER       EMLYN      \n",
       "334025 2018        POLICE DEPARTMENT             RASHID          MOHAMMAD   \n",
       "334026 2018        POLICE DEPARTMENT             JARVIS          QUINCEY    \n",
       "334027 2018        POLICE DEPARTMENT             YOUNG           MARK       \n",
       "334028 2018        POLICE DEPARTMENT             ATKINS          KIZZY      \n",
       "334029 2018        POLICE DEPARTMENT             VIRUET          FRANKLIN   \n",
       "334030 2018        POLICE DEPARTMENT             GOMEZ           RAYNIERO   \n",
       "334031 2018        POLICE DEPARTMENT             RODRIGUEZ BONES STEPHANIE  \n",
       "334032 2018        POLICE DEPARTMENT             SCOTT           NIGEL      \n",
       "334033 2018        POLICE DEPARTMENT             WALLS           JASMIN     \n",
       "334034 2018        POLICE DEPARTMENT             ACEVEDO         TIARA      \n",
       "334035 2018        POLICE DEPARTMENT             GANLEY          STEPHEN    \n",
       "334036 2018        POLICE DEPARTMENT             PAREDES         JOHN       \n",
       "334037 2018        POLICE DEPARTMENT             FLORES          SKARLLY    \n",
       "334038 2018        POLICE DEPARTMENT             JOHNSON         CHERISE    \n",
       "334039 2018        POLICE DEPARTMENT             HANSEN          KERRI      \n",
       "334040 2018        POLICE DEPARTMENT             OAKES           TELIYA     \n",
       "334041 2018        POLICE DEPARTMENT             VERDUGA LOPEZ   NICOLE     \n",
       "334042 2018        POLICE DEPARTMENT             COMPETIELLO     GAETANO    \n",
       "334043 2018        POLICE DEPARTMENT             RILEY           DAVID      \n",
       "334044 2018        POLICE DEPARTMENT             MARTIN          GARY       \n",
       "334045 2018        POLICE DEPARTMENT             QUINONES        CHRISTOPHER\n",
       "334046 2018        POLICE DEPARTMENT             TORRES          NAYELI     \n",
       "334047 2018        POLICE DEPARTMENT             CORTIELLA       LINA       \n",
       "334048 2018        POLICE DEPARTMENT             SMITH-HARRIOTT  MARIA      \n",
       "334049 2018        POLICE DEPARTMENT             INFANZON        GRETCHEN   \n",
       "334050 2018        POLICE DEPARTMENT             DONZO           MOHAMMED   \n",
       "334051 2018        POLICE DEPARTMENT             KYLE            ROBERT     \n",
       "       Agency.Start.Date Base.Salary Pay.Basis Regular.Hours Regular.Gross.Paid\n",
       "1      11/13/2017         27405      per Annum 1081.25        15047.70         \n",
       "2      08/25/2013        216540      per Annum 1790.00       209761.79         \n",
       "3      11/14/2005        199387      per Annum 1790.00       193146.20         \n",
       "4      02/06/1994        183425      per Annum 1790.00       177683.84         \n",
       "5      01/03/1999        180342      per Annum 1790.00       174696.52         \n",
       "6      07/03/2011        160000      per Annum 1790.00       143260.56         \n",
       "7      09/26/2004         36147      per Annum   24.25         1386.46         \n",
       "8      12/14/2015         59312      per Annum 1790.00        60914.07         \n",
       "9      09/06/2016         45000      per Annum  390.00        10356.18         \n",
       "10     02/05/2018         45000      per Annum  700.00        17260.30         \n",
       "11     08/03/2015        106631      per Annum 1790.00       106338.96         \n",
       "12     03/14/2016         53759      per Annum 1790.00        51996.35         \n",
       "13     08/22/2016         53759      per Annum 1132.00        35878.62         \n",
       "14     12/04/2017         53759      per Annum 1015.00        29898.85         \n",
       "15     03/12/2018         53759      per Annum  525.00        15464.92         \n",
       "16     03/18/2018         53759      per Annum  469.00        13815.33         \n",
       "17     06/04/2018         48631      per Annum  291.03         5506.92         \n",
       "18     06/25/2018         48631      per Annum  195.70         2935.50         \n",
       "19     03/06/2017         73939      per Annum 1786.00        73574.46         \n",
       "20     08/15/2016        116712      per Annum 1790.00       116392.12         \n",
       "21     11/18/1991         94432      per Annum    0.00            0.00         \n",
       "22     09/09/1996         46310      per Annum 1790.00        46183.02         \n",
       "23     07/03/2006         50531      per Annum 1790.00        50392.68         \n",
       "24     08/29/2011         46244      per Annum 1790.00        46117.25         \n",
       "25     10/21/2013        114437      per Annum 1790.00       112157.15         \n",
       "26     12/23/2013        114437      per Annum 1790.00       112157.15         \n",
       "27     04/10/1978         92724      per Annum 1790.00        92470.04         \n",
       "28     04/01/2013         83242      per Annum 1790.00        83013.84         \n",
       "29     09/19/2011         48355      per Annum   96.33         3347.15         \n",
       "30     03/01/2005         48244      per Annum 1790.00        48111.70         \n",
       "...    ...               ...         ...       ...           ...               \n",
       "334022 07/25/2016         30706      per Annum    0.00         243.68          \n",
       "334023 07/25/2016         30706      per Annum   29.72        1648.85          \n",
       "334024 09/24/2017         30706      per Annum    9.00         250.26          \n",
       "334025 11/09/2016         30706      per Annum    0.00          22.76          \n",
       "334026 12/19/2016         29882      per Annum 2045.72       29800.16          \n",
       "334027 12/19/2016         29882      per Annum 2045.72       29479.06          \n",
       "334028 10/24/2016         29882      per Annum    0.00         300.68          \n",
       "334029 04/26/2016         29882      per Annum 2045.72       29801.01          \n",
       "334030 07/24/2017         29205      per Annum 1680.00       26812.29          \n",
       "334031 07/24/2017         29205      per Annum 1680.00       26812.29          \n",
       "334032 02/26/2018         29204      per Annum  595.00        9521.28          \n",
       "334033 01/10/2018         29204      per Annum  888.57       16082.22          \n",
       "334034 02/26/2018         29204      per Annum  595.00        9521.28          \n",
       "334035 01/22/2018         29204      per Annum  770.00       12321.65          \n",
       "334036 01/10/2018         29204      per Annum  862.85       14532.44          \n",
       "334037 06/10/2016         29204      per Annum 1941.18       40648.22          \n",
       "334038 01/02/2018         29204      per Annum  861.00       13777.85          \n",
       "334039 01/02/2018         29204      per Annum  868.00       13889.85          \n",
       "334040 10/10/2017         29204      per Annum 1288.00       20610.75          \n",
       "334041 09/18/2017         28354      per Annum 1071.00       16639.47          \n",
       "334042 04/15/1997        103585      per Annum    0.00       29064.84          \n",
       "334043 10/01/2003         38295      per Annum  795.00       14289.55          \n",
       "334044 01/13/1992         85292      per Annum 2045.72       85058.22          \n",
       "334045 02/23/2004         42136      per Annum  185.65        3754.18          \n",
       "334046 02/25/2016         41683      per Annum 1636.00       32340.12          \n",
       "334047 10/16/2006         40514      per Annum 1790.00       40402.96          \n",
       "334048 05/05/2003         37713      per Annum  581.72       10919.37          \n",
       "334049 07/11/2012         85292      per Annum 1742.87       60527.31          \n",
       "334050 07/06/2010         85292      per Annum 1314.28       55147.19          \n",
       "334051 07/01/1998         85292      per Annum 1034.28       43697.19          \n",
       "       OT.Hours Total.OT.Paid Total.Other.Pay\n",
       "1       22.00    393.87          0.00        \n",
       "2        0.00      0.00          0.00        \n",
       "3        0.00      0.00          0.00        \n",
       "4        0.00      0.00          0.00        \n",
       "5        0.00      0.00          0.00        \n",
       "6        0.00      0.00          0.00        \n",
       "7        0.00      0.00         27.46        \n",
       "8      112.00   4528.17        386.83        \n",
       "9        0.00      0.00          0.00        \n",
       "10       0.00      0.00         24.75        \n",
       "11       0.00      0.00       5231.94        \n",
       "12       0.00      0.00        140.25        \n",
       "13       0.00      0.00       1000.00        \n",
       "14       0.00      0.00          0.00        \n",
       "15       0.00      0.00          0.00        \n",
       "16       0.00      0.00          0.00        \n",
       "17       0.00      0.00          0.00        \n",
       "18       0.00      0.00          0.00        \n",
       "19       0.00      0.00          0.00        \n",
       "20       0.00      0.00       1429.75        \n",
       "21       0.00      0.00         39.88        \n",
       "22     141.75   4417.79       5764.76        \n",
       "23     114.50   4273.40       2515.58        \n",
       "24      20.00    644.10        616.86        \n",
       "25       0.00      0.00          0.00        \n",
       "26       0.00      0.00          0.00        \n",
       "27       0.00      0.00       6007.60        \n",
       "28       0.00      0.00          0.00        \n",
       "29       0.00      0.00          0.00        \n",
       "30       0.00      0.00       1842.28        \n",
       "...    ...      ...           ...            \n",
       "334022 0.00        0.00           0.00       \n",
       "334023 0.00        0.00           0.00       \n",
       "334024 0.00        0.00           0.00       \n",
       "334025 0.00        0.00           0.00       \n",
       "334026 0.00        0.00         223.40       \n",
       "334027 0.00        0.00         617.05       \n",
       "334028 0.00        0.00           0.00       \n",
       "334029 0.00        0.00           0.00       \n",
       "334030 0.00        0.00         702.25       \n",
       "334031 0.00        0.00         111.90       \n",
       "334032 0.00        0.00         264.00       \n",
       "334033 0.00        0.00         382.95       \n",
       "334034 0.00        0.00           4.80       \n",
       "334035 0.00        0.00         111.90       \n",
       "334036 0.00        0.00         360.19       \n",
       "334037 0.00        0.00        2694.70       \n",
       "334038 0.00        0.00         907.50       \n",
       "334039 0.00        0.00          24.75       \n",
       "334040 0.00        0.00        1723.52       \n",
       "334041 0.00        0.00         162.96       \n",
       "334042 0.00       -7.42           0.00       \n",
       "334043 0.00      -13.63         812.41       \n",
       "334044 1.33      -15.97       22046.66       \n",
       "334045 0.00      -18.15           0.00       \n",
       "334046 0.00      -19.24         701.29       \n",
       "334047 0.00      -23.08        1814.33       \n",
       "334048 0.00      -23.90        1204.84       \n",
       "334049 0.00     -537.10        8980.93       \n",
       "334050 0.00     -537.22       13143.56       \n",
       "334051 0.00     -563.90       11083.10       "
      ]
     },
     "metadata": {},
     "output_type": "display_data"
    }
   ],
   "source": [
    "nyc_payroll_annum"
   ]
  },
  {
   "cell_type": "markdown",
   "metadata": {},
   "source": [
    "Question 2 of Project 3"
   ]
  },
  {
   "cell_type": "code",
   "execution_count": 15,
   "metadata": {},
   "outputs": [
    {
     "data": {
      "text/html": [
       "<table>\n",
       "<caption>A data.frame: 15 × 12</caption>\n",
       "<thead>\n",
       "\t<tr><th scope=col>Fiscal.Year</th><th scope=col>Agency.Name</th><th scope=col>Last.Name</th><th scope=col>First.Name</th><th scope=col>Agency.Start.Date</th><th scope=col>Base.Salary</th><th scope=col>Pay.Basis</th><th scope=col>Regular.Hours</th><th scope=col>Regular.Gross.Paid</th><th scope=col>OT.Hours</th><th scope=col>Total.OT.Paid</th><th scope=col>Total.Other.Pay</th></tr>\n",
       "\t<tr><th scope=col>&lt;int&gt;</th><th scope=col>&lt;chr&gt;</th><th scope=col>&lt;chr&gt;</th><th scope=col>&lt;chr&gt;</th><th scope=col>&lt;chr&gt;</th><th scope=col>&lt;dbl&gt;</th><th scope=col>&lt;chr&gt;</th><th scope=col>&lt;dbl&gt;</th><th scope=col>&lt;dbl&gt;</th><th scope=col>&lt;dbl&gt;</th><th scope=col>&lt;dbl&gt;</th><th scope=col>&lt;dbl&gt;</th></tr>\n",
       "</thead>\n",
       "<tbody>\n",
       "\t<tr><td>2018</td><td>DEPT OF ED PEDAGOGICAL        </td><td>SKRELJA        </td><td>DIANA  </td><td>09/03/2013</td><td> 67716</td><td>per Annum</td><td>   0.00</td><td> 64274.81</td><td>  0.00</td><td>    0.00</td><td>    0.00</td></tr>\n",
       "\t<tr><td>2018</td><td>DEPT OF ED PEDAGOGICAL        </td><td>O'DELL         </td><td>ERIN   </td><td>09/06/2016</td><td> 64878</td><td>per Annum</td><td>   0.00</td><td> 61342.19</td><td>  0.00</td><td>    0.00</td><td>    0.00</td></tr>\n",
       "\t<tr><td>2018</td><td>BRONX DISTRICT ATTORNEY       </td><td>PIMENTEL       </td><td>ANA    </td><td>04/22/2013</td><td> 55000</td><td>per Annum</td><td>1790.00</td><td> 57049.34</td><td>  0.00</td><td>    0.00</td><td>   82.56</td></tr>\n",
       "\t<tr><td>2018</td><td>DEPT OF ED PEDAGOGICAL        </td><td>JOHN           </td><td>ELMA   </td><td>09/07/2010</td><td> 90511</td><td>per Annum</td><td>   0.00</td><td> 92746.01</td><td>  0.00</td><td>    0.00</td><td>    0.00</td></tr>\n",
       "\t<tr><td>2018</td><td>POLICE DEPARTMENT             </td><td>PUGH           </td><td>DEAN   </td><td>08/08/1996</td><td> 45645</td><td>per Annum</td><td>2045.72</td><td> 45520.02</td><td>224.00</td><td> 8953.81</td><td> 7814.08</td></tr>\n",
       "\t<tr><td>2018</td><td>DEPT OF ED PEDAGOGICAL        </td><td>CATALANO       </td><td>ADRIANA</td><td>02/01/2011</td><td> 96001</td><td>per Annum</td><td>   0.00</td><td>100494.30</td><td>  0.00</td><td>    0.00</td><td>    0.00</td></tr>\n",
       "\t<tr><td>2018</td><td>DEPT OF ED PEDAGOGICAL        </td><td>MARDAK         </td><td>NICOLE </td><td>08/15/2011</td><td> 81318</td><td>per Annum</td><td>   0.00</td><td> 77522.31</td><td>  0.00</td><td>    0.00</td><td>    0.00</td></tr>\n",
       "\t<tr><td>2018</td><td>POLICE DEPARTMENT             </td><td>ARROYO         </td><td>ERIKA  </td><td>07/01/2004</td><td> 85292</td><td>per Annum</td><td>2045.72</td><td> 85058.22</td><td>311.58</td><td>22219.72</td><td>12844.40</td></tr>\n",
       "\t<tr><td>2018</td><td>DISTRICT ATTORNEY KINGS COUNTY</td><td>SARG           </td><td>RYA    </td><td>10/31/2016</td><td> 41036</td><td>per Annum</td><td>1790.00</td><td> 41923.48</td><td>  0.00</td><td>    0.00</td><td>    0.00</td></tr>\n",
       "\t<tr><td>2018</td><td>DEPARTMENT OF TRANSPORTATION  </td><td>STEWART        </td><td>ROBERT </td><td>06/11/2012</td><td> 59534</td><td>per Annum</td><td>2021.72</td><td> 58779.14</td><td> 94.00</td><td> 4046.25</td><td> 4679.72</td></tr>\n",
       "\t<tr><td>2018</td><td>DEPT OF ED PEDAGOGICAL        </td><td>JAKUBOWSKI     </td><td>LAURA  </td><td>09/06/2011</td><td> 60959</td><td>per Annum</td><td>   0.00</td><td>  1569.05</td><td>  0.00</td><td>    0.00</td><td>    0.00</td></tr>\n",
       "\t<tr><td>2018</td><td>POLICE DEPARTMENT             </td><td>GIBBONS-CHARLES</td><td>DE'RONN</td><td>02/25/2014</td><td> 46737</td><td>per Annum</td><td>1933.72</td><td> 37760.71</td><td>208.25</td><td> 7080.52</td><td>  990.67</td></tr>\n",
       "\t<tr><td>2018</td><td>DEPT OF ED PEDAGOGICAL        </td><td>LEON           </td><td>ALVIN  </td><td>11/08/1982</td><td>102852</td><td>per Annum</td><td>   0.00</td><td> 36850.00</td><td>  0.00</td><td>    0.00</td><td>    0.00</td></tr>\n",
       "\t<tr><td>2018</td><td>DEPT OF ED PEDAGOGICAL        </td><td>WU             </td><td>NORMAN </td><td>09/06/2016</td><td> 57838</td><td>per Annum</td><td>   0.00</td><td> 55385.98</td><td>  0.00</td><td>    0.00</td><td>    0.00</td></tr>\n",
       "\t<tr><td>2018</td><td>ADMIN FOR CHILDREN'S SVCS     </td><td>LOPEZ          </td><td>CYNTHIA</td><td>08/27/2001</td><td>145323</td><td>per Annum</td><td>1790.00</td><td>139938.50</td><td>  0.00</td><td>    0.00</td><td>    0.00</td></tr>\n",
       "</tbody>\n",
       "</table>\n"
      ],
      "text/latex": [
       "A data.frame: 15 × 12\n",
       "\\begin{tabular}{llllllllllll}\n",
       " Fiscal.Year & Agency.Name & Last.Name & First.Name & Agency.Start.Date & Base.Salary & Pay.Basis & Regular.Hours & Regular.Gross.Paid & OT.Hours & Total.OT.Paid & Total.Other.Pay\\\\\n",
       " <int> & <chr> & <chr> & <chr> & <chr> & <dbl> & <chr> & <dbl> & <dbl> & <dbl> & <dbl> & <dbl>\\\\\n",
       "\\hline\n",
       "\t 2018 & DEPT OF ED PEDAGOGICAL         & SKRELJA         & DIANA   & 09/03/2013 &  67716 & per Annum &    0.00 &  64274.81 &   0.00 &     0.00 &     0.00\\\\\n",
       "\t 2018 & DEPT OF ED PEDAGOGICAL         & O'DELL          & ERIN    & 09/06/2016 &  64878 & per Annum &    0.00 &  61342.19 &   0.00 &     0.00 &     0.00\\\\\n",
       "\t 2018 & BRONX DISTRICT ATTORNEY        & PIMENTEL        & ANA     & 04/22/2013 &  55000 & per Annum & 1790.00 &  57049.34 &   0.00 &     0.00 &    82.56\\\\\n",
       "\t 2018 & DEPT OF ED PEDAGOGICAL         & JOHN            & ELMA    & 09/07/2010 &  90511 & per Annum &    0.00 &  92746.01 &   0.00 &     0.00 &     0.00\\\\\n",
       "\t 2018 & POLICE DEPARTMENT              & PUGH            & DEAN    & 08/08/1996 &  45645 & per Annum & 2045.72 &  45520.02 & 224.00 &  8953.81 &  7814.08\\\\\n",
       "\t 2018 & DEPT OF ED PEDAGOGICAL         & CATALANO        & ADRIANA & 02/01/2011 &  96001 & per Annum &    0.00 & 100494.30 &   0.00 &     0.00 &     0.00\\\\\n",
       "\t 2018 & DEPT OF ED PEDAGOGICAL         & MARDAK          & NICOLE  & 08/15/2011 &  81318 & per Annum &    0.00 &  77522.31 &   0.00 &     0.00 &     0.00\\\\\n",
       "\t 2018 & POLICE DEPARTMENT              & ARROYO          & ERIKA   & 07/01/2004 &  85292 & per Annum & 2045.72 &  85058.22 & 311.58 & 22219.72 & 12844.40\\\\\n",
       "\t 2018 & DISTRICT ATTORNEY KINGS COUNTY & SARG            & RYA     & 10/31/2016 &  41036 & per Annum & 1790.00 &  41923.48 &   0.00 &     0.00 &     0.00\\\\\n",
       "\t 2018 & DEPARTMENT OF TRANSPORTATION   & STEWART         & ROBERT  & 06/11/2012 &  59534 & per Annum & 2021.72 &  58779.14 &  94.00 &  4046.25 &  4679.72\\\\\n",
       "\t 2018 & DEPT OF ED PEDAGOGICAL         & JAKUBOWSKI      & LAURA   & 09/06/2011 &  60959 & per Annum &    0.00 &   1569.05 &   0.00 &     0.00 &     0.00\\\\\n",
       "\t 2018 & POLICE DEPARTMENT              & GIBBONS-CHARLES & DE'RONN & 02/25/2014 &  46737 & per Annum & 1933.72 &  37760.71 & 208.25 &  7080.52 &   990.67\\\\\n",
       "\t 2018 & DEPT OF ED PEDAGOGICAL         & LEON            & ALVIN   & 11/08/1982 & 102852 & per Annum &    0.00 &  36850.00 &   0.00 &     0.00 &     0.00\\\\\n",
       "\t 2018 & DEPT OF ED PEDAGOGICAL         & WU              & NORMAN  & 09/06/2016 &  57838 & per Annum &    0.00 &  55385.98 &   0.00 &     0.00 &     0.00\\\\\n",
       "\t 2018 & ADMIN FOR CHILDREN'S SVCS      & LOPEZ           & CYNTHIA & 08/27/2001 & 145323 & per Annum & 1790.00 & 139938.50 &   0.00 &     0.00 &     0.00\\\\\n",
       "\\end{tabular}\n"
      ],
      "text/markdown": [
       "\n",
       "A data.frame: 15 × 12\n",
       "\n",
       "| Fiscal.Year &lt;int&gt; | Agency.Name &lt;chr&gt; | Last.Name &lt;chr&gt; | First.Name &lt;chr&gt; | Agency.Start.Date &lt;chr&gt; | Base.Salary &lt;dbl&gt; | Pay.Basis &lt;chr&gt; | Regular.Hours &lt;dbl&gt; | Regular.Gross.Paid &lt;dbl&gt; | OT.Hours &lt;dbl&gt; | Total.OT.Paid &lt;dbl&gt; | Total.Other.Pay &lt;dbl&gt; |\n",
       "|---|---|---|---|---|---|---|---|---|---|---|---|\n",
       "| 2018 | DEPT OF ED PEDAGOGICAL         | SKRELJA         | DIANA   | 09/03/2013 |  67716 | per Annum |    0.00 |  64274.81 |   0.00 |     0.00 |     0.00 |\n",
       "| 2018 | DEPT OF ED PEDAGOGICAL         | O'DELL          | ERIN    | 09/06/2016 |  64878 | per Annum |    0.00 |  61342.19 |   0.00 |     0.00 |     0.00 |\n",
       "| 2018 | BRONX DISTRICT ATTORNEY        | PIMENTEL        | ANA     | 04/22/2013 |  55000 | per Annum | 1790.00 |  57049.34 |   0.00 |     0.00 |    82.56 |\n",
       "| 2018 | DEPT OF ED PEDAGOGICAL         | JOHN            | ELMA    | 09/07/2010 |  90511 | per Annum |    0.00 |  92746.01 |   0.00 |     0.00 |     0.00 |\n",
       "| 2018 | POLICE DEPARTMENT              | PUGH            | DEAN    | 08/08/1996 |  45645 | per Annum | 2045.72 |  45520.02 | 224.00 |  8953.81 |  7814.08 |\n",
       "| 2018 | DEPT OF ED PEDAGOGICAL         | CATALANO        | ADRIANA | 02/01/2011 |  96001 | per Annum |    0.00 | 100494.30 |   0.00 |     0.00 |     0.00 |\n",
       "| 2018 | DEPT OF ED PEDAGOGICAL         | MARDAK          | NICOLE  | 08/15/2011 |  81318 | per Annum |    0.00 |  77522.31 |   0.00 |     0.00 |     0.00 |\n",
       "| 2018 | POLICE DEPARTMENT              | ARROYO          | ERIKA   | 07/01/2004 |  85292 | per Annum | 2045.72 |  85058.22 | 311.58 | 22219.72 | 12844.40 |\n",
       "| 2018 | DISTRICT ATTORNEY KINGS COUNTY | SARG            | RYA     | 10/31/2016 |  41036 | per Annum | 1790.00 |  41923.48 |   0.00 |     0.00 |     0.00 |\n",
       "| 2018 | DEPARTMENT OF TRANSPORTATION   | STEWART         | ROBERT  | 06/11/2012 |  59534 | per Annum | 2021.72 |  58779.14 |  94.00 |  4046.25 |  4679.72 |\n",
       "| 2018 | DEPT OF ED PEDAGOGICAL         | JAKUBOWSKI      | LAURA   | 09/06/2011 |  60959 | per Annum |    0.00 |   1569.05 |   0.00 |     0.00 |     0.00 |\n",
       "| 2018 | POLICE DEPARTMENT              | GIBBONS-CHARLES | DE'RONN | 02/25/2014 |  46737 | per Annum | 1933.72 |  37760.71 | 208.25 |  7080.52 |   990.67 |\n",
       "| 2018 | DEPT OF ED PEDAGOGICAL         | LEON            | ALVIN   | 11/08/1982 | 102852 | per Annum |    0.00 |  36850.00 |   0.00 |     0.00 |     0.00 |\n",
       "| 2018 | DEPT OF ED PEDAGOGICAL         | WU              | NORMAN  | 09/06/2016 |  57838 | per Annum |    0.00 |  55385.98 |   0.00 |     0.00 |     0.00 |\n",
       "| 2018 | ADMIN FOR CHILDREN'S SVCS      | LOPEZ           | CYNTHIA | 08/27/2001 | 145323 | per Annum | 1790.00 | 139938.50 |   0.00 |     0.00 |     0.00 |\n",
       "\n"
      ],
      "text/plain": [
       "   Fiscal.Year Agency.Name                    Last.Name       First.Name\n",
       "1  2018        DEPT OF ED PEDAGOGICAL         SKRELJA         DIANA     \n",
       "2  2018        DEPT OF ED PEDAGOGICAL         O'DELL          ERIN      \n",
       "3  2018        BRONX DISTRICT ATTORNEY        PIMENTEL        ANA       \n",
       "4  2018        DEPT OF ED PEDAGOGICAL         JOHN            ELMA      \n",
       "5  2018        POLICE DEPARTMENT              PUGH            DEAN      \n",
       "6  2018        DEPT OF ED PEDAGOGICAL         CATALANO        ADRIANA   \n",
       "7  2018        DEPT OF ED PEDAGOGICAL         MARDAK          NICOLE    \n",
       "8  2018        POLICE DEPARTMENT              ARROYO          ERIKA     \n",
       "9  2018        DISTRICT ATTORNEY KINGS COUNTY SARG            RYA       \n",
       "10 2018        DEPARTMENT OF TRANSPORTATION   STEWART         ROBERT    \n",
       "11 2018        DEPT OF ED PEDAGOGICAL         JAKUBOWSKI      LAURA     \n",
       "12 2018        POLICE DEPARTMENT              GIBBONS-CHARLES DE'RONN   \n",
       "13 2018        DEPT OF ED PEDAGOGICAL         LEON            ALVIN     \n",
       "14 2018        DEPT OF ED PEDAGOGICAL         WU              NORMAN    \n",
       "15 2018        ADMIN FOR CHILDREN'S SVCS      LOPEZ           CYNTHIA   \n",
       "   Agency.Start.Date Base.Salary Pay.Basis Regular.Hours Regular.Gross.Paid\n",
       "1  09/03/2013         67716      per Annum    0.00        64274.81         \n",
       "2  09/06/2016         64878      per Annum    0.00        61342.19         \n",
       "3  04/22/2013         55000      per Annum 1790.00        57049.34         \n",
       "4  09/07/2010         90511      per Annum    0.00        92746.01         \n",
       "5  08/08/1996         45645      per Annum 2045.72        45520.02         \n",
       "6  02/01/2011         96001      per Annum    0.00       100494.30         \n",
       "7  08/15/2011         81318      per Annum    0.00        77522.31         \n",
       "8  07/01/2004         85292      per Annum 2045.72        85058.22         \n",
       "9  10/31/2016         41036      per Annum 1790.00        41923.48         \n",
       "10 06/11/2012         59534      per Annum 2021.72        58779.14         \n",
       "11 09/06/2011         60959      per Annum    0.00         1569.05         \n",
       "12 02/25/2014         46737      per Annum 1933.72        37760.71         \n",
       "13 11/08/1982        102852      per Annum    0.00        36850.00         \n",
       "14 09/06/2016         57838      per Annum    0.00        55385.98         \n",
       "15 08/27/2001        145323      per Annum 1790.00       139938.50         \n",
       "   OT.Hours Total.OT.Paid Total.Other.Pay\n",
       "1    0.00       0.00          0.00       \n",
       "2    0.00       0.00          0.00       \n",
       "3    0.00       0.00         82.56       \n",
       "4    0.00       0.00          0.00       \n",
       "5  224.00    8953.81       7814.08       \n",
       "6    0.00       0.00          0.00       \n",
       "7    0.00       0.00          0.00       \n",
       "8  311.58   22219.72      12844.40       \n",
       "9    0.00       0.00          0.00       \n",
       "10  94.00    4046.25       4679.72       \n",
       "11   0.00       0.00          0.00       \n",
       "12 208.25    7080.52        990.67       \n",
       "13   0.00       0.00          0.00       \n",
       "14   0.00       0.00          0.00       \n",
       "15   0.00       0.00          0.00       "
      ]
     },
     "metadata": {},
     "output_type": "display_data"
    }
   ],
   "source": [
    "sample<-sample_n(nyc_payroll_annum,15,replace=FALSE)\n",
    "sample"
   ]
  },
  {
   "cell_type": "code",
   "execution_count": 16,
   "metadata": {},
   "outputs": [
    {
     "data": {
      "image/png": "[encoded data removed]",
      "text/plain": [
       "plot without title"
      ]
     },
     "metadata": {
      "image/png": {
       "height": 420,
       "width": 420
      }
     },
     "output_type": "display_data"
    }
   ],
   "source": [
    "ggplot(sample, aes(sample=Base.Salary))+\n",
    "  stat_qq(color=\"blue\")+stat_qq_line(color=\"red\")"
   ]
  },
  {
   "cell_type": "markdown",
   "metadata": {},
   "source": [
    "Question 3 of Project 3"
   ]
  },
  {
   "cell_type": "code",
   "execution_count": 17,
   "metadata": {},
   "outputs": [
    {
     "data": {
      "text/html": [
       "73376"
      ],
      "text/latex": [
       "73376"
      ],
      "text/markdown": [
       "73376"
      ],
      "text/plain": [
       "[1] 73376"
      ]
     },
     "metadata": {},
     "output_type": "display_data"
    }
   ],
   "source": [
    "samp_mean <- mean(sample$Base.Salary)\n",
    "samp_mean"
   ]
  },
  {
   "cell_type": "code",
   "execution_count": 18,
   "metadata": {},
   "outputs": [],
   "source": [
    "bootmeans <-c()\n",
    "\n",
    "for (i in 1:10000){\n",
    "  bootsamp<-sample_n(sample,15,replace=TRUE)\n",
    "  bootmeans<-c(bootmeans,mean(bootsamp$Base.Salary))\n",
    "}"
   ]
  },
  {
   "cell_type": "code",
   "execution_count": 19,
   "metadata": {},
   "outputs": [
    {
     "data": {
      "text/html": [
       "<style>\n",
       ".dl-inline {width: auto; margin:0; padding: 0}\n",
       ".dl-inline>dt, .dl-inline>dd {float: none; width: auto; display: inline-block}\n",
       ".dl-inline>dt::after {content: \":\\0020\"; padding-right: .5ex}\n",
       ".dl-inline>dt:not(:first-of-type) {padding-left: .5ex}\n",
       "</style><dl class=dl-inline><dt>2.5%</dt><dd>61065.3116666667</dd><dt>97.5%</dt><dd>87697.475</dd></dl>\n"
      ],
      "text/latex": [
       "\\begin{description*}\n",
       "\\item[2.5\\textbackslash{}\\%] 61065.3116666667\n",
       "\\item[97.5\\textbackslash{}\\%] 87697.475\n",
       "\\end{description*}\n"
      ],
      "text/markdown": [
       "2.5%\n",
       ":   61065.311666666797.5%\n",
       ":   87697.475\n",
       "\n"
      ],
      "text/plain": [
       "    2.5%    97.5% \n",
       "61065.31 87697.47 "
      ]
     },
     "metadata": {},
     "output_type": "display_data"
    }
   ],
   "source": [
    "quantile(bootmeans,c(.025,.975))\n",
    "boot_CI<-quantile(bootmeans,c(.025,.975))"
   ]
  },
  {
   "cell_type": "markdown",
   "metadata": {},
   "source": [
    "Question 4 of Project 3"
   ]
  },
  {
   "cell_type": "markdown",
   "metadata": {},
   "source": [
    "The population mean I calculated in part 3 is within my confidence interval"
   ]
  },
  {
   "cell_type": "markdown",
   "metadata": {},
   "source": [
    "Question 5 of Project 3"
   ]
  },
  {
   "cell_type": "code",
   "execution_count": 21,
   "metadata": {},
   "outputs": [],
   "source": [
    "means<-c()\n",
    "check<-c()\n",
    "\n",
    "for(i in 1:20){\n",
    "    sample<-sample_n(nyc_payroll_annum,15,replace=FALSE)\n",
    "    m<-mean(sample$Base.Salary)\n",
    "    means<-c(means,m)\n",
    "    bootmean <-c()\n",
    "\n",
    "    for (i in 1:10000){\n",
    "        bootsamp<-sample_n(nyc_payroll_annum,15,replace=TRUE)\n",
    "        bootmean<-c(bootmean,mean(bootsamp$Base.Salary))\n",
    "    }\n",
    "    \n",
    "    boot_CI<-quantile(bootmeans,c(.025,.975))\n",
    "    check<-c(check,isTRUE((boot_CI[1]<samp_mean) && (samp_mean<boot_CI[2])))\n",
    "    \n",
    "}\n",
    "CI_example1 <- data.frame(means, check)"
   ]
  },
  {
   "cell_type": "code",
   "execution_count": 22,
   "metadata": {},
   "outputs": [
    {
     "data": {
      "text/html": [
       "<table>\n",
       "<caption>A data.frame: 20 × 2</caption>\n",
       "<thead>\n",
       "\t<tr><th scope=col>means</th><th scope=col>check</th></tr>\n",
       "\t<tr><th scope=col>&lt;dbl&gt;</th><th scope=col>&lt;lgl&gt;</th></tr>\n",
       "</thead>\n",
       "<tbody>\n",
       "\t<tr><td>93082.27</td><td>TRUE</td></tr>\n",
       "\t<tr><td>82107.40</td><td>TRUE</td></tr>\n",
       "\t<tr><td>79171.20</td><td>TRUE</td></tr>\n",
       "\t<tr><td>69904.13</td><td>TRUE</td></tr>\n",
       "\t<tr><td>68586.47</td><td>TRUE</td></tr>\n",
       "\t<tr><td>65506.53</td><td>TRUE</td></tr>\n",
       "\t<tr><td>72589.47</td><td>TRUE</td></tr>\n",
       "\t<tr><td>85912.80</td><td>TRUE</td></tr>\n",
       "\t<tr><td>83210.07</td><td>TRUE</td></tr>\n",
       "\t<tr><td>85967.80</td><td>TRUE</td></tr>\n",
       "\t<tr><td>69181.93</td><td>TRUE</td></tr>\n",
       "\t<tr><td>82804.60</td><td>TRUE</td></tr>\n",
       "\t<tr><td>63384.20</td><td>TRUE</td></tr>\n",
       "\t<tr><td>71763.20</td><td>TRUE</td></tr>\n",
       "\t<tr><td>81849.20</td><td>TRUE</td></tr>\n",
       "\t<tr><td>88529.73</td><td>TRUE</td></tr>\n",
       "\t<tr><td>77205.13</td><td>TRUE</td></tr>\n",
       "\t<tr><td>72410.73</td><td>TRUE</td></tr>\n",
       "\t<tr><td>62824.73</td><td>TRUE</td></tr>\n",
       "\t<tr><td>56070.00</td><td>TRUE</td></tr>\n",
       "</tbody>\n",
       "</table>\n"
      ],
      "text/latex": [
       "A data.frame: 20 × 2\n",
       "\\begin{tabular}{ll}\n",
       " means & check\\\\\n",
       " <dbl> & <lgl>\\\\\n",
       "\\hline\n",
       "\t 93082.27 & TRUE\\\\\n",
       "\t 82107.40 & TRUE\\\\\n",
       "\t 79171.20 & TRUE\\\\\n",
       "\t 69904.13 & TRUE\\\\\n",
       "\t 68586.47 & TRUE\\\\\n",
       "\t 65506.53 & TRUE\\\\\n",
       "\t 72589.47 & TRUE\\\\\n",
       "\t 85912.80 & TRUE\\\\\n",
       "\t 83210.07 & TRUE\\\\\n",
       "\t 85967.80 & TRUE\\\\\n",
       "\t 69181.93 & TRUE\\\\\n",
       "\t 82804.60 & TRUE\\\\\n",
       "\t 63384.20 & TRUE\\\\\n",
       "\t 71763.20 & TRUE\\\\\n",
       "\t 81849.20 & TRUE\\\\\n",
       "\t 88529.73 & TRUE\\\\\n",
       "\t 77205.13 & TRUE\\\\\n",
       "\t 72410.73 & TRUE\\\\\n",
       "\t 62824.73 & TRUE\\\\\n",
       "\t 56070.00 & TRUE\\\\\n",
       "\\end{tabular}\n"
      ],
      "text/markdown": [
       "\n",
       "A data.frame: 20 × 2\n",
       "\n",
       "| means &lt;dbl&gt; | check &lt;lgl&gt; |\n",
       "|---|---|\n",
       "| 93082.27 | TRUE |\n",
       "| 82107.40 | TRUE |\n",
       "| 79171.20 | TRUE |\n",
       "| 69904.13 | TRUE |\n",
       "| 68586.47 | TRUE |\n",
       "| 65506.53 | TRUE |\n",
       "| 72589.47 | TRUE |\n",
       "| 85912.80 | TRUE |\n",
       "| 83210.07 | TRUE |\n",
       "| 85967.80 | TRUE |\n",
       "| 69181.93 | TRUE |\n",
       "| 82804.60 | TRUE |\n",
       "| 63384.20 | TRUE |\n",
       "| 71763.20 | TRUE |\n",
       "| 81849.20 | TRUE |\n",
       "| 88529.73 | TRUE |\n",
       "| 77205.13 | TRUE |\n",
       "| 72410.73 | TRUE |\n",
       "| 62824.73 | TRUE |\n",
       "| 56070.00 | TRUE |\n",
       "\n"
      ],
      "text/plain": [
       "   means    check\n",
       "1  93082.27 TRUE \n",
       "2  82107.40 TRUE \n",
       "3  79171.20 TRUE \n",
       "4  69904.13 TRUE \n",
       "5  68586.47 TRUE \n",
       "6  65506.53 TRUE \n",
       "7  72589.47 TRUE \n",
       "8  85912.80 TRUE \n",
       "9  83210.07 TRUE \n",
       "10 85967.80 TRUE \n",
       "11 69181.93 TRUE \n",
       "12 82804.60 TRUE \n",
       "13 63384.20 TRUE \n",
       "14 71763.20 TRUE \n",
       "15 81849.20 TRUE \n",
       "16 88529.73 TRUE \n",
       "17 77205.13 TRUE \n",
       "18 72410.73 TRUE \n",
       "19 62824.73 TRUE \n",
       "20 56070.00 TRUE "
      ]
     },
     "metadata": {},
     "output_type": "display_data"
    }
   ],
   "source": [
    "filter(CI_example, check==TRUE)"
   ]
  },
  {
   "cell_type": "markdown",
   "metadata": {},
   "source": [
    "All 20 of the confidence intervals contain the population mean."
   ]
  }
 ],
 "metadata": {
  "kernelspec": {
   "display_name": "R",
   "language": "R",
   "name": "ir"
  },
  "language_info": {
   "codemirror_mode": "r",
   "file_extension": ".r",
   "mimetype": "text/x-r-source",
   "name": "R",
   "pygments_lexer": "r",
   "version": "4.0.3"
  }
 },
 "nbformat": 4,
 "nbformat_minor": 4
}
