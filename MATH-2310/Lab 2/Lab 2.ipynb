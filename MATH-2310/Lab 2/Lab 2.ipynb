{
 "cells": [
  {
   "cell_type": "code",
   "execution_count": 1,
   "metadata": {},
   "outputs": [
    {
     "name": "stderr",
     "output_type": "stream",
     "text": [
      "-- \u001b[1mAttaching packages\u001b[22m ------------------------------------------------------------------------------- tidyverse 1.3.0 --\n",
      "\n",
      "\u001b[32mv\u001b[39m \u001b[34mggplot2\u001b[39m 3.3.3     \u001b[32mv\u001b[39m \u001b[34mpurrr  \u001b[39m 0.3.4\n",
      "\u001b[32mv\u001b[39m \u001b[34mtibble \u001b[39m 3.0.4     \u001b[32mv\u001b[39m \u001b[34mdplyr  \u001b[39m 1.0.2\n",
      "\u001b[32mv\u001b[39m \u001b[34mtidyr  \u001b[39m 1.1.2     \u001b[32mv\u001b[39m \u001b[34mstringr\u001b[39m 1.4.0\n",
      "\u001b[32mv\u001b[39m \u001b[34mreadr  \u001b[39m 1.4.0     \u001b[32mv\u001b[39m \u001b[34mforcats\u001b[39m 0.5.0\n",
      "\n",
      "-- \u001b[1mConflicts\u001b[22m ---------------------------------------------------------------------------------- tidyverse_conflicts() --\n",
      "\u001b[31mx\u001b[39m \u001b[34mdplyr\u001b[39m::\u001b[32mfilter()\u001b[39m masks \u001b[34mstats\u001b[39m::filter()\n",
      "\u001b[31mx\u001b[39m \u001b[34mdplyr\u001b[39m::\u001b[32mlag()\u001b[39m    masks \u001b[34mstats\u001b[39m::lag()\n",
      "\n"
     ]
    }
   ],
   "source": [
    "library(tidyverse)"
   ]
  },
  {
   "cell_type": "code",
   "execution_count": 24,
   "metadata": {},
   "outputs": [],
   "source": [
    "help(rlnorm)"
   ]
  },
  {
   "cell_type": "markdown",
   "metadata": {},
   "source": [
    "Question 1 of Required Problems"
   ]
  },
  {
   "cell_type": "code",
   "execution_count": 1,
   "metadata": {
    "scrolled": true
   },
   "outputs": [],
   "source": [
    "log_norm <- rlnorm(1000,\n",
    "                   10,\n",
    "                   2\n",
    "                  )"
   ]
  },
  {
   "cell_type": "code",
   "execution_count": 2,
   "metadata": {},
   "outputs": [
    {
     "data": {
      "image/png": "[encoded data removed]",
      "text/plain": [
       "Plot with title \"Histogram of log_norm\""
      ]
     },
     "metadata": {
      "image/png": {
       "height": 420,
       "width": 420
      }
     },
     "output_type": "display_data"
    }
   ],
   "source": [
    "hist(log_norm)"
   ]
  },
  {
   "cell_type": "markdown",
   "metadata": {},
   "source": [
    "Question 2 of Required Problems"
   ]
  },
  {
   "cell_type": "code",
   "execution_count": 8,
   "metadata": {},
   "outputs": [
    {
     "data": {
      "text/html": [
       "108.862370727374"
      ],
      "text/latex": [
       "108.862370727374"
      ],
      "text/markdown": [
       "108.862370727374"
      ],
      "text/plain": [
       "[1] 108.8624"
      ]
     },
     "metadata": {},
     "output_type": "display_data"
    }
   ],
   "source": [
    "qnorm(.65,\n",
    "      mean=100, \n",
    "      sd=23,\n",
    "     lower.tail = TRUE)"
   ]
  },
  {
   "cell_type": "markdown",
   "metadata": {},
   "source": [
    "Question 3 of Required Problems"
   ]
  },
  {
   "cell_type": "code",
   "execution_count": 7,
   "metadata": {},
   "outputs": [
    {
     "data": {
      "text/html": [
       "0.858961563398295"
      ],
      "text/latex": [
       "0.858961563398295"
      ],
      "text/markdown": [
       "0.858961563398295"
      ],
      "text/plain": [
       "[1] 0.8589616"
      ]
     },
     "metadata": {},
     "output_type": "display_data"
    }
   ],
   "source": [
    "pbinom(3,\n",
    "       100,\n",
    "       .02,\n",
    "       lower.tail = TRUE\n",
    "      )"
   ]
  },
  {
   "cell_type": "markdown",
   "metadata": {},
   "source": [
    "Question 4 of Required Problems"
   ]
  },
  {
   "cell_type": "code",
   "execution_count": 7,
   "metadata": {},
   "outputs": [
    {
     "data": {
      "text/html": [
       "0.232716380223431"
      ],
      "text/latex": [
       "0.232716380223431"
      ],
      "text/markdown": [
       "0.232716380223431"
      ],
      "text/plain": [
       "[1] 0.2327164"
      ]
     },
     "metadata": {},
     "output_type": "display_data"
    }
   ],
   "source": [
    "ppois(8,\n",
    "      6.7,\n",
    "      lower.tail=FALSE\n",
    "     )"
   ]
  },
  {
   "cell_type": "markdown",
   "metadata": {},
   "source": [
    "Project 3"
   ]
  },
  {
   "cell_type": "markdown",
   "metadata": {},
   "source": [
    "Question 1"
   ]
  },
  {
   "cell_type": "code",
   "execution_count": 8,
   "metadata": {},
   "outputs": [
    {
     "name": "stderr",
     "output_type": "stream",
     "text": [
      "Warning message:\n",
      "\"Missing column names filled in: 'X1' [1]\"\n",
      "\n",
      "\u001b[36m--\u001b[39m \u001b[1m\u001b[1mColumn specification\u001b[1m\u001b[22m \u001b[36m------------------------------------------------------------------------------------------------\u001b[39m\n",
      "cols(\n",
      "  X1 = \u001b[32mcol_double()\u001b[39m,\n",
      "  Rank = \u001b[32mcol_double()\u001b[39m,\n",
      "  Year = \u001b[32mcol_double()\u001b[39m,\n",
      "  Movie = \u001b[31mcol_character()\u001b[39m,\n",
      "  Distributor = \u001b[31mcol_character()\u001b[39m,\n",
      "  `DomesticBox Office` = \u001b[31mcol_character()\u001b[39m,\n",
      "  `InternationalBox Office` = \u001b[31mcol_character()\u001b[39m,\n",
      "  `WorldwideBox Office` = \u001b[31mcol_character()\u001b[39m\n",
      ")\n",
      "\n",
      "\n"
     ]
    }
   ],
   "source": [
    "top_movies <- read_csv(\"TopMovies_thenumbers.csv\")"
   ]
  },
  {
   "cell_type": "markdown",
   "metadata": {},
   "source": [
    "Question 2"
   ]
  },
  {
   "cell_type": "code",
   "execution_count": 35,
   "metadata": {},
   "outputs": [
    {
     "data": {
      "text/html": [
       "<table>\n",
       "<caption>A spec_tbl_df: 100 × 8</caption>\n",
       "<thead>\n",
       "\t<tr><th scope=col>X1</th><th scope=col>Rank</th><th scope=col>Year</th><th scope=col>Movie</th><th scope=col>Distributor</th><th scope=col>DomesticBox Office</th><th scope=col>InternationalBox Office</th><th scope=col>WorldwideBox Office</th></tr>\n",
       "\t<tr><th scope=col>&lt;dbl&gt;</th><th scope=col>&lt;dbl&gt;</th><th scope=col>&lt;dbl&gt;</th><th scope=col>&lt;chr&gt;</th><th scope=col>&lt;chr&gt;</th><th scope=col>&lt;chr&gt;</th><th scope=col>&lt;chr&gt;</th><th scope=col>&lt;chr&gt;</th></tr>\n",
       "</thead>\n",
       "<tbody>\n",
       "\t<tr><td> 0</td><td> 1</td><td>2015</td><td>Star Wars Ep. VII: The Force Awakens                      </td><td>Walt Disney </td><td>$936,662,225</td><td>$1,128,815,859</td><td>$2,065,478,084</td></tr>\n",
       "\t<tr><td> 1</td><td> 2</td><td>2019</td><td>Avengers: Endgame                                         </td><td>Walt Disney </td><td>$858,373,000</td><td>$1,939,427,564</td><td>$2,797,800,564</td></tr>\n",
       "\t<tr><td> 2</td><td> 3</td><td>2009</td><td>Avatar                                                    </td><td>20th Cent…  </td><td>$760,507,625</td><td>$2,028,193,712</td><td>$2,788,701,337</td></tr>\n",
       "\t<tr><td> 3</td><td> 4</td><td>2018</td><td>Black Panther                                             </td><td>Walt Disney </td><td>$700,059,566</td><td>$636,434,755  </td><td>$1,336,494,321</td></tr>\n",
       "\t<tr><td> 4</td><td> 5</td><td>2018</td><td>Avengers: Infinity War                                    </td><td>Walt Disney </td><td>$678,815,482</td><td>$1,365,725,041</td><td>$2,044,540,523</td></tr>\n",
       "\t<tr><td> 5</td><td> 6</td><td>1997</td><td>Titanic                                                   </td><td>Paramount…  </td><td>$659,363,944</td><td>$1,548,622,601</td><td>$2,207,986,545</td></tr>\n",
       "\t<tr><td> 6</td><td> 7</td><td>2015</td><td>Jurassic World                                            </td><td>Universal   </td><td>$652,270,625</td><td>$1,017,673,342</td><td>$1,669,943,967</td></tr>\n",
       "\t<tr><td> 7</td><td> 8</td><td>2012</td><td>The Avengers                                              </td><td>Walt Disney </td><td>$623,357,910</td><td>$891,742,301  </td><td>$1,515,100,211</td></tr>\n",
       "\t<tr><td> 8</td><td> 9</td><td>2017</td><td>Star Wars Ep. VIII: The Last Jedi                         </td><td>Walt Disney </td><td>$620,181,382</td><td>$712,358,507  </td><td>$1,332,539,889</td></tr>\n",
       "\t<tr><td> 9</td><td>10</td><td>2018</td><td>Incredibles 2                                             </td><td>Walt Disney </td><td>$608,581,744</td><td>$634,223,615  </td><td>$1,242,805,359</td></tr>\n",
       "\t<tr><td>10</td><td>11</td><td>2019</td><td>The Lion King                                             </td><td>Walt Disney </td><td>$543,638,043</td><td>$1,110,743,891</td><td>$1,654,381,934</td></tr>\n",
       "\t<tr><td>11</td><td>12</td><td>2008</td><td>The Dark Knight                                           </td><td>Warner Bros.</td><td>$533,720,947</td><td>$465,713,472  </td><td>$999,434,419  </td></tr>\n",
       "\t<tr><td>12</td><td>13</td><td>2016</td><td>Rogue One: A Star Wars Story                              </td><td>Walt Disney </td><td>$532,177,324</td><td>$522,958,274  </td><td>$1,055,135,598</td></tr>\n",
       "\t<tr><td>13</td><td>14</td><td>2019</td><td>Star Wars: The Rise of Skywalker                          </td><td>Walt Disney </td><td>$515,202,542</td><td>$557,741,680  </td><td>$1,072,944,222</td></tr>\n",
       "\t<tr><td>14</td><td>15</td><td>2017</td><td>Beauty and the Beast                                      </td><td>Walt Disney </td><td>$504,014,165</td><td>$752,128,924  </td><td>$1,256,143,089</td></tr>\n",
       "\t<tr><td>15</td><td>16</td><td>2016</td><td>Finding Dory                                              </td><td>Walt Disney </td><td>$486,295,561</td><td>$538,710,564  </td><td>$1,025,006,125</td></tr>\n",
       "\t<tr><td>16</td><td>17</td><td>2019</td><td>Frozen II                                                 </td><td>Walt Disney </td><td>$477,373,578</td><td>$969,871,008  </td><td>$1,447,244,586</td></tr>\n",
       "\t<tr><td>17</td><td>18</td><td>1999</td><td>Star Wars Ep. I: The Phantom Menace                       </td><td>20th Cent…  </td><td>$474,544,677</td><td>$552,500,000  </td><td>$1,027,044,677</td></tr>\n",
       "\t<tr><td>18</td><td>19</td><td>1977</td><td>Star Wars Ep. IV: A New Hope                              </td><td>20th Cent…  </td><td>$460,998,007</td><td>$314,400,000  </td><td>$775,398,007  </td></tr>\n",
       "\t<tr><td>19</td><td>20</td><td>2015</td><td>Avengers: Age of Ultron                                   </td><td>Walt Disney </td><td>$459,005,868</td><td>$937,093,334  </td><td>$1,396,099,202</td></tr>\n",
       "\t<tr><td>20</td><td>21</td><td>2012</td><td>The Dark Knight Rises                                     </td><td>Warner Bros.</td><td>$448,139,099</td><td>$634,089,008  </td><td>$1,082,228,107</td></tr>\n",
       "\t<tr><td>21</td><td>22</td><td>2004</td><td>Shrek 2                                                   </td><td>Dreamwork…  </td><td>$441,226,247</td><td>$494,027,731  </td><td>$935,253,978  </td></tr>\n",
       "\t<tr><td>22</td><td>23</td><td>1982</td><td>E.T. the Extra-Terrestrial                                </td><td>Universal   </td><td>$435,110,554</td><td>$357,852,418  </td><td>$792,962,972  </td></tr>\n",
       "\t<tr><td>23</td><td>24</td><td>2019</td><td>Toy Story 4                                               </td><td>Walt Disney </td><td>$434,038,008</td><td>$639,319,473  </td><td>$1,073,357,481</td></tr>\n",
       "\t<tr><td>24</td><td>25</td><td>2019</td><td>Captain Marvel                                            </td><td>Walt Disney </td><td>$426,829,839</td><td>$702,897,549  </td><td>$1,129,727,388</td></tr>\n",
       "\t<tr><td>25</td><td>26</td><td>2013</td><td>The Hunger Games: Catching Fire                           </td><td>Lionsgate   </td><td>$424,668,047</td><td>$440,200,000  </td><td>$864,868,047  </td></tr>\n",
       "\t<tr><td>26</td><td>27</td><td>2006</td><td>Pirates of the Caribbean: Dead Manâ&lt;U+0080&gt;&lt;U+0099&gt;s Chest</td><td>Walt Disney </td><td>$423,315,812</td><td><span style=white-space:pre-wrap>$642,900,000  </span></td><td>$1,066,215,812</td></tr>\n",
       "\t<tr><td>27</td><td>28</td><td>1994</td><td>The Lion King                                             </td><td>Walt Disney </td><td>$421,785,283</td><td>$564,429,585  </td><td>$986,214,868  </td></tr>\n",
       "\t<tr><td>28</td><td>29</td><td>2018</td><td>Jurassic World: Fallen Kingdom                            </td><td>Universal   </td><td>$417,719,760</td><td>$890,614,245  </td><td>$1,308,334,005</td></tr>\n",
       "\t<tr><td>29</td><td>30</td><td>2010</td><td>Toy Story 3                                               </td><td>Walt Disney </td><td>$415,004,880</td><td>$653,874,642  </td><td>$1,068,879,522</td></tr>\n",
       "\t<tr><td>...</td><td>...</td><td>...</td><td>...</td><td>...</td><td>...</td><td>...</td><td>...</td></tr>\n",
       "\t<tr><td>70</td><td> 71</td><td>2018</td><td>Deadpool 2                                              </td><td>20th Cent…  </td><td>$324,591,735</td><td>$462,088,822</td><td>$786,680,557  </td></tr>\n",
       "\t<tr><td>71</td><td> 72</td><td>2007</td><td>Shrek the Third                                         </td><td>Paramount…  </td><td>$322,719,944</td><td>$484,610,992</td><td>$807,330,936  </td></tr>\n",
       "\t<tr><td>72</td><td> 73</td><td>2007</td><td>Transformers                                            </td><td>Paramount…  </td><td>$319,246,193</td><td>$389,026,399</td><td>$708,272,592  </td></tr>\n",
       "\t<tr><td>73</td><td> 74</td><td>2008</td><td>Iron Man                                                </td><td>Paramount…  </td><td>$318,604,126</td><td>$266,567,421</td><td>$585,171,547  </td></tr>\n",
       "\t<tr><td>74</td><td> 75</td><td>2001</td><td><span style=white-space:pre-wrap>Harry Potter and the Sorcererâ&lt;U+0080&gt;&lt;U+0099&gt;s Stone   </span></td><td>Warner Bros.</td><td>$317,871,467</td><td>$647,182,655</td><td><span style=white-space:pre-wrap>$965,054,122  </span></td></tr>\n",
       "\t<tr><td>75</td><td> 76</td><td>2008</td><td>Indiana Jones and the Kingdom of the Crystal Skull      </td><td>Paramount…  </td><td>$317,101,119</td><td>$469,534,294</td><td>$786,635,413  </td></tr>\n",
       "\t<tr><td>76</td><td> 77</td><td>2019</td><td>Jumanji: The Next Level                                 </td><td>Sony Pict…  </td><td>$316,831,246</td><td>$483,497,379</td><td>$800,328,625  </td></tr>\n",
       "\t<tr><td>77</td><td> 78</td><td>2001</td><td>The Lord of the Rings: The Fellowship of the Ring       </td><td>New Line    </td><td>$315,544,750</td><td>$571,666,235</td><td>$887,210,985  </td></tr>\n",
       "\t<tr><td>78</td><td> 79</td><td>2017</td><td>Thor: Ragnarok                                          </td><td>Walt Disney </td><td>$315,058,289</td><td>$535,424,489</td><td>$850,482,778  </td></tr>\n",
       "\t<tr><td>79</td><td> 80</td><td>2010</td><td>Iron Man 2                                              </td><td>Paramount…  </td><td>$312,433,331</td><td>$308,723,058</td><td>$621,156,389  </td></tr>\n",
       "\t<tr><td>80</td><td> 81</td><td>2002</td><td>Star Wars Ep. II: Attack of the Clones                  </td><td>20th Cent…  </td><td>$310,676,740</td><td>$346,018,875</td><td>$656,695,615  </td></tr>\n",
       "\t<tr><td>81</td><td> 82</td><td>2007</td><td>Pirates of the Caribbean: At Worldâ&lt;U+0080&gt;&lt;U+0099&gt;s End</td><td>Walt Disney </td><td>$309,420,425</td><td>$654,000,000</td><td><span style=white-space:pre-wrap>$963,420,425  </span></td></tr>\n",
       "\t<tr><td>82</td><td> 83</td><td>1983</td><td>Star Wars Ep. VI: Return of the Jedi                    </td><td>20th Cent…  </td><td>$309,205,079</td><td>$165,901,098</td><td>$475,106,177  </td></tr>\n",
       "\t<tr><td>83</td><td> 84</td><td>1996</td><td>Independence Day                                        </td><td>20th Cent…  </td><td>$306,169,255</td><td>$511,231,623</td><td>$817,400,878  </td></tr>\n",
       "\t<tr><td>84</td><td> 85</td><td>2003</td><td>Pirates of the Caribbean: The Curse of the Blac…        </td><td>Walt Disney </td><td>$305,410,819</td><td>$348,900,000</td><td>$654,310,819  </td></tr>\n",
       "\t<tr><td>85</td><td> 86</td><td>2012</td><td>Skyfall                                                 </td><td>Sony Pict…  </td><td>$304,360,277</td><td>$806,166,704</td><td>$1,110,526,981</td></tr>\n",
       "\t<tr><td>86</td><td> 87</td><td>2012</td><td>The Hobbit: An Unexpected Journey                       </td><td>Warner Bros.</td><td>$303,003,568</td><td>$714,000,000</td><td>$1,017,003,568</td></tr>\n",
       "\t<tr><td>87</td><td> 88</td><td>2009</td><td>Harry Potter and the Half-Blood Prince                  </td><td>Warner Bros.</td><td>$302,089,278</td><td>$628,583,889</td><td>$930,673,167  </td></tr>\n",
       "\t<tr><td>88</td><td> 89</td><td>2010</td><td>The Twilight Saga: Eclipse                              </td><td>Summit En…  </td><td>$300,531,751</td><td>$405,571,077</td><td>$706,102,828  </td></tr>\n",
       "\t<tr><td>89</td><td> 90</td><td>2009</td><td>The Twilight Saga: New Moon                             </td><td>Summit En…  </td><td>$296,623,634</td><td>$390,934,093</td><td>$687,557,727  </td></tr>\n",
       "\t<tr><td>90</td><td> 91</td><td>2010</td><td>Harry Potter and the Deathly Hallows: Part I            </td><td>Warner Bros.</td><td>$296,131,568</td><td>$659,240,323</td><td>$955,371,891  </td></tr>\n",
       "\t<tr><td>91</td><td> 92</td><td>1999</td><td>The Sixth Sense                                         </td><td>Walt Disney </td><td>$293,506,292</td><td>$379,300,000</td><td>$672,806,292  </td></tr>\n",
       "\t<tr><td>92</td><td> 93</td><td>2009</td><td>Up                                                      </td><td>Walt Disney </td><td>$293,004,164</td><td>$438,459,213</td><td>$731,463,377  </td></tr>\n",
       "\t<tr><td>93</td><td> 94</td><td>2010</td><td>Inception                                               </td><td>Warner Bros.</td><td>$292,576,195</td><td>$436,006,270</td><td>$728,582,465  </td></tr>\n",
       "\t<tr><td>94</td><td> 95</td><td>2012</td><td>The Twilight Saga: Breaking Dawn, Part 2                </td><td>Lionsgate   </td><td>$292,324,737</td><td>$537,400,000</td><td>$829,724,737  </td></tr>\n",
       "\t<tr><td>95</td><td> 96</td><td>2007</td><td>Harry Potter and the Order of the Phoenix               </td><td>Warner Bros.</td><td>$292,137,260</td><td>$648,606,680</td><td>$940,743,940  </td></tr>\n",
       "\t<tr><td>96</td><td> 97</td><td>1980</td><td>Star Wars Ep. V: The Empire Strikes Back                </td><td>20th Cent…  </td><td>$291,738,960</td><td>$257,262,282</td><td>$549,001,242  </td></tr>\n",
       "\t<tr><td>97</td><td> 98</td><td>2005</td><td>The Chronicles of Narnia: The Lion, the Witch a…        </td><td>Walt Disney </td><td>$291,710,957</td><td>$428,828,615</td><td>$720,539,572  </td></tr>\n",
       "\t<tr><td>98</td><td> 99</td><td>2013</td><td>Man of Steel                                            </td><td>Warner Bros.</td><td>$291,045,518</td><td>$376,954,000</td><td>$667,999,518  </td></tr>\n",
       "\t<tr><td>99</td><td>100</td><td>2005</td><td>Harry Potter and the Goblet of Fire                     </td><td>Warner Bros.</td><td>$290,201,752</td><td>$601,592,320</td><td>$891,794,072  </td></tr>\n",
       "</tbody>\n",
       "</table>\n"
      ],
      "text/latex": [
       "A spec\\_tbl\\_df: 100 × 8\n",
       "\\begin{tabular}{llllllll}\n",
       " X1 & Rank & Year & Movie & Distributor & DomesticBox Office & InternationalBox Office & WorldwideBox Office\\\\\n",
       " <dbl> & <dbl> & <dbl> & <chr> & <chr> & <chr> & <chr> & <chr>\\\\\n",
       "\\hline\n",
       "\t  0 &  1 & 2015 & Star Wars Ep. VII: The Force Awakens                       & Walt Disney  & \\$936,662,225 & \\$1,128,815,859 & \\$2,065,478,084\\\\\n",
       "\t  1 &  2 & 2019 & Avengers: Endgame                                          & Walt Disney  & \\$858,373,000 & \\$1,939,427,564 & \\$2,797,800,564\\\\\n",
       "\t  2 &  3 & 2009 & Avatar                                                     & 20th Cent…   & \\$760,507,625 & \\$2,028,193,712 & \\$2,788,701,337\\\\\n",
       "\t  3 &  4 & 2018 & Black Panther                                              & Walt Disney  & \\$700,059,566 & \\$636,434,755   & \\$1,336,494,321\\\\\n",
       "\t  4 &  5 & 2018 & Avengers: Infinity War                                     & Walt Disney  & \\$678,815,482 & \\$1,365,725,041 & \\$2,044,540,523\\\\\n",
       "\t  5 &  6 & 1997 & Titanic                                                    & Paramount…   & \\$659,363,944 & \\$1,548,622,601 & \\$2,207,986,545\\\\\n",
       "\t  6 &  7 & 2015 & Jurassic World                                             & Universal    & \\$652,270,625 & \\$1,017,673,342 & \\$1,669,943,967\\\\\n",
       "\t  7 &  8 & 2012 & The Avengers                                               & Walt Disney  & \\$623,357,910 & \\$891,742,301   & \\$1,515,100,211\\\\\n",
       "\t  8 &  9 & 2017 & Star Wars Ep. VIII: The Last Jedi                          & Walt Disney  & \\$620,181,382 & \\$712,358,507   & \\$1,332,539,889\\\\\n",
       "\t  9 & 10 & 2018 & Incredibles 2                                              & Walt Disney  & \\$608,581,744 & \\$634,223,615   & \\$1,242,805,359\\\\\n",
       "\t 10 & 11 & 2019 & The Lion King                                              & Walt Disney  & \\$543,638,043 & \\$1,110,743,891 & \\$1,654,381,934\\\\\n",
       "\t 11 & 12 & 2008 & The Dark Knight                                            & Warner Bros. & \\$533,720,947 & \\$465,713,472   & \\$999,434,419  \\\\\n",
       "\t 12 & 13 & 2016 & Rogue One: A Star Wars Story                               & Walt Disney  & \\$532,177,324 & \\$522,958,274   & \\$1,055,135,598\\\\\n",
       "\t 13 & 14 & 2019 & Star Wars: The Rise of Skywalker                           & Walt Disney  & \\$515,202,542 & \\$557,741,680   & \\$1,072,944,222\\\\\n",
       "\t 14 & 15 & 2017 & Beauty and the Beast                                       & Walt Disney  & \\$504,014,165 & \\$752,128,924   & \\$1,256,143,089\\\\\n",
       "\t 15 & 16 & 2016 & Finding Dory                                               & Walt Disney  & \\$486,295,561 & \\$538,710,564   & \\$1,025,006,125\\\\\n",
       "\t 16 & 17 & 2019 & Frozen II                                                  & Walt Disney  & \\$477,373,578 & \\$969,871,008   & \\$1,447,244,586\\\\\n",
       "\t 17 & 18 & 1999 & Star Wars Ep. I: The Phantom Menace                        & 20th Cent…   & \\$474,544,677 & \\$552,500,000   & \\$1,027,044,677\\\\\n",
       "\t 18 & 19 & 1977 & Star Wars Ep. IV: A New Hope                               & 20th Cent…   & \\$460,998,007 & \\$314,400,000   & \\$775,398,007  \\\\\n",
       "\t 19 & 20 & 2015 & Avengers: Age of Ultron                                    & Walt Disney  & \\$459,005,868 & \\$937,093,334   & \\$1,396,099,202\\\\\n",
       "\t 20 & 21 & 2012 & The Dark Knight Rises                                      & Warner Bros. & \\$448,139,099 & \\$634,089,008   & \\$1,082,228,107\\\\\n",
       "\t 21 & 22 & 2004 & Shrek 2                                                    & Dreamwork…   & \\$441,226,247 & \\$494,027,731   & \\$935,253,978  \\\\\n",
       "\t 22 & 23 & 1982 & E.T. the Extra-Terrestrial                                 & Universal    & \\$435,110,554 & \\$357,852,418   & \\$792,962,972  \\\\\n",
       "\t 23 & 24 & 2019 & Toy Story 4                                                & Walt Disney  & \\$434,038,008 & \\$639,319,473   & \\$1,073,357,481\\\\\n",
       "\t 24 & 25 & 2019 & Captain Marvel                                             & Walt Disney  & \\$426,829,839 & \\$702,897,549   & \\$1,129,727,388\\\\\n",
       "\t 25 & 26 & 2013 & The Hunger Games: Catching Fire                            & Lionsgate    & \\$424,668,047 & \\$440,200,000   & \\$864,868,047  \\\\\n",
       "\t 26 & 27 & 2006 & Pirates of the Caribbean: Dead Manâ<U+0080><U+0099>s Chest & Walt Disney  & \\$423,315,812 & \\$642,900,000   & \\$1,066,215,812\\\\\n",
       "\t 27 & 28 & 1994 & The Lion King                                              & Walt Disney  & \\$421,785,283 & \\$564,429,585   & \\$986,214,868  \\\\\n",
       "\t 28 & 29 & 2018 & Jurassic World: Fallen Kingdom                             & Universal    & \\$417,719,760 & \\$890,614,245   & \\$1,308,334,005\\\\\n",
       "\t 29 & 30 & 2010 & Toy Story 3                                                & Walt Disney  & \\$415,004,880 & \\$653,874,642   & \\$1,068,879,522\\\\\n",
       "\t ... & ... & ... & ... & ... & ... & ... & ...\\\\\n",
       "\t 70 &  71 & 2018 & Deadpool 2                                               & 20th Cent…   & \\$324,591,735 & \\$462,088,822 & \\$786,680,557  \\\\\n",
       "\t 71 &  72 & 2007 & Shrek the Third                                          & Paramount…   & \\$322,719,944 & \\$484,610,992 & \\$807,330,936  \\\\\n",
       "\t 72 &  73 & 2007 & Transformers                                             & Paramount…   & \\$319,246,193 & \\$389,026,399 & \\$708,272,592  \\\\\n",
       "\t 73 &  74 & 2008 & Iron Man                                                 & Paramount…   & \\$318,604,126 & \\$266,567,421 & \\$585,171,547  \\\\\n",
       "\t 74 &  75 & 2001 & Harry Potter and the Sorcererâ<U+0080><U+0099>s Stone    & Warner Bros. & \\$317,871,467 & \\$647,182,655 & \\$965,054,122  \\\\\n",
       "\t 75 &  76 & 2008 & Indiana Jones and the Kingdom of the Crystal Skull       & Paramount…   & \\$317,101,119 & \\$469,534,294 & \\$786,635,413  \\\\\n",
       "\t 76 &  77 & 2019 & Jumanji: The Next Level                                  & Sony Pict…   & \\$316,831,246 & \\$483,497,379 & \\$800,328,625  \\\\\n",
       "\t 77 &  78 & 2001 & The Lord of the Rings: The Fellowship of the Ring        & New Line     & \\$315,544,750 & \\$571,666,235 & \\$887,210,985  \\\\\n",
       "\t 78 &  79 & 2017 & Thor: Ragnarok                                           & Walt Disney  & \\$315,058,289 & \\$535,424,489 & \\$850,482,778  \\\\\n",
       "\t 79 &  80 & 2010 & Iron Man 2                                               & Paramount…   & \\$312,433,331 & \\$308,723,058 & \\$621,156,389  \\\\\n",
       "\t 80 &  81 & 2002 & Star Wars Ep. II: Attack of the Clones                   & 20th Cent…   & \\$310,676,740 & \\$346,018,875 & \\$656,695,615  \\\\\n",
       "\t 81 &  82 & 2007 & Pirates of the Caribbean: At Worldâ<U+0080><U+0099>s End & Walt Disney  & \\$309,420,425 & \\$654,000,000 & \\$963,420,425  \\\\\n",
       "\t 82 &  83 & 1983 & Star Wars Ep. VI: Return of the Jedi                     & 20th Cent…   & \\$309,205,079 & \\$165,901,098 & \\$475,106,177  \\\\\n",
       "\t 83 &  84 & 1996 & Independence Day                                         & 20th Cent…   & \\$306,169,255 & \\$511,231,623 & \\$817,400,878  \\\\\n",
       "\t 84 &  85 & 2003 & Pirates of the Caribbean: The Curse of the Blac…         & Walt Disney  & \\$305,410,819 & \\$348,900,000 & \\$654,310,819  \\\\\n",
       "\t 85 &  86 & 2012 & Skyfall                                                  & Sony Pict…   & \\$304,360,277 & \\$806,166,704 & \\$1,110,526,981\\\\\n",
       "\t 86 &  87 & 2012 & The Hobbit: An Unexpected Journey                        & Warner Bros. & \\$303,003,568 & \\$714,000,000 & \\$1,017,003,568\\\\\n",
       "\t 87 &  88 & 2009 & Harry Potter and the Half-Blood Prince                   & Warner Bros. & \\$302,089,278 & \\$628,583,889 & \\$930,673,167  \\\\\n",
       "\t 88 &  89 & 2010 & The Twilight Saga: Eclipse                               & Summit En…   & \\$300,531,751 & \\$405,571,077 & \\$706,102,828  \\\\\n",
       "\t 89 &  90 & 2009 & The Twilight Saga: New Moon                              & Summit En…   & \\$296,623,634 & \\$390,934,093 & \\$687,557,727  \\\\\n",
       "\t 90 &  91 & 2010 & Harry Potter and the Deathly Hallows: Part I             & Warner Bros. & \\$296,131,568 & \\$659,240,323 & \\$955,371,891  \\\\\n",
       "\t 91 &  92 & 1999 & The Sixth Sense                                          & Walt Disney  & \\$293,506,292 & \\$379,300,000 & \\$672,806,292  \\\\\n",
       "\t 92 &  93 & 2009 & Up                                                       & Walt Disney  & \\$293,004,164 & \\$438,459,213 & \\$731,463,377  \\\\\n",
       "\t 93 &  94 & 2010 & Inception                                                & Warner Bros. & \\$292,576,195 & \\$436,006,270 & \\$728,582,465  \\\\\n",
       "\t 94 &  95 & 2012 & The Twilight Saga: Breaking Dawn, Part 2                 & Lionsgate    & \\$292,324,737 & \\$537,400,000 & \\$829,724,737  \\\\\n",
       "\t 95 &  96 & 2007 & Harry Potter and the Order of the Phoenix                & Warner Bros. & \\$292,137,260 & \\$648,606,680 & \\$940,743,940  \\\\\n",
       "\t 96 &  97 & 1980 & Star Wars Ep. V: The Empire Strikes Back                 & 20th Cent…   & \\$291,738,960 & \\$257,262,282 & \\$549,001,242  \\\\\n",
       "\t 97 &  98 & 2005 & The Chronicles of Narnia: The Lion, the Witch a…         & Walt Disney  & \\$291,710,957 & \\$428,828,615 & \\$720,539,572  \\\\\n",
       "\t 98 &  99 & 2013 & Man of Steel                                             & Warner Bros. & \\$291,045,518 & \\$376,954,000 & \\$667,999,518  \\\\\n",
       "\t 99 & 100 & 2005 & Harry Potter and the Goblet of Fire                      & Warner Bros. & \\$290,201,752 & \\$601,592,320 & \\$891,794,072  \\\\\n",
       "\\end{tabular}\n"
      ],
      "text/markdown": [
       "\n",
       "A spec_tbl_df: 100 × 8\n",
       "\n",
       "| X1 &lt;dbl&gt; | Rank &lt;dbl&gt; | Year &lt;dbl&gt; | Movie &lt;chr&gt; | Distributor &lt;chr&gt; | DomesticBox Office &lt;chr&gt; | InternationalBox Office &lt;chr&gt; | WorldwideBox Office &lt;chr&gt; |\n",
       "|---|---|---|---|---|---|---|---|\n",
       "|  0 |  1 | 2015 | Star Wars Ep. VII: The Force Awakens                       | Walt Disney  | $936,662,225 | $1,128,815,859 | $2,065,478,084 |\n",
       "|  1 |  2 | 2019 | Avengers: Endgame                                          | Walt Disney  | $858,373,000 | $1,939,427,564 | $2,797,800,564 |\n",
       "|  2 |  3 | 2009 | Avatar                                                     | 20th Cent…   | $760,507,625 | $2,028,193,712 | $2,788,701,337 |\n",
       "|  3 |  4 | 2018 | Black Panther                                              | Walt Disney  | $700,059,566 | $636,434,755   | $1,336,494,321 |\n",
       "|  4 |  5 | 2018 | Avengers: Infinity War                                     | Walt Disney  | $678,815,482 | $1,365,725,041 | $2,044,540,523 |\n",
       "|  5 |  6 | 1997 | Titanic                                                    | Paramount…   | $659,363,944 | $1,548,622,601 | $2,207,986,545 |\n",
       "|  6 |  7 | 2015 | Jurassic World                                             | Universal    | $652,270,625 | $1,017,673,342 | $1,669,943,967 |\n",
       "|  7 |  8 | 2012 | The Avengers                                               | Walt Disney  | $623,357,910 | $891,742,301   | $1,515,100,211 |\n",
       "|  8 |  9 | 2017 | Star Wars Ep. VIII: The Last Jedi                          | Walt Disney  | $620,181,382 | $712,358,507   | $1,332,539,889 |\n",
       "|  9 | 10 | 2018 | Incredibles 2                                              | Walt Disney  | $608,581,744 | $634,223,615   | $1,242,805,359 |\n",
       "| 10 | 11 | 2019 | The Lion King                                              | Walt Disney  | $543,638,043 | $1,110,743,891 | $1,654,381,934 |\n",
       "| 11 | 12 | 2008 | The Dark Knight                                            | Warner Bros. | $533,720,947 | $465,713,472   | $999,434,419   |\n",
       "| 12 | 13 | 2016 | Rogue One: A Star Wars Story                               | Walt Disney  | $532,177,324 | $522,958,274   | $1,055,135,598 |\n",
       "| 13 | 14 | 2019 | Star Wars: The Rise of Skywalker                           | Walt Disney  | $515,202,542 | $557,741,680   | $1,072,944,222 |\n",
       "| 14 | 15 | 2017 | Beauty and the Beast                                       | Walt Disney  | $504,014,165 | $752,128,924   | $1,256,143,089 |\n",
       "| 15 | 16 | 2016 | Finding Dory                                               | Walt Disney  | $486,295,561 | $538,710,564   | $1,025,006,125 |\n",
       "| 16 | 17 | 2019 | Frozen II                                                  | Walt Disney  | $477,373,578 | $969,871,008   | $1,447,244,586 |\n",
       "| 17 | 18 | 1999 | Star Wars Ep. I: The Phantom Menace                        | 20th Cent…   | $474,544,677 | $552,500,000   | $1,027,044,677 |\n",
       "| 18 | 19 | 1977 | Star Wars Ep. IV: A New Hope                               | 20th Cent…   | $460,998,007 | $314,400,000   | $775,398,007   |\n",
       "| 19 | 20 | 2015 | Avengers: Age of Ultron                                    | Walt Disney  | $459,005,868 | $937,093,334   | $1,396,099,202 |\n",
       "| 20 | 21 | 2012 | The Dark Knight Rises                                      | Warner Bros. | $448,139,099 | $634,089,008   | $1,082,228,107 |\n",
       "| 21 | 22 | 2004 | Shrek 2                                                    | Dreamwork…   | $441,226,247 | $494,027,731   | $935,253,978   |\n",
       "| 22 | 23 | 1982 | E.T. the Extra-Terrestrial                                 | Universal    | $435,110,554 | $357,852,418   | $792,962,972   |\n",
       "| 23 | 24 | 2019 | Toy Story 4                                                | Walt Disney  | $434,038,008 | $639,319,473   | $1,073,357,481 |\n",
       "| 24 | 25 | 2019 | Captain Marvel                                             | Walt Disney  | $426,829,839 | $702,897,549   | $1,129,727,388 |\n",
       "| 25 | 26 | 2013 | The Hunger Games: Catching Fire                            | Lionsgate    | $424,668,047 | $440,200,000   | $864,868,047   |\n",
       "| 26 | 27 | 2006 | Pirates of the Caribbean: Dead Manâ&lt;U+0080&gt;&lt;U+0099&gt;s Chest | Walt Disney  | $423,315,812 | $642,900,000   | $1,066,215,812 |\n",
       "| 27 | 28 | 1994 | The Lion King                                              | Walt Disney  | $421,785,283 | $564,429,585   | $986,214,868   |\n",
       "| 28 | 29 | 2018 | Jurassic World: Fallen Kingdom                             | Universal    | $417,719,760 | $890,614,245   | $1,308,334,005 |\n",
       "| 29 | 30 | 2010 | Toy Story 3                                                | Walt Disney  | $415,004,880 | $653,874,642   | $1,068,879,522 |\n",
       "| ... | ... | ... | ... | ... | ... | ... | ... |\n",
       "| 70 |  71 | 2018 | Deadpool 2                                               | 20th Cent…   | $324,591,735 | $462,088,822 | $786,680,557   |\n",
       "| 71 |  72 | 2007 | Shrek the Third                                          | Paramount…   | $322,719,944 | $484,610,992 | $807,330,936   |\n",
       "| 72 |  73 | 2007 | Transformers                                             | Paramount…   | $319,246,193 | $389,026,399 | $708,272,592   |\n",
       "| 73 |  74 | 2008 | Iron Man                                                 | Paramount…   | $318,604,126 | $266,567,421 | $585,171,547   |\n",
       "| 74 |  75 | 2001 | Harry Potter and the Sorcererâ&lt;U+0080&gt;&lt;U+0099&gt;s Stone    | Warner Bros. | $317,871,467 | $647,182,655 | $965,054,122   |\n",
       "| 75 |  76 | 2008 | Indiana Jones and the Kingdom of the Crystal Skull       | Paramount…   | $317,101,119 | $469,534,294 | $786,635,413   |\n",
       "| 76 |  77 | 2019 | Jumanji: The Next Level                                  | Sony Pict…   | $316,831,246 | $483,497,379 | $800,328,625   |\n",
       "| 77 |  78 | 2001 | The Lord of the Rings: The Fellowship of the Ring        | New Line     | $315,544,750 | $571,666,235 | $887,210,985   |\n",
       "| 78 |  79 | 2017 | Thor: Ragnarok                                           | Walt Disney  | $315,058,289 | $535,424,489 | $850,482,778   |\n",
       "| 79 |  80 | 2010 | Iron Man 2                                               | Paramount…   | $312,433,331 | $308,723,058 | $621,156,389   |\n",
       "| 80 |  81 | 2002 | Star Wars Ep. II: Attack of the Clones                   | 20th Cent…   | $310,676,740 | $346,018,875 | $656,695,615   |\n",
       "| 81 |  82 | 2007 | Pirates of the Caribbean: At Worldâ&lt;U+0080&gt;&lt;U+0099&gt;s End | Walt Disney  | $309,420,425 | $654,000,000 | $963,420,425   |\n",
       "| 82 |  83 | 1983 | Star Wars Ep. VI: Return of the Jedi                     | 20th Cent…   | $309,205,079 | $165,901,098 | $475,106,177   |\n",
       "| 83 |  84 | 1996 | Independence Day                                         | 20th Cent…   | $306,169,255 | $511,231,623 | $817,400,878   |\n",
       "| 84 |  85 | 2003 | Pirates of the Caribbean: The Curse of the Blac…         | Walt Disney  | $305,410,819 | $348,900,000 | $654,310,819   |\n",
       "| 85 |  86 | 2012 | Skyfall                                                  | Sony Pict…   | $304,360,277 | $806,166,704 | $1,110,526,981 |\n",
       "| 86 |  87 | 2012 | The Hobbit: An Unexpected Journey                        | Warner Bros. | $303,003,568 | $714,000,000 | $1,017,003,568 |\n",
       "| 87 |  88 | 2009 | Harry Potter and the Half-Blood Prince                   | Warner Bros. | $302,089,278 | $628,583,889 | $930,673,167   |\n",
       "| 88 |  89 | 2010 | The Twilight Saga: Eclipse                               | Summit En…   | $300,531,751 | $405,571,077 | $706,102,828   |\n",
       "| 89 |  90 | 2009 | The Twilight Saga: New Moon                              | Summit En…   | $296,623,634 | $390,934,093 | $687,557,727   |\n",
       "| 90 |  91 | 2010 | Harry Potter and the Deathly Hallows: Part I             | Warner Bros. | $296,131,568 | $659,240,323 | $955,371,891   |\n",
       "| 91 |  92 | 1999 | The Sixth Sense                                          | Walt Disney  | $293,506,292 | $379,300,000 | $672,806,292   |\n",
       "| 92 |  93 | 2009 | Up                                                       | Walt Disney  | $293,004,164 | $438,459,213 | $731,463,377   |\n",
       "| 93 |  94 | 2010 | Inception                                                | Warner Bros. | $292,576,195 | $436,006,270 | $728,582,465   |\n",
       "| 94 |  95 | 2012 | The Twilight Saga: Breaking Dawn, Part 2                 | Lionsgate    | $292,324,737 | $537,400,000 | $829,724,737   |\n",
       "| 95 |  96 | 2007 | Harry Potter and the Order of the Phoenix                | Warner Bros. | $292,137,260 | $648,606,680 | $940,743,940   |\n",
       "| 96 |  97 | 1980 | Star Wars Ep. V: The Empire Strikes Back                 | 20th Cent…   | $291,738,960 | $257,262,282 | $549,001,242   |\n",
       "| 97 |  98 | 2005 | The Chronicles of Narnia: The Lion, the Witch a…         | Walt Disney  | $291,710,957 | $428,828,615 | $720,539,572   |\n",
       "| 98 |  99 | 2013 | Man of Steel                                             | Warner Bros. | $291,045,518 | $376,954,000 | $667,999,518   |\n",
       "| 99 | 100 | 2005 | Harry Potter and the Goblet of Fire                      | Warner Bros. | $290,201,752 | $601,592,320 | $891,794,072   |\n",
       "\n"
      ],
      "text/plain": [
       "    X1  Rank Year Movie                                                     \n",
       "1    0   1   2015 Star Wars Ep. VII: The Force Awakens                      \n",
       "2    1   2   2019 Avengers: Endgame                                         \n",
       "3    2   3   2009 Avatar                                                    \n",
       "4    3   4   2018 Black Panther                                             \n",
       "5    4   5   2018 Avengers: Infinity War                                    \n",
       "6    5   6   1997 Titanic                                                   \n",
       "7    6   7   2015 Jurassic World                                            \n",
       "8    7   8   2012 The Avengers                                              \n",
       "9    8   9   2017 Star Wars Ep. VIII: The Last Jedi                         \n",
       "10   9  10   2018 Incredibles 2                                             \n",
       "11  10  11   2019 The Lion King                                             \n",
       "12  11  12   2008 The Dark Knight                                           \n",
       "13  12  13   2016 Rogue One: A Star Wars Story                              \n",
       "14  13  14   2019 Star Wars: The Rise of Skywalker                          \n",
       "15  14  15   2017 Beauty and the Beast                                      \n",
       "16  15  16   2016 Finding Dory                                              \n",
       "17  16  17   2019 Frozen II                                                 \n",
       "18  17  18   1999 Star Wars Ep. I: The Phantom Menace                       \n",
       "19  18  19   1977 Star Wars Ep. IV: A New Hope                              \n",
       "20  19  20   2015 Avengers: Age of Ultron                                   \n",
       "21  20  21   2012 The Dark Knight Rises                                     \n",
       "22  21  22   2004 Shrek 2                                                   \n",
       "23  22  23   1982 E.T. the Extra-Terrestrial                                \n",
       "24  23  24   2019 Toy Story 4                                               \n",
       "25  24  25   2019 Captain Marvel                                            \n",
       "26  25  26   2013 The Hunger Games: Catching Fire                           \n",
       "27  26  27   2006 Pirates of the Caribbean: Dead Manâ<U+0080><U+0099>s Chest\n",
       "28  27  28   1994 The Lion King                                             \n",
       "29  28  29   2018 Jurassic World: Fallen Kingdom                            \n",
       "30  29  30   2010 Toy Story 3                                               \n",
       "... ... ...  ...  ...                                                       \n",
       "71  70   71  2018 Deadpool 2                                                \n",
       "72  71   72  2007 Shrek the Third                                           \n",
       "73  72   73  2007 Transformers                                              \n",
       "74  73   74  2008 Iron Man                                                  \n",
       "75  74   75  2001 Harry Potter and the Sorcererâ<U+0080><U+0099>s Stone     \n",
       "76  75   76  2008 Indiana Jones and the Kingdom of the Crystal Skull        \n",
       "77  76   77  2019 Jumanji: The Next Level                                   \n",
       "78  77   78  2001 The Lord of the Rings: The Fellowship of the Ring         \n",
       "79  78   79  2017 Thor: Ragnarok                                            \n",
       "80  79   80  2010 Iron Man 2                                                \n",
       "81  80   81  2002 Star Wars Ep. II: Attack of the Clones                    \n",
       "82  81   82  2007 Pirates of the Caribbean: At Worldâ<U+0080><U+0099>s End  \n",
       "83  82   83  1983 Star Wars Ep. VI: Return of the Jedi                      \n",
       "84  83   84  1996 Independence Day                                          \n",
       "85  84   85  2003 Pirates of the Caribbean: The Curse of the Blac…          \n",
       "86  85   86  2012 Skyfall                                                   \n",
       "87  86   87  2012 The Hobbit: An Unexpected Journey                         \n",
       "88  87   88  2009 Harry Potter and the Half-Blood Prince                    \n",
       "89  88   89  2010 The Twilight Saga: Eclipse                                \n",
       "90  89   90  2009 The Twilight Saga: New Moon                               \n",
       "91  90   91  2010 Harry Potter and the Deathly Hallows: Part I              \n",
       "92  91   92  1999 The Sixth Sense                                           \n",
       "93  92   93  2009 Up                                                        \n",
       "94  93   94  2010 Inception                                                 \n",
       "95  94   95  2012 The Twilight Saga: Breaking Dawn, Part 2                  \n",
       "96  95   96  2007 Harry Potter and the Order of the Phoenix                 \n",
       "97  96   97  1980 Star Wars Ep. V: The Empire Strikes Back                  \n",
       "98  97   98  2005 The Chronicles of Narnia: The Lion, the Witch a…          \n",
       "99  98   99  2013 Man of Steel                                              \n",
       "100 99  100  2005 Harry Potter and the Goblet of Fire                       \n",
       "    Distributor  DomesticBox Office InternationalBox Office WorldwideBox Office\n",
       "1   Walt Disney  $936,662,225       $1,128,815,859          $2,065,478,084     \n",
       "2   Walt Disney  $858,373,000       $1,939,427,564          $2,797,800,564     \n",
       "3   20th Cent…   $760,507,625       $2,028,193,712          $2,788,701,337     \n",
       "4   Walt Disney  $700,059,566       $636,434,755            $1,336,494,321     \n",
       "5   Walt Disney  $678,815,482       $1,365,725,041          $2,044,540,523     \n",
       "6   Paramount…   $659,363,944       $1,548,622,601          $2,207,986,545     \n",
       "7   Universal    $652,270,625       $1,017,673,342          $1,669,943,967     \n",
       "8   Walt Disney  $623,357,910       $891,742,301            $1,515,100,211     \n",
       "9   Walt Disney  $620,181,382       $712,358,507            $1,332,539,889     \n",
       "10  Walt Disney  $608,581,744       $634,223,615            $1,242,805,359     \n",
       "11  Walt Disney  $543,638,043       $1,110,743,891          $1,654,381,934     \n",
       "12  Warner Bros. $533,720,947       $465,713,472            $999,434,419       \n",
       "13  Walt Disney  $532,177,324       $522,958,274            $1,055,135,598     \n",
       "14  Walt Disney  $515,202,542       $557,741,680            $1,072,944,222     \n",
       "15  Walt Disney  $504,014,165       $752,128,924            $1,256,143,089     \n",
       "16  Walt Disney  $486,295,561       $538,710,564            $1,025,006,125     \n",
       "17  Walt Disney  $477,373,578       $969,871,008            $1,447,244,586     \n",
       "18  20th Cent…   $474,544,677       $552,500,000            $1,027,044,677     \n",
       "19  20th Cent…   $460,998,007       $314,400,000            $775,398,007       \n",
       "20  Walt Disney  $459,005,868       $937,093,334            $1,396,099,202     \n",
       "21  Warner Bros. $448,139,099       $634,089,008            $1,082,228,107     \n",
       "22  Dreamwork…   $441,226,247       $494,027,731            $935,253,978       \n",
       "23  Universal    $435,110,554       $357,852,418            $792,962,972       \n",
       "24  Walt Disney  $434,038,008       $639,319,473            $1,073,357,481     \n",
       "25  Walt Disney  $426,829,839       $702,897,549            $1,129,727,388     \n",
       "26  Lionsgate    $424,668,047       $440,200,000            $864,868,047       \n",
       "27  Walt Disney  $423,315,812       $642,900,000            $1,066,215,812     \n",
       "28  Walt Disney  $421,785,283       $564,429,585            $986,214,868       \n",
       "29  Universal    $417,719,760       $890,614,245            $1,308,334,005     \n",
       "30  Walt Disney  $415,004,880       $653,874,642            $1,068,879,522     \n",
       "... ...          ...                ...                     ...                \n",
       "71  20th Cent…   $324,591,735       $462,088,822            $786,680,557       \n",
       "72  Paramount…   $322,719,944       $484,610,992            $807,330,936       \n",
       "73  Paramount…   $319,246,193       $389,026,399            $708,272,592       \n",
       "74  Paramount…   $318,604,126       $266,567,421            $585,171,547       \n",
       "75  Warner Bros. $317,871,467       $647,182,655            $965,054,122       \n",
       "76  Paramount…   $317,101,119       $469,534,294            $786,635,413       \n",
       "77  Sony Pict…   $316,831,246       $483,497,379            $800,328,625       \n",
       "78  New Line     $315,544,750       $571,666,235            $887,210,985       \n",
       "79  Walt Disney  $315,058,289       $535,424,489            $850,482,778       \n",
       "80  Paramount…   $312,433,331       $308,723,058            $621,156,389       \n",
       "81  20th Cent…   $310,676,740       $346,018,875            $656,695,615       \n",
       "82  Walt Disney  $309,420,425       $654,000,000            $963,420,425       \n",
       "83  20th Cent…   $309,205,079       $165,901,098            $475,106,177       \n",
       "84  20th Cent…   $306,169,255       $511,231,623            $817,400,878       \n",
       "85  Walt Disney  $305,410,819       $348,900,000            $654,310,819       \n",
       "86  Sony Pict…   $304,360,277       $806,166,704            $1,110,526,981     \n",
       "87  Warner Bros. $303,003,568       $714,000,000            $1,017,003,568     \n",
       "88  Warner Bros. $302,089,278       $628,583,889            $930,673,167       \n",
       "89  Summit En…   $300,531,751       $405,571,077            $706,102,828       \n",
       "90  Summit En…   $296,623,634       $390,934,093            $687,557,727       \n",
       "91  Warner Bros. $296,131,568       $659,240,323            $955,371,891       \n",
       "92  Walt Disney  $293,506,292       $379,300,000            $672,806,292       \n",
       "93  Walt Disney  $293,004,164       $438,459,213            $731,463,377       \n",
       "94  Warner Bros. $292,576,195       $436,006,270            $728,582,465       \n",
       "95  Lionsgate    $292,324,737       $537,400,000            $829,724,737       \n",
       "96  Warner Bros. $292,137,260       $648,606,680            $940,743,940       \n",
       "97  20th Cent…   $291,738,960       $257,262,282            $549,001,242       \n",
       "98  Walt Disney  $291,710,957       $428,828,615            $720,539,572       \n",
       "99  Warner Bros. $291,045,518       $376,954,000            $667,999,518       \n",
       "100 Warner Bros. $290,201,752       $601,592,320            $891,794,072       "
      ]
     },
     "metadata": {},
     "output_type": "display_data"
    }
   ],
   "source": [
    "top_movies"
   ]
  },
  {
   "cell_type": "code",
   "execution_count": 9,
   "metadata": {},
   "outputs": [
    {
     "data": {
      "text/html": [
       "<table>\n",
       "<caption>A tibble: 6 × 8</caption>\n",
       "<thead>\n",
       "\t<tr><th scope=col>X1</th><th scope=col>Rank</th><th scope=col>Year</th><th scope=col>Movie</th><th scope=col>Distributor</th><th scope=col>DomesticBox Office</th><th scope=col>InternationalBox Office</th><th scope=col>WorldwideBox Office</th></tr>\n",
       "\t<tr><th scope=col>&lt;dbl&gt;</th><th scope=col>&lt;dbl&gt;</th><th scope=col>&lt;dbl&gt;</th><th scope=col>&lt;chr&gt;</th><th scope=col>&lt;chr&gt;</th><th scope=col>&lt;chr&gt;</th><th scope=col>&lt;chr&gt;</th><th scope=col>&lt;chr&gt;</th></tr>\n",
       "</thead>\n",
       "<tbody>\n",
       "\t<tr><td>0</td><td>1</td><td>2015</td><td>Star Wars Ep. VII: The Force Awakens</td><td>Walt Disney</td><td>$936,662,225</td><td>$1,128,815,859</td><td>$2,065,478,084</td></tr>\n",
       "\t<tr><td>1</td><td>2</td><td>2019</td><td>Avengers: Endgame                   </td><td>Walt Disney</td><td>$858,373,000</td><td>$1,939,427,564</td><td>$2,797,800,564</td></tr>\n",
       "\t<tr><td>2</td><td>3</td><td>2009</td><td>Avatar                              </td><td>20th Cent… </td><td>$760,507,625</td><td>$2,028,193,712</td><td>$2,788,701,337</td></tr>\n",
       "\t<tr><td>3</td><td>4</td><td>2018</td><td>Black Panther                       </td><td>Walt Disney</td><td>$700,059,566</td><td>$636,434,755  </td><td>$1,336,494,321</td></tr>\n",
       "\t<tr><td>4</td><td>5</td><td>2018</td><td>Avengers: Infinity War              </td><td>Walt Disney</td><td>$678,815,482</td><td>$1,365,725,041</td><td>$2,044,540,523</td></tr>\n",
       "\t<tr><td>5</td><td>6</td><td>1997</td><td>Titanic                             </td><td>Paramount… </td><td>$659,363,944</td><td>$1,548,622,601</td><td>$2,207,986,545</td></tr>\n",
       "</tbody>\n",
       "</table>\n"
      ],
      "text/latex": [
       "A tibble: 6 × 8\n",
       "\\begin{tabular}{llllllll}\n",
       " X1 & Rank & Year & Movie & Distributor & DomesticBox Office & InternationalBox Office & WorldwideBox Office\\\\\n",
       " <dbl> & <dbl> & <dbl> & <chr> & <chr> & <chr> & <chr> & <chr>\\\\\n",
       "\\hline\n",
       "\t 0 & 1 & 2015 & Star Wars Ep. VII: The Force Awakens & Walt Disney & \\$936,662,225 & \\$1,128,815,859 & \\$2,065,478,084\\\\\n",
       "\t 1 & 2 & 2019 & Avengers: Endgame                    & Walt Disney & \\$858,373,000 & \\$1,939,427,564 & \\$2,797,800,564\\\\\n",
       "\t 2 & 3 & 2009 & Avatar                               & 20th Cent…  & \\$760,507,625 & \\$2,028,193,712 & \\$2,788,701,337\\\\\n",
       "\t 3 & 4 & 2018 & Black Panther                        & Walt Disney & \\$700,059,566 & \\$636,434,755   & \\$1,336,494,321\\\\\n",
       "\t 4 & 5 & 2018 & Avengers: Infinity War               & Walt Disney & \\$678,815,482 & \\$1,365,725,041 & \\$2,044,540,523\\\\\n",
       "\t 5 & 6 & 1997 & Titanic                              & Paramount…  & \\$659,363,944 & \\$1,548,622,601 & \\$2,207,986,545\\\\\n",
       "\\end{tabular}\n"
      ],
      "text/markdown": [
       "\n",
       "A tibble: 6 × 8\n",
       "\n",
       "| X1 &lt;dbl&gt; | Rank &lt;dbl&gt; | Year &lt;dbl&gt; | Movie &lt;chr&gt; | Distributor &lt;chr&gt; | DomesticBox Office &lt;chr&gt; | InternationalBox Office &lt;chr&gt; | WorldwideBox Office &lt;chr&gt; |\n",
       "|---|---|---|---|---|---|---|---|\n",
       "| 0 | 1 | 2015 | Star Wars Ep. VII: The Force Awakens | Walt Disney | $936,662,225 | $1,128,815,859 | $2,065,478,084 |\n",
       "| 1 | 2 | 2019 | Avengers: Endgame                    | Walt Disney | $858,373,000 | $1,939,427,564 | $2,797,800,564 |\n",
       "| 2 | 3 | 2009 | Avatar                               | 20th Cent…  | $760,507,625 | $2,028,193,712 | $2,788,701,337 |\n",
       "| 3 | 4 | 2018 | Black Panther                        | Walt Disney | $700,059,566 | $636,434,755   | $1,336,494,321 |\n",
       "| 4 | 5 | 2018 | Avengers: Infinity War               | Walt Disney | $678,815,482 | $1,365,725,041 | $2,044,540,523 |\n",
       "| 5 | 6 | 1997 | Titanic                              | Paramount…  | $659,363,944 | $1,548,622,601 | $2,207,986,545 |\n",
       "\n"
      ],
      "text/plain": [
       "  X1 Rank Year Movie                                Distributor\n",
       "1 0  1    2015 Star Wars Ep. VII: The Force Awakens Walt Disney\n",
       "2 1  2    2019 Avengers: Endgame                    Walt Disney\n",
       "3 2  3    2009 Avatar                               20th Cent… \n",
       "4 3  4    2018 Black Panther                        Walt Disney\n",
       "5 4  5    2018 Avengers: Infinity War               Walt Disney\n",
       "6 5  6    1997 Titanic                              Paramount… \n",
       "  DomesticBox Office InternationalBox Office WorldwideBox Office\n",
       "1 $936,662,225       $1,128,815,859          $2,065,478,084     \n",
       "2 $858,373,000       $1,939,427,564          $2,797,800,564     \n",
       "3 $760,507,625       $2,028,193,712          $2,788,701,337     \n",
       "4 $700,059,566       $636,434,755            $1,336,494,321     \n",
       "5 $678,815,482       $1,365,725,041          $2,044,540,523     \n",
       "6 $659,363,944       $1,548,622,601          $2,207,986,545     "
      ]
     },
     "metadata": {},
     "output_type": "display_data"
    }
   ],
   "source": [
    "head(top_movies)"
   ]
  },
  {
   "cell_type": "markdown",
   "metadata": {},
   "source": [
    "Question 3"
   ]
  },
  {
   "cell_type": "code",
   "execution_count": 10,
   "metadata": {},
   "outputs": [],
   "source": [
    "domestic_top_movies <- subset(top_movies, select = -c(`InternationalBox Office`,`WorldwideBox Office`))"
   ]
  },
  {
   "cell_type": "code",
   "execution_count": 11,
   "metadata": {},
   "outputs": [
    {
     "data": {
      "text/html": [
       "<table>\n",
       "<caption>A tibble: 6 × 6</caption>\n",
       "<thead>\n",
       "\t<tr><th scope=col>X1</th><th scope=col>Rank</th><th scope=col>Year</th><th scope=col>Movie</th><th scope=col>Distributor</th><th scope=col>DomesticBox Office</th></tr>\n",
       "\t<tr><th scope=col>&lt;dbl&gt;</th><th scope=col>&lt;dbl&gt;</th><th scope=col>&lt;dbl&gt;</th><th scope=col>&lt;chr&gt;</th><th scope=col>&lt;chr&gt;</th><th scope=col>&lt;chr&gt;</th></tr>\n",
       "</thead>\n",
       "<tbody>\n",
       "\t<tr><td>0</td><td>1</td><td>2015</td><td>Star Wars Ep. VII: The Force Awakens</td><td>Walt Disney</td><td>$936,662,225</td></tr>\n",
       "\t<tr><td>1</td><td>2</td><td>2019</td><td>Avengers: Endgame                   </td><td>Walt Disney</td><td>$858,373,000</td></tr>\n",
       "\t<tr><td>2</td><td>3</td><td>2009</td><td>Avatar                              </td><td>20th Cent… </td><td>$760,507,625</td></tr>\n",
       "\t<tr><td>3</td><td>4</td><td>2018</td><td>Black Panther                       </td><td>Walt Disney</td><td>$700,059,566</td></tr>\n",
       "\t<tr><td>4</td><td>5</td><td>2018</td><td>Avengers: Infinity War              </td><td>Walt Disney</td><td>$678,815,482</td></tr>\n",
       "\t<tr><td>5</td><td>6</td><td>1997</td><td>Titanic                             </td><td>Paramount… </td><td>$659,363,944</td></tr>\n",
       "</tbody>\n",
       "</table>\n"
      ],
      "text/latex": [
       "A tibble: 6 × 6\n",
       "\\begin{tabular}{llllll}\n",
       " X1 & Rank & Year & Movie & Distributor & DomesticBox Office\\\\\n",
       " <dbl> & <dbl> & <dbl> & <chr> & <chr> & <chr>\\\\\n",
       "\\hline\n",
       "\t 0 & 1 & 2015 & Star Wars Ep. VII: The Force Awakens & Walt Disney & \\$936,662,225\\\\\n",
       "\t 1 & 2 & 2019 & Avengers: Endgame                    & Walt Disney & \\$858,373,000\\\\\n",
       "\t 2 & 3 & 2009 & Avatar                               & 20th Cent…  & \\$760,507,625\\\\\n",
       "\t 3 & 4 & 2018 & Black Panther                        & Walt Disney & \\$700,059,566\\\\\n",
       "\t 4 & 5 & 2018 & Avengers: Infinity War               & Walt Disney & \\$678,815,482\\\\\n",
       "\t 5 & 6 & 1997 & Titanic                              & Paramount…  & \\$659,363,944\\\\\n",
       "\\end{tabular}\n"
      ],
      "text/markdown": [
       "\n",
       "A tibble: 6 × 6\n",
       "\n",
       "| X1 &lt;dbl&gt; | Rank &lt;dbl&gt; | Year &lt;dbl&gt; | Movie &lt;chr&gt; | Distributor &lt;chr&gt; | DomesticBox Office &lt;chr&gt; |\n",
       "|---|---|---|---|---|---|\n",
       "| 0 | 1 | 2015 | Star Wars Ep. VII: The Force Awakens | Walt Disney | $936,662,225 |\n",
       "| 1 | 2 | 2019 | Avengers: Endgame                    | Walt Disney | $858,373,000 |\n",
       "| 2 | 3 | 2009 | Avatar                               | 20th Cent…  | $760,507,625 |\n",
       "| 3 | 4 | 2018 | Black Panther                        | Walt Disney | $700,059,566 |\n",
       "| 4 | 5 | 2018 | Avengers: Infinity War               | Walt Disney | $678,815,482 |\n",
       "| 5 | 6 | 1997 | Titanic                              | Paramount…  | $659,363,944 |\n",
       "\n"
      ],
      "text/plain": [
       "  X1 Rank Year Movie                                Distributor\n",
       "1 0  1    2015 Star Wars Ep. VII: The Force Awakens Walt Disney\n",
       "2 1  2    2019 Avengers: Endgame                    Walt Disney\n",
       "3 2  3    2009 Avatar                               20th Cent… \n",
       "4 3  4    2018 Black Panther                        Walt Disney\n",
       "5 4  5    2018 Avengers: Infinity War               Walt Disney\n",
       "6 5  6    1997 Titanic                              Paramount… \n",
       "  DomesticBox Office\n",
       "1 $936,662,225      \n",
       "2 $858,373,000      \n",
       "3 $760,507,625      \n",
       "4 $700,059,566      \n",
       "5 $678,815,482      \n",
       "6 $659,363,944      "
      ]
     },
     "metadata": {},
     "output_type": "display_data"
    }
   ],
   "source": [
    "head(domestic_top_movies)"
   ]
  },
  {
   "cell_type": "markdown",
   "metadata": {},
   "source": [
    "Question 4"
   ]
  },
  {
   "cell_type": "code",
   "execution_count": 12,
   "metadata": {},
   "outputs": [
    {
     "data": {
      "text/html": [
       "100"
      ],
      "text/latex": [
       "100"
      ],
      "text/markdown": [
       "100"
      ],
      "text/plain": [
       "[1] 100"
      ]
     },
     "metadata": {},
     "output_type": "display_data"
    }
   ],
   "source": [
    "nrow(domestic_top_movies)"
   ]
  },
  {
   "cell_type": "code",
   "execution_count": 13,
   "metadata": {},
   "outputs": [],
   "source": [
    "produced_by_WD <- filter(domestic_top_movies,\n",
    "                        Distributor==\"Walt Disney\")"
   ]
  },
  {
   "cell_type": "code",
   "execution_count": 14,
   "metadata": {},
   "outputs": [
    {
     "data": {
      "text/html": [
       "36"
      ],
      "text/latex": [
       "36"
      ],
      "text/markdown": [
       "36"
      ],
      "text/plain": [
       "[1] 36"
      ]
     },
     "metadata": {},
     "output_type": "display_data"
    }
   ],
   "source": [
    "nrow(produced_by_WD)"
   ]
  },
  {
   "cell_type": "code",
   "execution_count": 15,
   "metadata": {},
   "outputs": [],
   "source": [
    "percent_of_top_100 = nrow(produced_by_WD)/nrow(domestic_top_movies)"
   ]
  },
  {
   "cell_type": "code",
   "execution_count": 16,
   "metadata": {},
   "outputs": [
    {
     "data": {
      "text/html": [
       "0.36"
      ],
      "text/latex": [
       "0.36"
      ],
      "text/markdown": [
       "0.36"
      ],
      "text/plain": [
       "[1] 0.36"
      ]
     },
     "metadata": {},
     "output_type": "display_data"
    }
   ],
   "source": [
    "percent_of_top_100"
   ]
  },
  {
   "cell_type": "markdown",
   "metadata": {},
   "source": [
    "Question 5"
   ]
  },
  {
   "cell_type": "code",
   "execution_count": 3,
   "metadata": {},
   "outputs": [
    {
     "data": {
      "text/html": [
       "0.270841535737092"
      ],
      "text/latex": [
       "0.270841535737092"
      ],
      "text/markdown": [
       "0.270841535737092"
      ],
      "text/plain": [
       "[1] 0.2708415"
      ]
     },
     "metadata": {},
     "output_type": "display_data"
    }
   ],
   "source": [
    "pbinom(4,\n",
    "      10,\n",
    "      .36,\n",
    "      lower.tail = FALSE,\n",
    "      )"
   ]
  },
  {
   "cell_type": "code",
   "execution_count": 18,
   "metadata": {},
   "outputs": [],
   "source": [
    "help(rbinom)"
   ]
  },
  {
   "cell_type": "markdown",
   "metadata": {},
   "source": [
    "Question 6"
   ]
  },
  {
   "cell_type": "code",
   "execution_count": 19,
   "metadata": {},
   "outputs": [
    {
     "data": {
      "text/html": [
       "25"
      ],
      "text/latex": [
       "25"
      ],
      "text/markdown": [
       "25"
      ],
      "text/plain": [
       "[1] 25"
      ]
     },
     "metadata": {},
     "output_type": "display_data"
    }
   ],
   "source": [
    "qbinom(.95,\n",
    "       89,\n",
    "       .36,\n",
    "       lower.tail = FALSE\n",
    "      )"
   ]
  },
  {
   "cell_type": "code",
   "execution_count": 20,
   "metadata": {},
   "outputs": [
    {
     "data": {
      "text/html": [
       "0.954254852410539"
      ],
      "text/latex": [
       "0.954254852410539"
      ],
      "text/markdown": [
       "0.954254852410539"
      ],
      "text/plain": [
       "[1] 0.9542549"
      ]
     },
     "metadata": {},
     "output_type": "display_data"
    }
   ],
   "source": [
    "pbinom(24,\n",
    "       89,\n",
    "       .36,\n",
    "       lower.tail = FALSE\n",
    "      )"
   ]
  },
  {
   "cell_type": "markdown",
   "metadata": {},
   "source": [
    "With a 95% confidence, at least 24 movies out of the top movies from 2021 will be produced by Walt Disney"
   ]
  },
  {
   "cell_type": "code",
   "execution_count": null,
   "metadata": {},
   "outputs": [],
   "source": []
  }
 ],
 "metadata": {
  "kernelspec": {
   "display_name": "R",
   "language": "R",
   "name": "ir"
  },
  "language_info": {
   "codemirror_mode": "r",
   "file_extension": ".r",
   "mimetype": "text/x-r-source",
   "name": "R",
   "pygments_lexer": "r",
   "version": "4.0.3"
  }
 },
 "nbformat": 4,
 "nbformat_minor": 4
}
